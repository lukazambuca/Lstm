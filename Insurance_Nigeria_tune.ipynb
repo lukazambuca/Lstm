{
 "cells": [
  {
   "cell_type": "markdown",
   "metadata": {},
   "source": [
    "# Data Science Nigeria 2019 Challenge: Insurance Prediction"
   ]
  },
  {
   "cell_type": "markdown",
   "metadata": {},
   "source": [
    "## Problem Statement "
   ]
  },
  {
   "cell_type": "markdown",
   "metadata": {},
   "source": [
    "Recently, there has been an increase in the number of building collapse in Lagos and major cities in Nigeria. Olusola Insurance Company offers a building insurance policy that protects buildings against damages that could be caused by a fire or vandalism, by a flood or storm.\n",
    "\n",
    "You have been appointed as the Lead Data Analyst to build a predictive model to determine if a building will have an insurance claim during a certain period or not. You will have to predict the probability of having at least one claim over the insured period of the building.\n",
    "\n",
    "The model will be based on the building characteristics. The target variable, Claim, is a:\n",
    "\n",
    "1 if the building has at least a claim over the insured period.\n",
    "\n",
    "0 if the building doesn’t have a claim over the insured period."
   ]
  },
  {
   "cell_type": "markdown",
   "metadata": {},
   "source": [
    "**Import libraries**"
   ]
  },
  {
   "cell_type": "code",
   "execution_count": 1,
   "metadata": {},
   "outputs": [],
   "source": [
    "import pandas as pd\n",
    "import numpy as np\n",
    "import matplotlib.pyplot as plt\n",
    "import seaborn as sns\n",
    "%matplotlib inline"
   ]
  },
  {
   "cell_type": "markdown",
   "metadata": {},
   "source": [
    "**Import Data**\n",
    "\n",
    "The data can be downloaded on Zindi's competition site:https://zindi.africa/competitions/data-science-nigeria-2019-challenge-1-insurance-prediction/data"
   ]
  },
  {
   "cell_type": "code",
   "execution_count": 65,
   "metadata": {},
   "outputs": [],
   "source": [
    "train = pd.read_csv('/Users/lukabeverin/Documents/Zindi/Nigeria Insurance/train_data.csv')\n",
    "test = pd.read_csv('/Users/lukabeverin/Documents/Zindi/Nigeria Insurance/test_data.csv')\n",
    "variables = pd.read_csv('/Users/lukabeverin/Documents/Zindi/Nigeria Insurance/VariableDescription.csv')"
   ]
  },
  {
   "cell_type": "markdown",
   "metadata": {},
   "source": [
    "# Explatory Data Analysis "
   ]
  },
  {
   "cell_type": "markdown",
   "metadata": {},
   "source": [
    "Let's explore the variable descriptions."
   ]
  },
  {
   "cell_type": "code",
   "execution_count": 3,
   "metadata": {},
   "outputs": [
    {
     "data": {
      "text/html": [
       "<div>\n",
       "<style scoped>\n",
       "    .dataframe tbody tr th:only-of-type {\n",
       "        vertical-align: middle;\n",
       "    }\n",
       "\n",
       "    .dataframe tbody tr th {\n",
       "        vertical-align: top;\n",
       "    }\n",
       "\n",
       "    .dataframe thead th {\n",
       "        text-align: right;\n",
       "    }\n",
       "</style>\n",
       "<table border=\"1\" class=\"dataframe\">\n",
       "  <thead>\n",
       "    <tr style=\"text-align: right;\">\n",
       "      <th></th>\n",
       "      <th>Variable</th>\n",
       "      <th>Description</th>\n",
       "    </tr>\n",
       "  </thead>\n",
       "  <tbody>\n",
       "    <tr>\n",
       "      <td>0</td>\n",
       "      <td>Customer Id</td>\n",
       "      <td>Identification number for the Policy holder</td>\n",
       "    </tr>\n",
       "    <tr>\n",
       "      <td>1</td>\n",
       "      <td>YearOfObservation</td>\n",
       "      <td>year of observation for the insured policy</td>\n",
       "    </tr>\n",
       "    <tr>\n",
       "      <td>2</td>\n",
       "      <td>Insured_Period</td>\n",
       "      <td>duration of insurance policy in Olusola Insura...</td>\n",
       "    </tr>\n",
       "    <tr>\n",
       "      <td>3</td>\n",
       "      <td>Residential</td>\n",
       "      <td>is the building a residential building or not</td>\n",
       "    </tr>\n",
       "    <tr>\n",
       "      <td>4</td>\n",
       "      <td>Building_Painted</td>\n",
       "      <td>is the building painted or not (N-Painted, V-N...</td>\n",
       "    </tr>\n",
       "    <tr>\n",
       "      <td>5</td>\n",
       "      <td>Building_Fenced</td>\n",
       "      <td>is the building fence or not (N-Fenced, V-Not ...</td>\n",
       "    </tr>\n",
       "    <tr>\n",
       "      <td>6</td>\n",
       "      <td>Garden</td>\n",
       "      <td>building has garden or not (V-has garden; O-no...</td>\n",
       "    </tr>\n",
       "    <tr>\n",
       "      <td>7</td>\n",
       "      <td>Settlement</td>\n",
       "      <td>Area where the building is located. (R- rural ...</td>\n",
       "    </tr>\n",
       "    <tr>\n",
       "      <td>8</td>\n",
       "      <td>Building Dimension</td>\n",
       "      <td>Size of the insured building in m2</td>\n",
       "    </tr>\n",
       "    <tr>\n",
       "      <td>9</td>\n",
       "      <td>Building_Type</td>\n",
       "      <td>The type of building (Type 1, 2, 3, 4)</td>\n",
       "    </tr>\n",
       "    <tr>\n",
       "      <td>10</td>\n",
       "      <td>Date_of_Occupancy</td>\n",
       "      <td>date building was first occupied</td>\n",
       "    </tr>\n",
       "    <tr>\n",
       "      <td>11</td>\n",
       "      <td>NumberOfWindows</td>\n",
       "      <td>number of windows in the building</td>\n",
       "    </tr>\n",
       "    <tr>\n",
       "      <td>12</td>\n",
       "      <td>Geo Code</td>\n",
       "      <td>Geographical Code of the Insured building</td>\n",
       "    </tr>\n",
       "    <tr>\n",
       "      <td>13</td>\n",
       "      <td>Claim</td>\n",
       "      <td>target variable. (0: no claim, 1: at least one...</td>\n",
       "    </tr>\n",
       "  </tbody>\n",
       "</table>\n",
       "</div>"
      ],
      "text/plain": [
       "              Variable                                        Description\n",
       "0          Customer Id        Identification number for the Policy holder\n",
       "1    YearOfObservation         year of observation for the insured policy\n",
       "2       Insured_Period  duration of insurance policy in Olusola Insura...\n",
       "3          Residential      is the building a residential building or not\n",
       "4     Building_Painted  is the building painted or not (N-Painted, V-N...\n",
       "5      Building_Fenced  is the building fence or not (N-Fenced, V-Not ...\n",
       "6               Garden  building has garden or not (V-has garden; O-no...\n",
       "7           Settlement  Area where the building is located. (R- rural ...\n",
       "8   Building Dimension                 Size of the insured building in m2\n",
       "9        Building_Type             The type of building (Type 1, 2, 3, 4)\n",
       "10   Date_of_Occupancy                   date building was first occupied\n",
       "11     NumberOfWindows                  number of windows in the building\n",
       "12            Geo Code          Geographical Code of the Insured building\n",
       "13               Claim  target variable. (0: no claim, 1: at least one..."
      ]
     },
     "execution_count": 3,
     "metadata": {},
     "output_type": "execute_result"
    }
   ],
   "source": [
    "variables"
   ]
  },
  {
   "cell_type": "markdown",
   "metadata": {},
   "source": [
    "And now the data set."
   ]
  },
  {
   "cell_type": "code",
   "execution_count": 4,
   "metadata": {},
   "outputs": [
    {
     "data": {
      "text/html": [
       "<div>\n",
       "<style scoped>\n",
       "    .dataframe tbody tr th:only-of-type {\n",
       "        vertical-align: middle;\n",
       "    }\n",
       "\n",
       "    .dataframe tbody tr th {\n",
       "        vertical-align: top;\n",
       "    }\n",
       "\n",
       "    .dataframe thead th {\n",
       "        text-align: right;\n",
       "    }\n",
       "</style>\n",
       "<table border=\"1\" class=\"dataframe\">\n",
       "  <thead>\n",
       "    <tr style=\"text-align: right;\">\n",
       "      <th></th>\n",
       "      <th>Customer Id</th>\n",
       "      <th>YearOfObservation</th>\n",
       "      <th>Insured_Period</th>\n",
       "      <th>Residential</th>\n",
       "      <th>Building_Painted</th>\n",
       "      <th>Building_Fenced</th>\n",
       "      <th>Garden</th>\n",
       "      <th>Settlement</th>\n",
       "      <th>Building Dimension</th>\n",
       "      <th>Building_Type</th>\n",
       "      <th>Date_of_Occupancy</th>\n",
       "      <th>NumberOfWindows</th>\n",
       "      <th>Geo_Code</th>\n",
       "      <th>Claim</th>\n",
       "    </tr>\n",
       "  </thead>\n",
       "  <tbody>\n",
       "    <tr>\n",
       "      <td>0</td>\n",
       "      <td>H14663</td>\n",
       "      <td>2013</td>\n",
       "      <td>1.0</td>\n",
       "      <td>0</td>\n",
       "      <td>N</td>\n",
       "      <td>V</td>\n",
       "      <td>V</td>\n",
       "      <td>U</td>\n",
       "      <td>290.0</td>\n",
       "      <td>1</td>\n",
       "      <td>1960.0</td>\n",
       "      <td>.</td>\n",
       "      <td>1053</td>\n",
       "      <td>0</td>\n",
       "    </tr>\n",
       "    <tr>\n",
       "      <td>1</td>\n",
       "      <td>H2037</td>\n",
       "      <td>2015</td>\n",
       "      <td>1.0</td>\n",
       "      <td>0</td>\n",
       "      <td>V</td>\n",
       "      <td>N</td>\n",
       "      <td>O</td>\n",
       "      <td>R</td>\n",
       "      <td>490.0</td>\n",
       "      <td>1</td>\n",
       "      <td>1850.0</td>\n",
       "      <td>4</td>\n",
       "      <td>1053</td>\n",
       "      <td>0</td>\n",
       "    </tr>\n",
       "    <tr>\n",
       "      <td>2</td>\n",
       "      <td>H3802</td>\n",
       "      <td>2014</td>\n",
       "      <td>1.0</td>\n",
       "      <td>0</td>\n",
       "      <td>N</td>\n",
       "      <td>V</td>\n",
       "      <td>V</td>\n",
       "      <td>U</td>\n",
       "      <td>595.0</td>\n",
       "      <td>1</td>\n",
       "      <td>1960.0</td>\n",
       "      <td>.</td>\n",
       "      <td>1053</td>\n",
       "      <td>0</td>\n",
       "    </tr>\n",
       "    <tr>\n",
       "      <td>3</td>\n",
       "      <td>H3834</td>\n",
       "      <td>2013</td>\n",
       "      <td>1.0</td>\n",
       "      <td>0</td>\n",
       "      <td>V</td>\n",
       "      <td>V</td>\n",
       "      <td>V</td>\n",
       "      <td>U</td>\n",
       "      <td>2840.0</td>\n",
       "      <td>1</td>\n",
       "      <td>1960.0</td>\n",
       "      <td>.</td>\n",
       "      <td>1053</td>\n",
       "      <td>0</td>\n",
       "    </tr>\n",
       "    <tr>\n",
       "      <td>4</td>\n",
       "      <td>H5053</td>\n",
       "      <td>2014</td>\n",
       "      <td>1.0</td>\n",
       "      <td>0</td>\n",
       "      <td>V</td>\n",
       "      <td>N</td>\n",
       "      <td>O</td>\n",
       "      <td>R</td>\n",
       "      <td>680.0</td>\n",
       "      <td>1</td>\n",
       "      <td>1800.0</td>\n",
       "      <td>3</td>\n",
       "      <td>1053</td>\n",
       "      <td>0</td>\n",
       "    </tr>\n",
       "  </tbody>\n",
       "</table>\n",
       "</div>"
      ],
      "text/plain": [
       "  Customer Id  YearOfObservation  Insured_Period  Residential  \\\n",
       "0      H14663               2013             1.0            0   \n",
       "1       H2037               2015             1.0            0   \n",
       "2       H3802               2014             1.0            0   \n",
       "3       H3834               2013             1.0            0   \n",
       "4       H5053               2014             1.0            0   \n",
       "\n",
       "  Building_Painted Building_Fenced Garden Settlement  Building Dimension  \\\n",
       "0                N               V      V          U               290.0   \n",
       "1                V               N      O          R               490.0   \n",
       "2                N               V      V          U               595.0   \n",
       "3                V               V      V          U              2840.0   \n",
       "4                V               N      O          R               680.0   \n",
       "\n",
       "   Building_Type  Date_of_Occupancy NumberOfWindows Geo_Code  Claim  \n",
       "0              1             1960.0               .     1053      0  \n",
       "1              1             1850.0               4     1053      0  \n",
       "2              1             1960.0               .     1053      0  \n",
       "3              1             1960.0               .     1053      0  \n",
       "4              1             1800.0               3     1053      0  "
      ]
     },
     "execution_count": 4,
     "metadata": {},
     "output_type": "execute_result"
    }
   ],
   "source": [
    "train.head()"
   ]
  },
  {
   "cell_type": "markdown",
   "metadata": {},
   "source": [
    "Set the index to Customer Id"
   ]
  },
  {
   "cell_type": "code",
   "execution_count": 78,
   "metadata": {},
   "outputs": [],
   "source": [
    "train = train.set_index('Customer Id')"
   ]
  },
  {
   "cell_type": "markdown",
   "metadata": {},
   "source": [
    "By calling the shape attribute of the train dataset we observe that there are 7160 observations and 13 columns in the data set"
   ]
  },
  {
   "cell_type": "code",
   "execution_count": 6,
   "metadata": {},
   "outputs": [
    {
     "data": {
      "text/plain": [
       "(7160, 13)"
      ]
     },
     "execution_count": 6,
     "metadata": {},
     "output_type": "execute_result"
    }
   ],
   "source": [
    "train.shape"
   ]
  },
  {
   "cell_type": "markdown",
   "metadata": {},
   "source": [
    "Now we identify the data types of the 14 columns and add it to a dictionary. We then identify missing values of the columns and add the stats to the datadict. Next we identify number of unique values for each column. Also, identify the count for each variable. Finally, rename the 0 column in the datadict."
   ]
  },
  {
   "cell_type": "code",
   "execution_count": 7,
   "metadata": {},
   "outputs": [
    {
     "data": {
      "text/html": [
       "<div>\n",
       "<style scoped>\n",
       "    .dataframe tbody tr th:only-of-type {\n",
       "        vertical-align: middle;\n",
       "    }\n",
       "\n",
       "    .dataframe tbody tr th {\n",
       "        vertical-align: top;\n",
       "    }\n",
       "\n",
       "    .dataframe thead th {\n",
       "        text-align: right;\n",
       "    }\n",
       "</style>\n",
       "<table border=\"1\" class=\"dataframe\">\n",
       "  <thead>\n",
       "    <tr style=\"text-align: right;\">\n",
       "      <th></th>\n",
       "      <th>DataType</th>\n",
       "      <th>MissingVal</th>\n",
       "      <th>NUnique</th>\n",
       "      <th>Count</th>\n",
       "    </tr>\n",
       "  </thead>\n",
       "  <tbody>\n",
       "    <tr>\n",
       "      <td>YearOfObservation</td>\n",
       "      <td>int64</td>\n",
       "      <td>0</td>\n",
       "      <td>5</td>\n",
       "      <td>7160</td>\n",
       "    </tr>\n",
       "    <tr>\n",
       "      <td>Insured_Period</td>\n",
       "      <td>float64</td>\n",
       "      <td>0</td>\n",
       "      <td>401</td>\n",
       "      <td>7160</td>\n",
       "    </tr>\n",
       "    <tr>\n",
       "      <td>Residential</td>\n",
       "      <td>int64</td>\n",
       "      <td>0</td>\n",
       "      <td>2</td>\n",
       "      <td>7160</td>\n",
       "    </tr>\n",
       "    <tr>\n",
       "      <td>Building_Painted</td>\n",
       "      <td>object</td>\n",
       "      <td>0</td>\n",
       "      <td>2</td>\n",
       "      <td>7160</td>\n",
       "    </tr>\n",
       "    <tr>\n",
       "      <td>Building_Fenced</td>\n",
       "      <td>object</td>\n",
       "      <td>0</td>\n",
       "      <td>2</td>\n",
       "      <td>7160</td>\n",
       "    </tr>\n",
       "    <tr>\n",
       "      <td>Garden</td>\n",
       "      <td>object</td>\n",
       "      <td>7</td>\n",
       "      <td>2</td>\n",
       "      <td>7153</td>\n",
       "    </tr>\n",
       "    <tr>\n",
       "      <td>Settlement</td>\n",
       "      <td>object</td>\n",
       "      <td>0</td>\n",
       "      <td>2</td>\n",
       "      <td>7160</td>\n",
       "    </tr>\n",
       "    <tr>\n",
       "      <td>Building Dimension</td>\n",
       "      <td>float64</td>\n",
       "      <td>106</td>\n",
       "      <td>2043</td>\n",
       "      <td>7054</td>\n",
       "    </tr>\n",
       "    <tr>\n",
       "      <td>Building_Type</td>\n",
       "      <td>int64</td>\n",
       "      <td>0</td>\n",
       "      <td>4</td>\n",
       "      <td>7160</td>\n",
       "    </tr>\n",
       "    <tr>\n",
       "      <td>Date_of_Occupancy</td>\n",
       "      <td>float64</td>\n",
       "      <td>508</td>\n",
       "      <td>134</td>\n",
       "      <td>6652</td>\n",
       "    </tr>\n",
       "    <tr>\n",
       "      <td>NumberOfWindows</td>\n",
       "      <td>object</td>\n",
       "      <td>0</td>\n",
       "      <td>11</td>\n",
       "      <td>7160</td>\n",
       "    </tr>\n",
       "    <tr>\n",
       "      <td>Geo_Code</td>\n",
       "      <td>object</td>\n",
       "      <td>102</td>\n",
       "      <td>1307</td>\n",
       "      <td>7058</td>\n",
       "    </tr>\n",
       "    <tr>\n",
       "      <td>Claim</td>\n",
       "      <td>int64</td>\n",
       "      <td>0</td>\n",
       "      <td>2</td>\n",
       "      <td>7160</td>\n",
       "    </tr>\n",
       "  </tbody>\n",
       "</table>\n",
       "</div>"
      ],
      "text/plain": [
       "                   DataType  MissingVal  NUnique  Count\n",
       "YearOfObservation     int64           0        5   7160\n",
       "Insured_Period      float64           0      401   7160\n",
       "Residential           int64           0        2   7160\n",
       "Building_Painted     object           0        2   7160\n",
       "Building_Fenced      object           0        2   7160\n",
       "Garden               object           7        2   7153\n",
       "Settlement           object           0        2   7160\n",
       "Building Dimension  float64         106     2043   7054\n",
       "Building_Type         int64           0        4   7160\n",
       "Date_of_Occupancy   float64         508      134   6652\n",
       "NumberOfWindows      object           0       11   7160\n",
       "Geo_Code             object         102     1307   7058\n",
       "Claim                 int64           0        2   7160"
      ]
     },
     "execution_count": 7,
     "metadata": {},
     "output_type": "execute_result"
    }
   ],
   "source": [
    "#Data types\n",
    "datadict = pd.DataFrame(train.dtypes)\n",
    "#Missing values\n",
    "datadict['MissingVal'] = train.isnull().sum()\n",
    "#Unique values\n",
    "datadict['NUnique']=train.nunique()\n",
    "#Count of variable\n",
    "datadict['Count']=train.count()\n",
    "#Rename 0 to datatype\n",
    "datadict = datadict.rename(columns={0:'DataType'})\n",
    "datadict"
   ]
  },
  {
   "cell_type": "markdown",
   "metadata": {},
   "source": [
    "Having **missing values** in a dataset can cause errors with some machine learning algorithms and either the rows that has missing values should be removed or imputed \n",
    "Imputing refers to using a model to replace missing values.\n",
    "\n",
    "There are many options we could consider when replacing a missing value, for example:\n",
    "\n",
    "1) constant value that has meaning within the domain, such as 0, distinct from all other values.\n",
    "\n",
    "2) value from another randomly selected record.\n",
    "\n",
    "3) mean, median or mode value for the column.\n",
    "\n",
    "4) value estimated by another predictive model.\n",
    "\n",
    "The columns Garden, Building dimension, Date_of_Occupancy and Geo_code have missing values. The 7 missing values from the Garden col are likely to human error and data handling errors. For example, the form given out by the insurance company might not have been clear enough about the description of a 'garden', or customers simply just did not enter this data. We suspect that the missing values from the other columns are due to lack of information from this customers side. Regardless, customers should know the geographical area of their residence. Some form of geo-location technology could help with data capturing with respect to geo codes. It would not be a surprise that many customers do not know their building dimesions or date of occupancy. These values could be replaced by the mean or meadian value for the column. "
   ]
  },
  {
   "cell_type": "markdown",
   "metadata": {},
   "source": [
    "## Descriptive Statistics"
   ]
  },
  {
   "cell_type": "markdown",
   "metadata": {},
   "source": [
    "Discriptive statistics of **object** datatypes"
   ]
  },
  {
   "cell_type": "code",
   "execution_count": 8,
   "metadata": {},
   "outputs": [
    {
     "data": {
      "text/html": [
       "<div>\n",
       "<style scoped>\n",
       "    .dataframe tbody tr th:only-of-type {\n",
       "        vertical-align: middle;\n",
       "    }\n",
       "\n",
       "    .dataframe tbody tr th {\n",
       "        vertical-align: top;\n",
       "    }\n",
       "\n",
       "    .dataframe thead th {\n",
       "        text-align: right;\n",
       "    }\n",
       "</style>\n",
       "<table border=\"1\" class=\"dataframe\">\n",
       "  <thead>\n",
       "    <tr style=\"text-align: right;\">\n",
       "      <th></th>\n",
       "      <th>Building_Painted</th>\n",
       "      <th>Building_Fenced</th>\n",
       "      <th>Garden</th>\n",
       "      <th>Settlement</th>\n",
       "      <th>NumberOfWindows</th>\n",
       "      <th>Geo_Code</th>\n",
       "    </tr>\n",
       "  </thead>\n",
       "  <tbody>\n",
       "    <tr>\n",
       "      <td>count</td>\n",
       "      <td>7160</td>\n",
       "      <td>7160</td>\n",
       "      <td>7153</td>\n",
       "      <td>7160</td>\n",
       "      <td>7160</td>\n",
       "      <td>7058</td>\n",
       "    </tr>\n",
       "    <tr>\n",
       "      <td>unique</td>\n",
       "      <td>2</td>\n",
       "      <td>2</td>\n",
       "      <td>2</td>\n",
       "      <td>2</td>\n",
       "      <td>11</td>\n",
       "      <td>1307</td>\n",
       "    </tr>\n",
       "    <tr>\n",
       "      <td>top</td>\n",
       "      <td>V</td>\n",
       "      <td>N</td>\n",
       "      <td>O</td>\n",
       "      <td>R</td>\n",
       "      <td>.</td>\n",
       "      <td>6088</td>\n",
       "    </tr>\n",
       "    <tr>\n",
       "      <td>freq</td>\n",
       "      <td>5382</td>\n",
       "      <td>3608</td>\n",
       "      <td>3602</td>\n",
       "      <td>3610</td>\n",
       "      <td>3551</td>\n",
       "      <td>143</td>\n",
       "    </tr>\n",
       "  </tbody>\n",
       "</table>\n",
       "</div>"
      ],
      "text/plain": [
       "       Building_Painted Building_Fenced Garden Settlement NumberOfWindows  \\\n",
       "count              7160            7160   7153       7160            7160   \n",
       "unique                2               2      2          2              11   \n",
       "top                   V               N      O          R               .   \n",
       "freq               5382            3608   3602       3610            3551   \n",
       "\n",
       "       Geo_Code  \n",
       "count      7058  \n",
       "unique     1307  \n",
       "top        6088  \n",
       "freq        143  "
      ]
     },
     "execution_count": 8,
     "metadata": {},
     "output_type": "execute_result"
    }
   ],
   "source": [
    "train.describe(include=['object'])"
   ]
  },
  {
   "cell_type": "markdown",
   "metadata": {},
   "source": [
    "Discriptive statistics of **value/number** datatypes"
   ]
  },
  {
   "cell_type": "code",
   "execution_count": 9,
   "metadata": {},
   "outputs": [
    {
     "data": {
      "text/html": [
       "<div>\n",
       "<style scoped>\n",
       "    .dataframe tbody tr th:only-of-type {\n",
       "        vertical-align: middle;\n",
       "    }\n",
       "\n",
       "    .dataframe tbody tr th {\n",
       "        vertical-align: top;\n",
       "    }\n",
       "\n",
       "    .dataframe thead th {\n",
       "        text-align: right;\n",
       "    }\n",
       "</style>\n",
       "<table border=\"1\" class=\"dataframe\">\n",
       "  <thead>\n",
       "    <tr style=\"text-align: right;\">\n",
       "      <th></th>\n",
       "      <th>YearOfObservation</th>\n",
       "      <th>Insured_Period</th>\n",
       "      <th>Residential</th>\n",
       "      <th>Building Dimension</th>\n",
       "      <th>Building_Type</th>\n",
       "      <th>Date_of_Occupancy</th>\n",
       "      <th>Claim</th>\n",
       "    </tr>\n",
       "  </thead>\n",
       "  <tbody>\n",
       "    <tr>\n",
       "      <td>count</td>\n",
       "      <td>7160.000000</td>\n",
       "      <td>7160.000000</td>\n",
       "      <td>7160.000000</td>\n",
       "      <td>7054.000000</td>\n",
       "      <td>7160.000000</td>\n",
       "      <td>6652.000000</td>\n",
       "      <td>7160.000000</td>\n",
       "    </tr>\n",
       "    <tr>\n",
       "      <td>mean</td>\n",
       "      <td>2013.669553</td>\n",
       "      <td>0.909758</td>\n",
       "      <td>0.305447</td>\n",
       "      <td>1883.727530</td>\n",
       "      <td>2.186034</td>\n",
       "      <td>1964.456404</td>\n",
       "      <td>0.228212</td>\n",
       "    </tr>\n",
       "    <tr>\n",
       "      <td>std</td>\n",
       "      <td>1.383769</td>\n",
       "      <td>0.239756</td>\n",
       "      <td>0.460629</td>\n",
       "      <td>2278.157745</td>\n",
       "      <td>0.940632</td>\n",
       "      <td>36.002014</td>\n",
       "      <td>0.419709</td>\n",
       "    </tr>\n",
       "    <tr>\n",
       "      <td>min</td>\n",
       "      <td>2012.000000</td>\n",
       "      <td>0.000000</td>\n",
       "      <td>0.000000</td>\n",
       "      <td>1.000000</td>\n",
       "      <td>1.000000</td>\n",
       "      <td>1545.000000</td>\n",
       "      <td>0.000000</td>\n",
       "    </tr>\n",
       "    <tr>\n",
       "      <td>25%</td>\n",
       "      <td>2012.000000</td>\n",
       "      <td>0.997268</td>\n",
       "      <td>0.000000</td>\n",
       "      <td>528.000000</td>\n",
       "      <td>2.000000</td>\n",
       "      <td>1960.000000</td>\n",
       "      <td>0.000000</td>\n",
       "    </tr>\n",
       "    <tr>\n",
       "      <td>50%</td>\n",
       "      <td>2013.000000</td>\n",
       "      <td>1.000000</td>\n",
       "      <td>0.000000</td>\n",
       "      <td>1083.000000</td>\n",
       "      <td>2.000000</td>\n",
       "      <td>1970.000000</td>\n",
       "      <td>0.000000</td>\n",
       "    </tr>\n",
       "    <tr>\n",
       "      <td>75%</td>\n",
       "      <td>2015.000000</td>\n",
       "      <td>1.000000</td>\n",
       "      <td>1.000000</td>\n",
       "      <td>2289.750000</td>\n",
       "      <td>3.000000</td>\n",
       "      <td>1980.000000</td>\n",
       "      <td>0.000000</td>\n",
       "    </tr>\n",
       "    <tr>\n",
       "      <td>max</td>\n",
       "      <td>2016.000000</td>\n",
       "      <td>1.000000</td>\n",
       "      <td>1.000000</td>\n",
       "      <td>20940.000000</td>\n",
       "      <td>4.000000</td>\n",
       "      <td>2016.000000</td>\n",
       "      <td>1.000000</td>\n",
       "    </tr>\n",
       "  </tbody>\n",
       "</table>\n",
       "</div>"
      ],
      "text/plain": [
       "       YearOfObservation  Insured_Period  Residential  Building Dimension  \\\n",
       "count        7160.000000     7160.000000  7160.000000         7054.000000   \n",
       "mean         2013.669553        0.909758     0.305447         1883.727530   \n",
       "std             1.383769        0.239756     0.460629         2278.157745   \n",
       "min          2012.000000        0.000000     0.000000            1.000000   \n",
       "25%          2012.000000        0.997268     0.000000          528.000000   \n",
       "50%          2013.000000        1.000000     0.000000         1083.000000   \n",
       "75%          2015.000000        1.000000     1.000000         2289.750000   \n",
       "max          2016.000000        1.000000     1.000000        20940.000000   \n",
       "\n",
       "       Building_Type  Date_of_Occupancy        Claim  \n",
       "count    7160.000000        6652.000000  7160.000000  \n",
       "mean        2.186034        1964.456404     0.228212  \n",
       "std         0.940632          36.002014     0.419709  \n",
       "min         1.000000        1545.000000     0.000000  \n",
       "25%         2.000000        1960.000000     0.000000  \n",
       "50%         2.000000        1970.000000     0.000000  \n",
       "75%         3.000000        1980.000000     0.000000  \n",
       "max         4.000000        2016.000000     1.000000  "
      ]
     },
     "execution_count": 9,
     "metadata": {},
     "output_type": "execute_result"
    }
   ],
   "source": [
    "train.describe(include=['number'])"
   ]
  },
  {
   "cell_type": "markdown",
   "metadata": {},
   "source": [
    "## Univariate Data Analysis"
   ]
  },
  {
   "cell_type": "markdown",
   "metadata": {},
   "source": [
    "Let's analyse the **number of claims** in the test data set"
   ]
  },
  {
   "cell_type": "code",
   "execution_count": 10,
   "metadata": {},
   "outputs": [
    {
     "data": {
      "text/plain": [
       "0    0.771788\n",
       "1    0.228212\n",
       "Name: Claim, dtype: float64"
      ]
     },
     "execution_count": 10,
     "metadata": {},
     "output_type": "execute_result"
    }
   ],
   "source": [
    "train.Claim.value_counts(normalize=True)"
   ]
  },
  {
   "cell_type": "markdown",
   "metadata": {},
   "source": [
    "22.82% of customers had at least a claim over the insured period whilst 77.18% did not claim over the insured period."
   ]
  },
  {
   "cell_type": "code",
   "execution_count": 11,
   "metadata": {},
   "outputs": [
    {
     "data": {
      "text/plain": [
       "<matplotlib.axes._subplots.AxesSubplot at 0x117306510>"
      ]
     },
     "execution_count": 11,
     "metadata": {},
     "output_type": "execute_result"
    },
    {
     "data": {
      "image/png": "[encoded data removed]",
      "text/plain": [
       "<Figure size 1152x1008 with 12 Axes>"
      ]
     },
     "metadata": {
      "needs_background": "light"
     },
     "output_type": "display_data"
    }
   ],
   "source": [
    "fig, axes = plt.subplots(4, 3, figsize=(16, 14))\n",
    "# Object data types (categorical)\n",
    "sns.countplot('Claim',data=train,ax=axes[0,0])\n",
    "sns.countplot('Building_Painted',data=train,ax=axes[0,1])\n",
    "sns.countplot('Residential',data=train,ax=axes[0,2])\n",
    "sns.countplot('Building_Fenced',data=train,ax=axes[1,0])\n",
    "sns.countplot('Building_Type',data=train,ax=axes[1,1])\n",
    "sns.countplot('NumberOfWindows',data=train,ax=axes[1,2])\n",
    "sns.countplot('Garden',data=train,ax=axes[2,0])\n",
    "sns.countplot('Settlement',data=train,ax=axes[2,1])\n",
    "sns.countplot('YearOfObservation',data=train,ax=axes[2,2])\n",
    "# Value data types (continious)\n",
    "sns.distplot(train['Insured_Period'].dropna(), kde=True,ax=axes[3,0])\n",
    "sns.distplot(train['Building Dimension'].dropna(),kde=True,ax=axes[3,1])\n",
    "sns.distplot(train['Date_of_Occupancy'].dropna(),kde=True,ax=axes[3,2])"
   ]
  },
  {
   "cell_type": "markdown",
   "metadata": {},
   "source": [
    "# Treat Missing Values"
   ]
  },
  {
   "cell_type": "markdown",
   "metadata": {},
   "source": [
    "For the **'Garden'** and **'Geo_Code'** columns, we remove rows that have missing values.\n",
    "Lets try and see what happens of we replace missing values with NaN string."
   ]
  },
  {
   "cell_type": "code",
   "execution_count": 12,
   "metadata": {},
   "outputs": [],
   "source": [
    "#train = train.dropna(axis=0, subset=['Garden','Geo_Code'])"
   ]
  },
  {
   "cell_type": "code",
   "execution_count": 66,
   "metadata": {},
   "outputs": [],
   "source": [
    "train[\"Garden\"].fillna(\"NaN\", inplace = True) \n",
    "train[\"Geo_Code\"].fillna(\"NaN\", inplace = True) "
   ]
  },
  {
   "cell_type": "markdown",
   "metadata": {},
   "source": [
    "The **'Building Dimension'** column does not have many outliers so we can use the mean value for missing value imputation."
   ]
  },
  {
   "cell_type": "code",
   "execution_count": 67,
   "metadata": {},
   "outputs": [],
   "source": [
    "train['Building Dimension'].fillna(train['Building Dimension'].mean(),inplace=True)"
   ]
  },
  {
   "cell_type": "markdown",
   "metadata": {},
   "source": [
    "The **'Date_of_occupancy'** column does not have a stable distribution. We use the median value for missing value imputation."
   ]
  },
  {
   "cell_type": "code",
   "execution_count": 68,
   "metadata": {},
   "outputs": [],
   "source": [
    "train['Date_of_Occupancy'].fillna(train['Date_of_Occupancy'].median(),inplace=True)"
   ]
  },
  {
   "cell_type": "markdown",
   "metadata": {},
   "source": [
    "Let's quickly check if we have correctly handled all the missing values in the dataset."
   ]
  },
  {
   "cell_type": "code",
   "execution_count": 69,
   "metadata": {},
   "outputs": [
    {
     "data": {
      "text/html": [
       "<div>\n",
       "<style scoped>\n",
       "    .dataframe tbody tr th:only-of-type {\n",
       "        vertical-align: middle;\n",
       "    }\n",
       "\n",
       "    .dataframe tbody tr th {\n",
       "        vertical-align: top;\n",
       "    }\n",
       "\n",
       "    .dataframe thead th {\n",
       "        text-align: right;\n",
       "    }\n",
       "</style>\n",
       "<table border=\"1\" class=\"dataframe\">\n",
       "  <thead>\n",
       "    <tr style=\"text-align: right;\">\n",
       "      <th></th>\n",
       "      <th>DataType</th>\n",
       "      <th>MissingVal</th>\n",
       "    </tr>\n",
       "  </thead>\n",
       "  <tbody>\n",
       "    <tr>\n",
       "      <td>Customer Id</td>\n",
       "      <td>object</td>\n",
       "      <td>0</td>\n",
       "    </tr>\n",
       "    <tr>\n",
       "      <td>YearOfObservation</td>\n",
       "      <td>int64</td>\n",
       "      <td>0</td>\n",
       "    </tr>\n",
       "    <tr>\n",
       "      <td>Insured_Period</td>\n",
       "      <td>float64</td>\n",
       "      <td>0</td>\n",
       "    </tr>\n",
       "    <tr>\n",
       "      <td>Residential</td>\n",
       "      <td>int64</td>\n",
       "      <td>0</td>\n",
       "    </tr>\n",
       "    <tr>\n",
       "      <td>Building_Painted</td>\n",
       "      <td>object</td>\n",
       "      <td>0</td>\n",
       "    </tr>\n",
       "    <tr>\n",
       "      <td>Building_Fenced</td>\n",
       "      <td>object</td>\n",
       "      <td>0</td>\n",
       "    </tr>\n",
       "    <tr>\n",
       "      <td>Garden</td>\n",
       "      <td>object</td>\n",
       "      <td>0</td>\n",
       "    </tr>\n",
       "    <tr>\n",
       "      <td>Settlement</td>\n",
       "      <td>object</td>\n",
       "      <td>0</td>\n",
       "    </tr>\n",
       "    <tr>\n",
       "      <td>Building Dimension</td>\n",
       "      <td>float64</td>\n",
       "      <td>0</td>\n",
       "    </tr>\n",
       "    <tr>\n",
       "      <td>Building_Type</td>\n",
       "      <td>int64</td>\n",
       "      <td>0</td>\n",
       "    </tr>\n",
       "    <tr>\n",
       "      <td>Date_of_Occupancy</td>\n",
       "      <td>float64</td>\n",
       "      <td>0</td>\n",
       "    </tr>\n",
       "    <tr>\n",
       "      <td>NumberOfWindows</td>\n",
       "      <td>object</td>\n",
       "      <td>0</td>\n",
       "    </tr>\n",
       "    <tr>\n",
       "      <td>Geo_Code</td>\n",
       "      <td>object</td>\n",
       "      <td>0</td>\n",
       "    </tr>\n",
       "    <tr>\n",
       "      <td>Claim</td>\n",
       "      <td>int64</td>\n",
       "      <td>0</td>\n",
       "    </tr>\n",
       "  </tbody>\n",
       "</table>\n",
       "</div>"
      ],
      "text/plain": [
       "                   DataType  MissingVal\n",
       "Customer Id          object           0\n",
       "YearOfObservation     int64           0\n",
       "Insured_Period      float64           0\n",
       "Residential           int64           0\n",
       "Building_Painted     object           0\n",
       "Building_Fenced      object           0\n",
       "Garden               object           0\n",
       "Settlement           object           0\n",
       "Building Dimension  float64           0\n",
       "Building_Type         int64           0\n",
       "Date_of_Occupancy   float64           0\n",
       "NumberOfWindows      object           0\n",
       "Geo_Code             object           0\n",
       "Claim                 int64           0"
      ]
     },
     "execution_count": 69,
     "metadata": {},
     "output_type": "execute_result"
    }
   ],
   "source": [
    "datadict_new = pd.DataFrame(train.dtypes)\n",
    "datadict_new['MissingVal'] = train.isnull().sum()\n",
    "datadict_new = datadict_new.rename(columns={0:'DataType'})\n",
    "datadict_new"
   ]
  },
  {
   "cell_type": "markdown",
   "metadata": {},
   "source": [
    "## Some more data cleaning"
   ]
  },
  {
   "cell_type": "markdown",
   "metadata": {},
   "source": [
    "In the **'NumberOfWindows'** col we should change '.' to '0'."
   ]
  },
  {
   "cell_type": "code",
   "execution_count": 70,
   "metadata": {},
   "outputs": [],
   "source": [
    "train['NumberOfWindows'] = train['NumberOfWindows'].str.replace('.','0')"
   ]
  },
  {
   "cell_type": "markdown",
   "metadata": {},
   "source": [
    "We notice that the column 'NumberOfWindows' has a variable with '>=10'. During the data acquisition phase we should be more clear with our inputs. Since there are very few houses with more than 10 windows, we will include all windows more than 10 into the value of 10. This is not a very accurate method because we do not have enough information about houses with more than 10 windows. However, this data cleaning method is required for the machine learning algorithm."
   ]
  },
  {
   "cell_type": "code",
   "execution_count": 71,
   "metadata": {},
   "outputs": [],
   "source": [
    "train['NumberOfWindows'] = train['NumberOfWindows'].map(lambda x: x.lstrip('>='))\n",
    "train['NumberOfWindows']= train['NumberOfWindows'].astype(str).astype(int)"
   ]
  },
  {
   "cell_type": "markdown",
   "metadata": {},
   "source": [
    "## Label Encoding\n",
    "\n",
    "In order for our machine algorithm to perform well we need to transform our categorical daya into data that the trees can understand. Label encoding assigns ordinal integer to different categorical levels of categorical variable.\n",
    "\n",
    "We perform label encoding on the columns 'Building_Painted', 'Building_Fenced', 'Settlement', 'Garden' and 'Geo_Code."
   ]
  },
  {
   "cell_type": "code",
   "execution_count": 72,
   "metadata": {},
   "outputs": [],
   "source": [
    "from sklearn.preprocessing import LabelEncoder\n",
    "\n",
    "lb = LabelEncoder() \n",
    "\n",
    "for column in train[['Building_Painted','Building_Fenced','Settlement','Garden','Geo_Code']]:\n",
    "    train[column] = lb.fit_transform(train[column])"
   ]
  },
  {
   "cell_type": "markdown",
   "metadata": {},
   "source": [
    "## Plot the data once again"
   ]
  },
  {
   "cell_type": "code",
   "execution_count": 73,
   "metadata": {},
   "outputs": [
    {
     "data": {
      "text/plain": [
       "<matplotlib.axes._subplots.AxesSubplot at 0x1240d1490>"
      ]
     },
     "execution_count": 73,
     "metadata": {},
     "output_type": "execute_result"
    },
    {
     "data": {
      "image/png": "[encoded data removed]",
      "text/plain": [
       "<Figure size 1152x1008 with 12 Axes>"
      ]
     },
     "metadata": {},
     "output_type": "display_data"
    }
   ],
   "source": [
    "fig, axes = plt.subplots(4, 3, figsize=(16, 14))\n",
    "# Object data types (categorical)\n",
    "sns.countplot('Claim',data=train,ax=axes[0,0])\n",
    "sns.countplot('Building_Painted',data=train,ax=axes[0,1])\n",
    "sns.countplot('Residential',data=train,ax=axes[0,2])\n",
    "sns.countplot('Building_Fenced',data=train,ax=axes[1,0])\n",
    "sns.countplot('Building_Type',data=train,ax=axes[1,1])\n",
    "sns.countplot('NumberOfWindows',data=train,ax=axes[1,2])\n",
    "sns.countplot('Garden',data=train,ax=axes[2,0])\n",
    "sns.countplot('Settlement',data=train,ax=axes[2,1])\n",
    "sns.countplot('YearOfObservation',data=train,ax=axes[2,2])\n",
    "# Value data types (continious)\n",
    "sns.distplot(train['Insured_Period'].dropna(), kde=True,ax=axes[3,0])\n",
    "sns.distplot(train['Building Dimension'].dropna(),kde=True,ax=axes[3,1])\n",
    "sns.distplot(train['Date_of_Occupancy'].dropna(),kde=True,ax=axes[3,2])"
   ]
  },
  {
   "cell_type": "markdown",
   "metadata": {},
   "source": [
    "## Bivariate Data Analysis"
   ]
  },
  {
   "cell_type": "code",
   "execution_count": 74,
   "metadata": {},
   "outputs": [
    {
     "data": {
      "text/plain": [
       "<matplotlib.axes._subplots.AxesSubplot at 0x123743710>"
      ]
     },
     "execution_count": 74,
     "metadata": {},
     "output_type": "execute_result"
    },
    {
     "data": {
      "image/png": "[encoded data removed]",
      "text/plain": [
       "<Figure size 1152x720 with 8 Axes>"
      ]
     },
     "metadata": {},
     "output_type": "display_data"
    }
   ],
   "source": [
    "figbi, axesbi = plt.subplots(2, 4, figsize=(16, 10))\n",
    "train.groupby('Building_Painted')['Claim'].mean().plot(kind='barh',ax=axesbi[0,0],xlim=[0,1])\n",
    "train.groupby('Residential')['Claim'].mean().plot(kind='barh',ax=axesbi[0,1],xlim=[0,1])\n",
    "train.groupby('Building_Fenced')['Claim'].mean().plot(kind='barh',ax=axesbi[0,2],xlim=[0,1])\n",
    "train.groupby('Building_Type')['Claim'].mean().plot(kind='barh',ax=axesbi[0,3],xlim=[0,1])\n",
    "train.groupby('NumberOfWindows')['Claim'].mean().plot(kind='barh',ax=axesbi[1,0],xlim=[0,1])\n",
    "train.groupby('Garden')['Claim'].mean().plot(kind='barh',ax=axesbi[1,1],xlim=[0,1])\n",
    "train.groupby('Settlement')['Claim'].mean().plot(kind='barh',ax=axesbi[1,2],xlim=[0,1])\n",
    "train.groupby('YearOfObservation')['Claim'].mean().plot(kind='barh',ax=axesbi[1,3],xlim=[0,1])"
   ]
  },
  {
   "cell_type": "markdown",
   "metadata": {},
   "source": [
    "Most variables seem evenly distributed amongst claims and no claims. However, we notice that for there is a a strong relationship between the number of windows and claims. Furthermore, Building type 4 has ever so slightly more claims than than the other building types."
   ]
  },
  {
   "cell_type": "markdown",
   "metadata": {},
   "source": [
    "## Correlation Heatmap of continuous variables"
   ]
  },
  {
   "cell_type": "code",
   "execution_count": 75,
   "metadata": {},
   "outputs": [
    {
     "data": {
      "text/plain": [
       "<matplotlib.axes._subplots.AxesSubplot at 0x123af8650>"
      ]
     },
     "execution_count": 75,
     "metadata": {},
     "output_type": "execute_result"
    },
    {
     "data": {
      "image/png": "[encoded data removed]",
      "text/plain": [
       "<Figure size 432x288 with 2 Axes>"
      ]
     },
     "metadata": {},
     "output_type": "display_data"
    }
   ],
   "source": [
    "import seaborn as sns\n",
    "\n",
    "corr = train.corr()\n",
    "\n",
    "# plot the heatmap\n",
    "sns.heatmap(corr, \n",
    "        xticklabels=corr.columns,\n",
    "        yticklabels=corr.columns)"
   ]
  },
  {
   "cell_type": "code",
   "execution_count": 22,
   "metadata": {},
   "outputs": [
    {
     "data": {
      "text/html": [
       "<style  type=\"text/css\" >\n",
       "    #T_786ab28a_7362_11ea_bcda_787b8ae106a6row0_col0 {\n",
       "            background-color:  #b40426;\n",
       "            color:  #f1f1f1;\n",
       "        }    #T_786ab28a_7362_11ea_bcda_787b8ae106a6row0_col1 {\n",
       "            background-color:  #506bda;\n",
       "            color:  #000000;\n",
       "        }    #T_786ab28a_7362_11ea_bcda_787b8ae106a6row0_col2 {\n",
       "            background-color:  #485fd1;\n",
       "            color:  #f1f1f1;\n",
       "        }    #T_786ab28a_7362_11ea_bcda_787b8ae106a6row0_col3 {\n",
       "            background-color:  #c3d5f4;\n",
       "            color:  #000000;\n",
       "        }    #T_786ab28a_7362_11ea_bcda_787b8ae106a6row0_col4 {\n",
       "            background-color:  #c0d4f5;\n",
       "            color:  #000000;\n",
       "        }    #T_786ab28a_7362_11ea_bcda_787b8ae106a6row0_col5 {\n",
       "            background-color:  #c0d4f5;\n",
       "            color:  #000000;\n",
       "        }    #T_786ab28a_7362_11ea_bcda_787b8ae106a6row0_col6 {\n",
       "            background-color:  #c0d4f5;\n",
       "            color:  #000000;\n",
       "        }    #T_786ab28a_7362_11ea_bcda_787b8ae106a6row0_col7 {\n",
       "            background-color:  #6180e9;\n",
       "            color:  #000000;\n",
       "        }    #T_786ab28a_7362_11ea_bcda_787b8ae106a6row0_col8 {\n",
       "            background-color:  #6282ea;\n",
       "            color:  #000000;\n",
       "        }    #T_786ab28a_7362_11ea_bcda_787b8ae106a6row0_col9 {\n",
       "            background-color:  #5e7de7;\n",
       "            color:  #000000;\n",
       "        }    #T_786ab28a_7362_11ea_bcda_787b8ae106a6row0_col10 {\n",
       "            background-color:  #e0dbd8;\n",
       "            color:  #000000;\n",
       "        }    #T_786ab28a_7362_11ea_bcda_787b8ae106a6row0_col11 {\n",
       "            background-color:  #4c66d6;\n",
       "            color:  #000000;\n",
       "        }    #T_786ab28a_7362_11ea_bcda_787b8ae106a6row0_col12 {\n",
       "            background-color:  #445acc;\n",
       "            color:  #f1f1f1;\n",
       "        }    #T_786ab28a_7362_11ea_bcda_787b8ae106a6row1_col0 {\n",
       "            background-color:  #6384eb;\n",
       "            color:  #000000;\n",
       "        }    #T_786ab28a_7362_11ea_bcda_787b8ae106a6row1_col1 {\n",
       "            background-color:  #b40426;\n",
       "            color:  #f1f1f1;\n",
       "        }    #T_786ab28a_7362_11ea_bcda_787b8ae106a6row1_col2 {\n",
       "            background-color:  #485fd1;\n",
       "            color:  #f1f1f1;\n",
       "        }    #T_786ab28a_7362_11ea_bcda_787b8ae106a6row1_col3 {\n",
       "            background-color:  #afcafc;\n",
       "            color:  #000000;\n",
       "        }    #T_786ab28a_7362_11ea_bcda_787b8ae106a6row1_col4 {\n",
       "            background-color:  #cbd8ee;\n",
       "            color:  #000000;\n",
       "        }    #T_786ab28a_7362_11ea_bcda_787b8ae106a6row1_col5 {\n",
       "            background-color:  #cbd8ee;\n",
       "            color:  #000000;\n",
       "        }    #T_786ab28a_7362_11ea_bcda_787b8ae106a6row1_col6 {\n",
       "            background-color:  #ccd9ed;\n",
       "            color:  #000000;\n",
       "        }    #T_786ab28a_7362_11ea_bcda_787b8ae106a6row1_col7 {\n",
       "            background-color:  #6180e9;\n",
       "            color:  #000000;\n",
       "        }    #T_786ab28a_7362_11ea_bcda_787b8ae106a6row1_col8 {\n",
       "            background-color:  #5a78e4;\n",
       "            color:  #000000;\n",
       "        }    #T_786ab28a_7362_11ea_bcda_787b8ae106a6row1_col9 {\n",
       "            background-color:  #6485ec;\n",
       "            color:  #000000;\n",
       "        }    #T_786ab28a_7362_11ea_bcda_787b8ae106a6row1_col10 {\n",
       "            background-color:  #d8dce2;\n",
       "            color:  #000000;\n",
       "        }    #T_786ab28a_7362_11ea_bcda_787b8ae106a6row1_col11 {\n",
       "            background-color:  #4b64d5;\n",
       "            color:  #f1f1f1;\n",
       "        }    #T_786ab28a_7362_11ea_bcda_787b8ae106a6row1_col12 {\n",
       "            background-color:  #6384eb;\n",
       "            color:  #000000;\n",
       "        }    #T_786ab28a_7362_11ea_bcda_787b8ae106a6row2_col0 {\n",
       "            background-color:  #4f69d9;\n",
       "            color:  #000000;\n",
       "        }    #T_786ab28a_7362_11ea_bcda_787b8ae106a6row2_col1 {\n",
       "            background-color:  #3c4ec2;\n",
       "            color:  #f1f1f1;\n",
       "        }    #T_786ab28a_7362_11ea_bcda_787b8ae106a6row2_col2 {\n",
       "            background-color:  #b40426;\n",
       "            color:  #f1f1f1;\n",
       "        }    #T_786ab28a_7362_11ea_bcda_787b8ae106a6row2_col3 {\n",
       "            background-color:  #afcafc;\n",
       "            color:  #000000;\n",
       "        }    #T_786ab28a_7362_11ea_bcda_787b8ae106a6row2_col4 {\n",
       "            background-color:  #c5d6f2;\n",
       "            color:  #000000;\n",
       "        }    #T_786ab28a_7362_11ea_bcda_787b8ae106a6row2_col5 {\n",
       "            background-color:  #c5d6f2;\n",
       "            color:  #000000;\n",
       "        }    #T_786ab28a_7362_11ea_bcda_787b8ae106a6row2_col6 {\n",
       "            background-color:  #c5d6f2;\n",
       "            color:  #000000;\n",
       "        }    #T_786ab28a_7362_11ea_bcda_787b8ae106a6row2_col7 {\n",
       "            background-color:  #6f92f3;\n",
       "            color:  #000000;\n",
       "        }    #T_786ab28a_7362_11ea_bcda_787b8ae106a6row2_col8 {\n",
       "            background-color:  #c5d6f2;\n",
       "            color:  #000000;\n",
       "        }    #T_786ab28a_7362_11ea_bcda_787b8ae106a6row2_col9 {\n",
       "            background-color:  #5d7ce6;\n",
       "            color:  #000000;\n",
       "        }    #T_786ab28a_7362_11ea_bcda_787b8ae106a6row2_col10 {\n",
       "            background-color:  #e5d8d1;\n",
       "            color:  #000000;\n",
       "        }    #T_786ab28a_7362_11ea_bcda_787b8ae106a6row2_col11 {\n",
       "            background-color:  #b2ccfb;\n",
       "            color:  #000000;\n",
       "        }    #T_786ab28a_7362_11ea_bcda_787b8ae106a6row2_col12 {\n",
       "            background-color:  #5d7ce6;\n",
       "            color:  #000000;\n",
       "        }    #T_786ab28a_7362_11ea_bcda_787b8ae106a6row3_col0 {\n",
       "            background-color:  #6c8ff1;\n",
       "            color:  #000000;\n",
       "        }    #T_786ab28a_7362_11ea_bcda_787b8ae106a6row3_col1 {\n",
       "            background-color:  #3d50c3;\n",
       "            color:  #f1f1f1;\n",
       "        }    #T_786ab28a_7362_11ea_bcda_787b8ae106a6row3_col2 {\n",
       "            background-color:  #4961d2;\n",
       "            color:  #f1f1f1;\n",
       "        }    #T_786ab28a_7362_11ea_bcda_787b8ae106a6row3_col3 {\n",
       "            background-color:  #b40426;\n",
       "            color:  #f1f1f1;\n",
       "        }    #T_786ab28a_7362_11ea_bcda_787b8ae106a6row3_col4 {\n",
       "            background-color:  #688aef;\n",
       "            color:  #000000;\n",
       "        }    #T_786ab28a_7362_11ea_bcda_787b8ae106a6row3_col5 {\n",
       "            background-color:  #688aef;\n",
       "            color:  #000000;\n",
       "        }    #T_786ab28a_7362_11ea_bcda_787b8ae106a6row3_col6 {\n",
       "            background-color:  #688aef;\n",
       "            color:  #000000;\n",
       "        }    #T_786ab28a_7362_11ea_bcda_787b8ae106a6row3_col7 {\n",
       "            background-color:  #7a9df8;\n",
       "            color:  #000000;\n",
       "        }    #T_786ab28a_7362_11ea_bcda_787b8ae106a6row3_col8 {\n",
       "            background-color:  #536edd;\n",
       "            color:  #000000;\n",
       "        }    #T_786ab28a_7362_11ea_bcda_787b8ae106a6row3_col9 {\n",
       "            background-color:  #4c66d6;\n",
       "            color:  #000000;\n",
       "        }    #T_786ab28a_7362_11ea_bcda_787b8ae106a6row3_col10 {\n",
       "            background-color:  #f5a081;\n",
       "            color:  #000000;\n",
       "        }    #T_786ab28a_7362_11ea_bcda_787b8ae106a6row3_col11 {\n",
       "            background-color:  #4e68d8;\n",
       "            color:  #000000;\n",
       "        }    #T_786ab28a_7362_11ea_bcda_787b8ae106a6row3_col12 {\n",
       "            background-color:  #536edd;\n",
       "            color:  #000000;\n",
       "        }    #T_786ab28a_7362_11ea_bcda_787b8ae106a6row4_col0 {\n",
       "            background-color:  #3b4cc0;\n",
       "            color:  #f1f1f1;\n",
       "        }    #T_786ab28a_7362_11ea_bcda_787b8ae106a6row4_col1 {\n",
       "            background-color:  #3b4cc0;\n",
       "            color:  #f1f1f1;\n",
       "        }    #T_786ab28a_7362_11ea_bcda_787b8ae106a6row4_col2 {\n",
       "            background-color:  #3b4cc0;\n",
       "            color:  #f1f1f1;\n",
       "        }    #T_786ab28a_7362_11ea_bcda_787b8ae106a6row4_col3 {\n",
       "            background-color:  #3b4cc0;\n",
       "            color:  #f1f1f1;\n",
       "        }    #T_786ab28a_7362_11ea_bcda_787b8ae106a6row4_col4 {\n",
       "            background-color:  #b40426;\n",
       "            color:  #f1f1f1;\n",
       "        }    #T_786ab28a_7362_11ea_bcda_787b8ae106a6row4_col5 {\n",
       "            background-color:  #b40426;\n",
       "            color:  #f1f1f1;\n",
       "        }    #T_786ab28a_7362_11ea_bcda_787b8ae106a6row4_col6 {\n",
       "            background-color:  #b40426;\n",
       "            color:  #f1f1f1;\n",
       "        }    #T_786ab28a_7362_11ea_bcda_787b8ae106a6row4_col7 {\n",
       "            background-color:  #3b4cc0;\n",
       "            color:  #f1f1f1;\n",
       "        }    #T_786ab28a_7362_11ea_bcda_787b8ae106a6row4_col8 {\n",
       "            background-color:  #5b7ae5;\n",
       "            color:  #000000;\n",
       "        }    #T_786ab28a_7362_11ea_bcda_787b8ae106a6row4_col9 {\n",
       "            background-color:  #9dbdff;\n",
       "            color:  #000000;\n",
       "        }    #T_786ab28a_7362_11ea_bcda_787b8ae106a6row4_col10 {\n",
       "            background-color:  #3b4cc0;\n",
       "            color:  #f1f1f1;\n",
       "        }    #T_786ab28a_7362_11ea_bcda_787b8ae106a6row4_col11 {\n",
       "            background-color:  #3b4cc0;\n",
       "            color:  #f1f1f1;\n",
       "        }    #T_786ab28a_7362_11ea_bcda_787b8ae106a6row4_col12 {\n",
       "            background-color:  #3b4cc0;\n",
       "            color:  #f1f1f1;\n",
       "        }    #T_786ab28a_7362_11ea_bcda_787b8ae106a6row5_col0 {\n",
       "            background-color:  #3b4cc0;\n",
       "            color:  #f1f1f1;\n",
       "        }    #T_786ab28a_7362_11ea_bcda_787b8ae106a6row5_col1 {\n",
       "            background-color:  #3b4cc0;\n",
       "            color:  #f1f1f1;\n",
       "        }    #T_786ab28a_7362_11ea_bcda_787b8ae106a6row5_col2 {\n",
       "            background-color:  #3b4cc0;\n",
       "            color:  #f1f1f1;\n",
       "        }    #T_786ab28a_7362_11ea_bcda_787b8ae106a6row5_col3 {\n",
       "            background-color:  #3b4cc0;\n",
       "            color:  #f1f1f1;\n",
       "        }    #T_786ab28a_7362_11ea_bcda_787b8ae106a6row5_col4 {\n",
       "            background-color:  #b40426;\n",
       "            color:  #f1f1f1;\n",
       "        }    #T_786ab28a_7362_11ea_bcda_787b8ae106a6row5_col5 {\n",
       "            background-color:  #b40426;\n",
       "            color:  #f1f1f1;\n",
       "        }    #T_786ab28a_7362_11ea_bcda_787b8ae106a6row5_col6 {\n",
       "            background-color:  #b40426;\n",
       "            color:  #f1f1f1;\n",
       "        }    #T_786ab28a_7362_11ea_bcda_787b8ae106a6row5_col7 {\n",
       "            background-color:  #3b4cc0;\n",
       "            color:  #f1f1f1;\n",
       "        }    #T_786ab28a_7362_11ea_bcda_787b8ae106a6row5_col8 {\n",
       "            background-color:  #5b7ae5;\n",
       "            color:  #000000;\n",
       "        }    #T_786ab28a_7362_11ea_bcda_787b8ae106a6row5_col9 {\n",
       "            background-color:  #9dbdff;\n",
       "            color:  #000000;\n",
       "        }    #T_786ab28a_7362_11ea_bcda_787b8ae106a6row5_col10 {\n",
       "            background-color:  #3b4cc0;\n",
       "            color:  #f1f1f1;\n",
       "        }    #T_786ab28a_7362_11ea_bcda_787b8ae106a6row5_col11 {\n",
       "            background-color:  #3b4cc0;\n",
       "            color:  #f1f1f1;\n",
       "        }    #T_786ab28a_7362_11ea_bcda_787b8ae106a6row5_col12 {\n",
       "            background-color:  #3b4cc0;\n",
       "            color:  #f1f1f1;\n",
       "        }    #T_786ab28a_7362_11ea_bcda_787b8ae106a6row6_col0 {\n",
       "            background-color:  #3b4cc0;\n",
       "            color:  #f1f1f1;\n",
       "        }    #T_786ab28a_7362_11ea_bcda_787b8ae106a6row6_col1 {\n",
       "            background-color:  #3b4cc0;\n",
       "            color:  #f1f1f1;\n",
       "        }    #T_786ab28a_7362_11ea_bcda_787b8ae106a6row6_col2 {\n",
       "            background-color:  #3b4cc0;\n",
       "            color:  #f1f1f1;\n",
       "        }    #T_786ab28a_7362_11ea_bcda_787b8ae106a6row6_col3 {\n",
       "            background-color:  #3b4cc0;\n",
       "            color:  #f1f1f1;\n",
       "        }    #T_786ab28a_7362_11ea_bcda_787b8ae106a6row6_col4 {\n",
       "            background-color:  #b40426;\n",
       "            color:  #f1f1f1;\n",
       "        }    #T_786ab28a_7362_11ea_bcda_787b8ae106a6row6_col5 {\n",
       "            background-color:  #b40426;\n",
       "            color:  #f1f1f1;\n",
       "        }    #T_786ab28a_7362_11ea_bcda_787b8ae106a6row6_col6 {\n",
       "            background-color:  #b40426;\n",
       "            color:  #f1f1f1;\n",
       "        }    #T_786ab28a_7362_11ea_bcda_787b8ae106a6row6_col7 {\n",
       "            background-color:  #3b4cc0;\n",
       "            color:  #f1f1f1;\n",
       "        }    #T_786ab28a_7362_11ea_bcda_787b8ae106a6row6_col8 {\n",
       "            background-color:  #5b7ae5;\n",
       "            color:  #000000;\n",
       "        }    #T_786ab28a_7362_11ea_bcda_787b8ae106a6row6_col9 {\n",
       "            background-color:  #9dbdff;\n",
       "            color:  #000000;\n",
       "        }    #T_786ab28a_7362_11ea_bcda_787b8ae106a6row6_col10 {\n",
       "            background-color:  #3b4cc0;\n",
       "            color:  #f1f1f1;\n",
       "        }    #T_786ab28a_7362_11ea_bcda_787b8ae106a6row6_col11 {\n",
       "            background-color:  #3b4cc0;\n",
       "            color:  #f1f1f1;\n",
       "        }    #T_786ab28a_7362_11ea_bcda_787b8ae106a6row6_col12 {\n",
       "            background-color:  #3b4cc0;\n",
       "            color:  #f1f1f1;\n",
       "        }    #T_786ab28a_7362_11ea_bcda_787b8ae106a6row7_col0 {\n",
       "            background-color:  #5d7ce6;\n",
       "            color:  #000000;\n",
       "        }    #T_786ab28a_7362_11ea_bcda_787b8ae106a6row7_col1 {\n",
       "            background-color:  #4961d2;\n",
       "            color:  #f1f1f1;\n",
       "        }    #T_786ab28a_7362_11ea_bcda_787b8ae106a6row7_col2 {\n",
       "            background-color:  #6384eb;\n",
       "            color:  #000000;\n",
       "        }    #T_786ab28a_7362_11ea_bcda_787b8ae106a6row7_col3 {\n",
       "            background-color:  #c9d7f0;\n",
       "            color:  #000000;\n",
       "        }    #T_786ab28a_7362_11ea_bcda_787b8ae106a6row7_col4 {\n",
       "            background-color:  #bed2f6;\n",
       "            color:  #000000;\n",
       "        }    #T_786ab28a_7362_11ea_bcda_787b8ae106a6row7_col5 {\n",
       "            background-color:  #bed2f6;\n",
       "            color:  #000000;\n",
       "        }    #T_786ab28a_7362_11ea_bcda_787b8ae106a6row7_col6 {\n",
       "            background-color:  #bed2f6;\n",
       "            color:  #000000;\n",
       "        }    #T_786ab28a_7362_11ea_bcda_787b8ae106a6row7_col7 {\n",
       "            background-color:  #b40426;\n",
       "            color:  #f1f1f1;\n",
       "        }    #T_786ab28a_7362_11ea_bcda_787b8ae106a6row7_col8 {\n",
       "            background-color:  #6384eb;\n",
       "            color:  #000000;\n",
       "        }    #T_786ab28a_7362_11ea_bcda_787b8ae106a6row7_col9 {\n",
       "            background-color:  #a2c1ff;\n",
       "            color:  #000000;\n",
       "        }    #T_786ab28a_7362_11ea_bcda_787b8ae106a6row7_col10 {\n",
       "            background-color:  #f3c7b1;\n",
       "            color:  #000000;\n",
       "        }    #T_786ab28a_7362_11ea_bcda_787b8ae106a6row7_col11 {\n",
       "            background-color:  #4c66d6;\n",
       "            color:  #000000;\n",
       "        }    #T_786ab28a_7362_11ea_bcda_787b8ae106a6row7_col12 {\n",
       "            background-color:  #a9c6fd;\n",
       "            color:  #000000;\n",
       "        }    #T_786ab28a_7362_11ea_bcda_787b8ae106a6row8_col0 {\n",
       "            background-color:  #5d7ce6;\n",
       "            color:  #000000;\n",
       "        }    #T_786ab28a_7362_11ea_bcda_787b8ae106a6row8_col1 {\n",
       "            background-color:  #4055c8;\n",
       "            color:  #f1f1f1;\n",
       "        }    #T_786ab28a_7362_11ea_bcda_787b8ae106a6row8_col2 {\n",
       "            background-color:  #bcd2f7;\n",
       "            color:  #000000;\n",
       "        }    #T_786ab28a_7362_11ea_bcda_787b8ae106a6row8_col3 {\n",
       "            background-color:  #adc9fd;\n",
       "            color:  #000000;\n",
       "        }    #T_786ab28a_7362_11ea_bcda_787b8ae106a6row8_col4 {\n",
       "            background-color:  #cfdaea;\n",
       "            color:  #000000;\n",
       "        }    #T_786ab28a_7362_11ea_bcda_787b8ae106a6row8_col5 {\n",
       "            background-color:  #cfdaea;\n",
       "            color:  #000000;\n",
       "        }    #T_786ab28a_7362_11ea_bcda_787b8ae106a6row8_col6 {\n",
       "            background-color:  #cfdaea;\n",
       "            color:  #000000;\n",
       "        }    #T_786ab28a_7362_11ea_bcda_787b8ae106a6row8_col7 {\n",
       "            background-color:  #6180e9;\n",
       "            color:  #000000;\n",
       "        }    #T_786ab28a_7362_11ea_bcda_787b8ae106a6row8_col8 {\n",
       "            background-color:  #b40426;\n",
       "            color:  #f1f1f1;\n",
       "        }    #T_786ab28a_7362_11ea_bcda_787b8ae106a6row8_col9 {\n",
       "            background-color:  #4055c8;\n",
       "            color:  #f1f1f1;\n",
       "        }    #T_786ab28a_7362_11ea_bcda_787b8ae106a6row8_col10 {\n",
       "            background-color:  #e2dad5;\n",
       "            color:  #000000;\n",
       "        }    #T_786ab28a_7362_11ea_bcda_787b8ae106a6row8_col11 {\n",
       "            background-color:  #a7c5fe;\n",
       "            color:  #000000;\n",
       "        }    #T_786ab28a_7362_11ea_bcda_787b8ae106a6row8_col12 {\n",
       "            background-color:  #6b8df0;\n",
       "            color:  #000000;\n",
       "        }    #T_786ab28a_7362_11ea_bcda_787b8ae106a6row9_col0 {\n",
       "            background-color:  #536edd;\n",
       "            color:  #000000;\n",
       "        }    #T_786ab28a_7362_11ea_bcda_787b8ae106a6row9_col1 {\n",
       "            background-color:  #445acc;\n",
       "            color:  #f1f1f1;\n",
       "        }    #T_786ab28a_7362_11ea_bcda_787b8ae106a6row9_col2 {\n",
       "            background-color:  #4961d2;\n",
       "            color:  #f1f1f1;\n",
       "        }    #T_786ab28a_7362_11ea_bcda_787b8ae106a6row9_col3 {\n",
       "            background-color:  #a2c1ff;\n",
       "            color:  #000000;\n",
       "        }    #T_786ab28a_7362_11ea_bcda_787b8ae106a6row9_col4 {\n",
       "            background-color:  #ebd3c6;\n",
       "            color:  #000000;\n",
       "        }    #T_786ab28a_7362_11ea_bcda_787b8ae106a6row9_col5 {\n",
       "            background-color:  #ebd3c6;\n",
       "            color:  #000000;\n",
       "        }    #T_786ab28a_7362_11ea_bcda_787b8ae106a6row9_col6 {\n",
       "            background-color:  #ebd3c6;\n",
       "            color:  #000000;\n",
       "        }    #T_786ab28a_7362_11ea_bcda_787b8ae106a6row9_col7 {\n",
       "            background-color:  #9bbcff;\n",
       "            color:  #000000;\n",
       "        }    #T_786ab28a_7362_11ea_bcda_787b8ae106a6row9_col8 {\n",
       "            background-color:  #3b4cc0;\n",
       "            color:  #f1f1f1;\n",
       "        }    #T_786ab28a_7362_11ea_bcda_787b8ae106a6row9_col9 {\n",
       "            background-color:  #b40426;\n",
       "            color:  #f1f1f1;\n",
       "        }    #T_786ab28a_7362_11ea_bcda_787b8ae106a6row9_col10 {\n",
       "            background-color:  #b7cff9;\n",
       "            color:  #000000;\n",
       "        }    #T_786ab28a_7362_11ea_bcda_787b8ae106a6row9_col11 {\n",
       "            background-color:  #4e68d8;\n",
       "            color:  #000000;\n",
       "        }    #T_786ab28a_7362_11ea_bcda_787b8ae106a6row9_col12 {\n",
       "            background-color:  #4e68d8;\n",
       "            color:  #000000;\n",
       "        }    #T_786ab28a_7362_11ea_bcda_787b8ae106a6row10_col0 {\n",
       "            background-color:  #799cf8;\n",
       "            color:  #000000;\n",
       "        }    #T_786ab28a_7362_11ea_bcda_787b8ae106a6row10_col1 {\n",
       "            background-color:  #5470de;\n",
       "            color:  #000000;\n",
       "        }    #T_786ab28a_7362_11ea_bcda_787b8ae106a6row10_col2 {\n",
       "            background-color:  #7b9ff9;\n",
       "            color:  #000000;\n",
       "        }    #T_786ab28a_7362_11ea_bcda_787b8ae106a6row10_col3 {\n",
       "            background-color:  #f7b093;\n",
       "            color:  #000000;\n",
       "        }    #T_786ab28a_7362_11ea_bcda_787b8ae106a6row10_col4 {\n",
       "            background-color:  #3b4cc0;\n",
       "            color:  #f1f1f1;\n",
       "        }    #T_786ab28a_7362_11ea_bcda_787b8ae106a6row10_col5 {\n",
       "            background-color:  #3b4cc0;\n",
       "            color:  #f1f1f1;\n",
       "        }    #T_786ab28a_7362_11ea_bcda_787b8ae106a6row10_col6 {\n",
       "            background-color:  #3b4cc0;\n",
       "            color:  #f1f1f1;\n",
       "        }    #T_786ab28a_7362_11ea_bcda_787b8ae106a6row10_col7 {\n",
       "            background-color:  #b6cefa;\n",
       "            color:  #000000;\n",
       "        }    #T_786ab28a_7362_11ea_bcda_787b8ae106a6row10_col8 {\n",
       "            background-color:  #82a6fb;\n",
       "            color:  #000000;\n",
       "        }    #T_786ab28a_7362_11ea_bcda_787b8ae106a6row10_col9 {\n",
       "            background-color:  #3b4cc0;\n",
       "            color:  #f1f1f1;\n",
       "        }    #T_786ab28a_7362_11ea_bcda_787b8ae106a6row10_col10 {\n",
       "            background-color:  #b40426;\n",
       "            color:  #f1f1f1;\n",
       "        }    #T_786ab28a_7362_11ea_bcda_787b8ae106a6row10_col11 {\n",
       "            background-color:  #5f7fe8;\n",
       "            color:  #000000;\n",
       "        }    #T_786ab28a_7362_11ea_bcda_787b8ae106a6row10_col12 {\n",
       "            background-color:  #7396f5;\n",
       "            color:  #000000;\n",
       "        }    #T_786ab28a_7362_11ea_bcda_787b8ae106a6row11_col0 {\n",
       "            background-color:  #5d7ce6;\n",
       "            color:  #000000;\n",
       "        }    #T_786ab28a_7362_11ea_bcda_787b8ae106a6row11_col1 {\n",
       "            background-color:  #4961d2;\n",
       "            color:  #f1f1f1;\n",
       "        }    #T_786ab28a_7362_11ea_bcda_787b8ae106a6row11_col2 {\n",
       "            background-color:  #b7cff9;\n",
       "            color:  #000000;\n",
       "        }    #T_786ab28a_7362_11ea_bcda_787b8ae106a6row11_col3 {\n",
       "            background-color:  #bad0f8;\n",
       "            color:  #000000;\n",
       "        }    #T_786ab28a_7362_11ea_bcda_787b8ae106a6row11_col4 {\n",
       "            background-color:  #cad8ef;\n",
       "            color:  #000000;\n",
       "        }    #T_786ab28a_7362_11ea_bcda_787b8ae106a6row11_col5 {\n",
       "            background-color:  #cad8ef;\n",
       "            color:  #000000;\n",
       "        }    #T_786ab28a_7362_11ea_bcda_787b8ae106a6row11_col6 {\n",
       "            background-color:  #cad8ef;\n",
       "            color:  #000000;\n",
       "        }    #T_786ab28a_7362_11ea_bcda_787b8ae106a6row11_col7 {\n",
       "            background-color:  #6282ea;\n",
       "            color:  #000000;\n",
       "        }    #T_786ab28a_7362_11ea_bcda_787b8ae106a6row11_col8 {\n",
       "            background-color:  #b9d0f9;\n",
       "            color:  #000000;\n",
       "        }    #T_786ab28a_7362_11ea_bcda_787b8ae106a6row11_col9 {\n",
       "            background-color:  #6a8bef;\n",
       "            color:  #000000;\n",
       "        }    #T_786ab28a_7362_11ea_bcda_787b8ae106a6row11_col10 {\n",
       "            background-color:  #dddcdc;\n",
       "            color:  #000000;\n",
       "        }    #T_786ab28a_7362_11ea_bcda_787b8ae106a6row11_col11 {\n",
       "            background-color:  #b40426;\n",
       "            color:  #f1f1f1;\n",
       "        }    #T_786ab28a_7362_11ea_bcda_787b8ae106a6row11_col12 {\n",
       "            background-color:  #5673e0;\n",
       "            color:  #000000;\n",
       "        }    #T_786ab28a_7362_11ea_bcda_787b8ae106a6row12_col0 {\n",
       "            background-color:  #5673e0;\n",
       "            color:  #000000;\n",
       "        }    #T_786ab28a_7362_11ea_bcda_787b8ae106a6row12_col1 {\n",
       "            background-color:  #6282ea;\n",
       "            color:  #000000;\n",
       "        }    #T_786ab28a_7362_11ea_bcda_787b8ae106a6row12_col2 {\n",
       "            background-color:  #6687ed;\n",
       "            color:  #000000;\n",
       "        }    #T_786ab28a_7362_11ea_bcda_787b8ae106a6row12_col3 {\n",
       "            background-color:  #bcd2f7;\n",
       "            color:  #000000;\n",
       "        }    #T_786ab28a_7362_11ea_bcda_787b8ae106a6row12_col4 {\n",
       "            background-color:  #cbd8ee;\n",
       "            color:  #000000;\n",
       "        }    #T_786ab28a_7362_11ea_bcda_787b8ae106a6row12_col5 {\n",
       "            background-color:  #cbd8ee;\n",
       "            color:  #000000;\n",
       "        }    #T_786ab28a_7362_11ea_bcda_787b8ae106a6row12_col6 {\n",
       "            background-color:  #cbd8ee;\n",
       "            color:  #000000;\n",
       "        }    #T_786ab28a_7362_11ea_bcda_787b8ae106a6row12_col7 {\n",
       "            background-color:  #b9d0f9;\n",
       "            color:  #000000;\n",
       "        }    #T_786ab28a_7362_11ea_bcda_787b8ae106a6row12_col8 {\n",
       "            background-color:  #82a6fb;\n",
       "            color:  #000000;\n",
       "        }    #T_786ab28a_7362_11ea_bcda_787b8ae106a6row12_col9 {\n",
       "            background-color:  #6b8df0;\n",
       "            color:  #000000;\n",
       "        }    #T_786ab28a_7362_11ea_bcda_787b8ae106a6row12_col10 {\n",
       "            background-color:  #e6d7cf;\n",
       "            color:  #000000;\n",
       "        }    #T_786ab28a_7362_11ea_bcda_787b8ae106a6row12_col11 {\n",
       "            background-color:  #5875e1;\n",
       "            color:  #000000;\n",
       "        }    #T_786ab28a_7362_11ea_bcda_787b8ae106a6row12_col12 {\n",
       "            background-color:  #b40426;\n",
       "            color:  #f1f1f1;\n",
       "        }</style><table id=\"T_786ab28a_7362_11ea_bcda_787b8ae106a6\" ><thead>    <tr>        <th class=\"blank level0\" ></th>        <th class=\"col_heading level0 col0\" >YearOfObservation</th>        <th class=\"col_heading level0 col1\" >Insured_Period</th>        <th class=\"col_heading level0 col2\" >Residential</th>        <th class=\"col_heading level0 col3\" >Building_Painted</th>        <th class=\"col_heading level0 col4\" >Building_Fenced</th>        <th class=\"col_heading level0 col5\" >Garden</th>        <th class=\"col_heading level0 col6\" >Settlement</th>        <th class=\"col_heading level0 col7\" >Building Dimension</th>        <th class=\"col_heading level0 col8\" >Building_Type</th>        <th class=\"col_heading level0 col9\" >Date_of_Occupancy</th>        <th class=\"col_heading level0 col10\" >NumberOfWindows</th>        <th class=\"col_heading level0 col11\" >Geo_Code</th>        <th class=\"col_heading level0 col12\" >Claim</th>    </tr></thead><tbody>\n",
       "                <tr>\n",
       "                        <th id=\"T_786ab28a_7362_11ea_bcda_787b8ae106a6level0_row0\" class=\"row_heading level0 row0\" >YearOfObservation</th>\n",
       "                        <td id=\"T_786ab28a_7362_11ea_bcda_787b8ae106a6row0_col0\" class=\"data row0 col0\" >1</td>\n",
       "                        <td id=\"T_786ab28a_7362_11ea_bcda_787b8ae106a6row0_col1\" class=\"data row0 col1\" >0.029</td>\n",
       "                        <td id=\"T_786ab28a_7362_11ea_bcda_787b8ae106a6row0_col2\" class=\"data row0 col2\" >-0.039</td>\n",
       "                        <td id=\"T_786ab28a_7362_11ea_bcda_787b8ae106a6row0_col3\" class=\"data row0 col3\" >0.06</td>\n",
       "                        <td id=\"T_786ab28a_7362_11ea_bcda_787b8ae106a6row0_col4\" class=\"data row0 col4\" >-0.12</td>\n",
       "                        <td id=\"T_786ab28a_7362_11ea_bcda_787b8ae106a6row0_col5\" class=\"data row0 col5\" >-0.12</td>\n",
       "                        <td id=\"T_786ab28a_7362_11ea_bcda_787b8ae106a6row0_col6\" class=\"data row0 col6\" >-0.12</td>\n",
       "                        <td id=\"T_786ab28a_7362_11ea_bcda_787b8ae106a6row0_col7\" class=\"data row0 col7\" >0.009</td>\n",
       "                        <td id=\"T_786ab28a_7362_11ea_bcda_787b8ae106a6row0_col8\" class=\"data row0 col8\" >0.006</td>\n",
       "                        <td id=\"T_786ab28a_7362_11ea_bcda_787b8ae106a6row0_col9\" class=\"data row0 col9\" >-0.029</td>\n",
       "                        <td id=\"T_786ab28a_7362_11ea_bcda_787b8ae106a6row0_col10\" class=\"data row0 col10\" >0.1</td>\n",
       "                        <td id=\"T_786ab28a_7362_11ea_bcda_787b8ae106a6row0_col11\" class=\"data row0 col11\" >0.008</td>\n",
       "                        <td id=\"T_786ab28a_7362_11ea_bcda_787b8ae106a6row0_col12\" class=\"data row0 col12\" >-0.015</td>\n",
       "            </tr>\n",
       "            <tr>\n",
       "                        <th id=\"T_786ab28a_7362_11ea_bcda_787b8ae106a6level0_row1\" class=\"row_heading level0 row1\" >Insured_Period</th>\n",
       "                        <td id=\"T_786ab28a_7362_11ea_bcda_787b8ae106a6row1_col0\" class=\"data row1 col0\" >0.029</td>\n",
       "                        <td id=\"T_786ab28a_7362_11ea_bcda_787b8ae106a6row1_col1\" class=\"data row1 col1\" >1</td>\n",
       "                        <td id=\"T_786ab28a_7362_11ea_bcda_787b8ae106a6row1_col2\" class=\"data row1 col2\" >-0.039</td>\n",
       "                        <td id=\"T_786ab28a_7362_11ea_bcda_787b8ae106a6row1_col3\" class=\"data row1 col3\" >-0.036</td>\n",
       "                        <td id=\"T_786ab28a_7362_11ea_bcda_787b8ae106a6row1_col4\" class=\"data row1 col4\" >-0.045</td>\n",
       "                        <td id=\"T_786ab28a_7362_11ea_bcda_787b8ae106a6row1_col5\" class=\"data row1 col5\" >-0.045</td>\n",
       "                        <td id=\"T_786ab28a_7362_11ea_bcda_787b8ae106a6row1_col6\" class=\"data row1 col6\" >-0.045</td>\n",
       "                        <td id=\"T_786ab28a_7362_11ea_bcda_787b8ae106a6row1_col7\" class=\"data row1 col7\" >0.0072</td>\n",
       "                        <td id=\"T_786ab28a_7362_11ea_bcda_787b8ae106a6row1_col8\" class=\"data row1 col8\" >-0.022</td>\n",
       "                        <td id=\"T_786ab28a_7362_11ea_bcda_787b8ae106a6row1_col9\" class=\"data row1 col9\" >-0.0089</td>\n",
       "                        <td id=\"T_786ab28a_7362_11ea_bcda_787b8ae106a6row1_col10\" class=\"data row1 col10\" >0.041</td>\n",
       "                        <td id=\"T_786ab28a_7362_11ea_bcda_787b8ae106a6row1_col11\" class=\"data row1 col11\" >0.0041</td>\n",
       "                        <td id=\"T_786ab28a_7362_11ea_bcda_787b8ae106a6row1_col12\" class=\"data row1 col12\" >0.087</td>\n",
       "            </tr>\n",
       "            <tr>\n",
       "                        <th id=\"T_786ab28a_7362_11ea_bcda_787b8ae106a6level0_row2\" class=\"row_heading level0 row2\" >Residential</th>\n",
       "                        <td id=\"T_786ab28a_7362_11ea_bcda_787b8ae106a6row2_col0\" class=\"data row2 col0\" >-0.039</td>\n",
       "                        <td id=\"T_786ab28a_7362_11ea_bcda_787b8ae106a6row2_col1\" class=\"data row2 col1\" >-0.039</td>\n",
       "                        <td id=\"T_786ab28a_7362_11ea_bcda_787b8ae106a6row2_col2\" class=\"data row2 col2\" >1</td>\n",
       "                        <td id=\"T_786ab28a_7362_11ea_bcda_787b8ae106a6row2_col3\" class=\"data row2 col3\" >-0.034</td>\n",
       "                        <td id=\"T_786ab28a_7362_11ea_bcda_787b8ae106a6row2_col4\" class=\"data row2 col4\" >-0.086</td>\n",
       "                        <td id=\"T_786ab28a_7362_11ea_bcda_787b8ae106a6row2_col5\" class=\"data row2 col5\" >-0.085</td>\n",
       "                        <td id=\"T_786ab28a_7362_11ea_bcda_787b8ae106a6row2_col6\" class=\"data row2 col6\" >-0.086</td>\n",
       "                        <td id=\"T_786ab28a_7362_11ea_bcda_787b8ae106a6row2_col7\" class=\"data row2 col7\" >0.057</td>\n",
       "                        <td id=\"T_786ab28a_7362_11ea_bcda_787b8ae106a6row2_col8\" class=\"data row2 col8\" >0.33</td>\n",
       "                        <td id=\"T_786ab28a_7362_11ea_bcda_787b8ae106a6row2_col9\" class=\"data row2 col9\" >-0.034</td>\n",
       "                        <td id=\"T_786ab28a_7362_11ea_bcda_787b8ae106a6row2_col10\" class=\"data row2 col10\" >0.13</td>\n",
       "                        <td id=\"T_786ab28a_7362_11ea_bcda_787b8ae106a6row2_col11\" class=\"data row2 col11\" >0.32</td>\n",
       "                        <td id=\"T_786ab28a_7362_11ea_bcda_787b8ae106a6row2_col12\" class=\"data row2 col12\" >0.064</td>\n",
       "            </tr>\n",
       "            <tr>\n",
       "                        <th id=\"T_786ab28a_7362_11ea_bcda_787b8ae106a6level0_row3\" class=\"row_heading level0 row3\" >Building_Painted</th>\n",
       "                        <td id=\"T_786ab28a_7362_11ea_bcda_787b8ae106a6row3_col0\" class=\"data row3 col0\" >0.06</td>\n",
       "                        <td id=\"T_786ab28a_7362_11ea_bcda_787b8ae106a6row3_col1\" class=\"data row3 col1\" >-0.036</td>\n",
       "                        <td id=\"T_786ab28a_7362_11ea_bcda_787b8ae106a6row3_col2\" class=\"data row3 col2\" >-0.034</td>\n",
       "                        <td id=\"T_786ab28a_7362_11ea_bcda_787b8ae106a6row3_col3\" class=\"data row3 col3\" >1</td>\n",
       "                        <td id=\"T_786ab28a_7362_11ea_bcda_787b8ae106a6row3_col4\" class=\"data row3 col4\" >-0.59</td>\n",
       "                        <td id=\"T_786ab28a_7362_11ea_bcda_787b8ae106a6row3_col5\" class=\"data row3 col5\" >-0.59</td>\n",
       "                        <td id=\"T_786ab28a_7362_11ea_bcda_787b8ae106a6row3_col6\" class=\"data row3 col6\" >-0.59</td>\n",
       "                        <td id=\"T_786ab28a_7362_11ea_bcda_787b8ae106a6row3_col7\" class=\"data row3 col7\" >0.092</td>\n",
       "                        <td id=\"T_786ab28a_7362_11ea_bcda_787b8ae106a6row3_col8\" class=\"data row3 col8\" >-0.046</td>\n",
       "                        <td id=\"T_786ab28a_7362_11ea_bcda_787b8ae106a6row3_col9\" class=\"data row3 col9\" >-0.096</td>\n",
       "                        <td id=\"T_786ab28a_7362_11ea_bcda_787b8ae106a6row3_col10\" class=\"data row3 col10\" >0.5</td>\n",
       "                        <td id=\"T_786ab28a_7362_11ea_bcda_787b8ae106a6row3_col11\" class=\"data row3 col11\" >0.014</td>\n",
       "                        <td id=\"T_786ab28a_7362_11ea_bcda_787b8ae106a6row3_col12\" class=\"data row3 col12\" >0.031</td>\n",
       "            </tr>\n",
       "            <tr>\n",
       "                        <th id=\"T_786ab28a_7362_11ea_bcda_787b8ae106a6level0_row4\" class=\"row_heading level0 row4\" >Building_Fenced</th>\n",
       "                        <td id=\"T_786ab28a_7362_11ea_bcda_787b8ae106a6row4_col0\" class=\"data row4 col0\" >-0.12</td>\n",
       "                        <td id=\"T_786ab28a_7362_11ea_bcda_787b8ae106a6row4_col1\" class=\"data row4 col1\" >-0.045</td>\n",
       "                        <td id=\"T_786ab28a_7362_11ea_bcda_787b8ae106a6row4_col2\" class=\"data row4 col2\" >-0.086</td>\n",
       "                        <td id=\"T_786ab28a_7362_11ea_bcda_787b8ae106a6row4_col3\" class=\"data row4 col3\" >-0.59</td>\n",
       "                        <td id=\"T_786ab28a_7362_11ea_bcda_787b8ae106a6row4_col4\" class=\"data row4 col4\" >1</td>\n",
       "                        <td id=\"T_786ab28a_7362_11ea_bcda_787b8ae106a6row4_col5\" class=\"data row4 col5\" >1</td>\n",
       "                        <td id=\"T_786ab28a_7362_11ea_bcda_787b8ae106a6row4_col6\" class=\"data row4 col6\" >1</td>\n",
       "                        <td id=\"T_786ab28a_7362_11ea_bcda_787b8ae106a6row4_col7\" class=\"data row4 col7\" >-0.13</td>\n",
       "                        <td id=\"T_786ab28a_7362_11ea_bcda_787b8ae106a6row4_col8\" class=\"data row4 col8\" >-0.018</td>\n",
       "                        <td id=\"T_786ab28a_7362_11ea_bcda_787b8ae106a6row4_col9\" class=\"data row4 col9\" >0.18</td>\n",
       "                        <td id=\"T_786ab28a_7362_11ea_bcda_787b8ae106a6row4_col10\" class=\"data row4 col10\" >-0.86</td>\n",
       "                        <td id=\"T_786ab28a_7362_11ea_bcda_787b8ae106a6row4_col11\" class=\"data row4 col11\" >-0.055</td>\n",
       "                        <td id=\"T_786ab28a_7362_11ea_bcda_787b8ae106a6row4_col12\" class=\"data row4 col12\" >-0.051</td>\n",
       "            </tr>\n",
       "            <tr>\n",
       "                        <th id=\"T_786ab28a_7362_11ea_bcda_787b8ae106a6level0_row5\" class=\"row_heading level0 row5\" >Garden</th>\n",
       "                        <td id=\"T_786ab28a_7362_11ea_bcda_787b8ae106a6row5_col0\" class=\"data row5 col0\" >-0.12</td>\n",
       "                        <td id=\"T_786ab28a_7362_11ea_bcda_787b8ae106a6row5_col1\" class=\"data row5 col1\" >-0.045</td>\n",
       "                        <td id=\"T_786ab28a_7362_11ea_bcda_787b8ae106a6row5_col2\" class=\"data row5 col2\" >-0.085</td>\n",
       "                        <td id=\"T_786ab28a_7362_11ea_bcda_787b8ae106a6row5_col3\" class=\"data row5 col3\" >-0.59</td>\n",
       "                        <td id=\"T_786ab28a_7362_11ea_bcda_787b8ae106a6row5_col4\" class=\"data row5 col4\" >1</td>\n",
       "                        <td id=\"T_786ab28a_7362_11ea_bcda_787b8ae106a6row5_col5\" class=\"data row5 col5\" >1</td>\n",
       "                        <td id=\"T_786ab28a_7362_11ea_bcda_787b8ae106a6row5_col6\" class=\"data row5 col6\" >1</td>\n",
       "                        <td id=\"T_786ab28a_7362_11ea_bcda_787b8ae106a6row5_col7\" class=\"data row5 col7\" >-0.13</td>\n",
       "                        <td id=\"T_786ab28a_7362_11ea_bcda_787b8ae106a6row5_col8\" class=\"data row5 col8\" >-0.018</td>\n",
       "                        <td id=\"T_786ab28a_7362_11ea_bcda_787b8ae106a6row5_col9\" class=\"data row5 col9\" >0.18</td>\n",
       "                        <td id=\"T_786ab28a_7362_11ea_bcda_787b8ae106a6row5_col10\" class=\"data row5 col10\" >-0.86</td>\n",
       "                        <td id=\"T_786ab28a_7362_11ea_bcda_787b8ae106a6row5_col11\" class=\"data row5 col11\" >-0.055</td>\n",
       "                        <td id=\"T_786ab28a_7362_11ea_bcda_787b8ae106a6row5_col12\" class=\"data row5 col12\" >-0.051</td>\n",
       "            </tr>\n",
       "            <tr>\n",
       "                        <th id=\"T_786ab28a_7362_11ea_bcda_787b8ae106a6level0_row6\" class=\"row_heading level0 row6\" >Settlement</th>\n",
       "                        <td id=\"T_786ab28a_7362_11ea_bcda_787b8ae106a6row6_col0\" class=\"data row6 col0\" >-0.12</td>\n",
       "                        <td id=\"T_786ab28a_7362_11ea_bcda_787b8ae106a6row6_col1\" class=\"data row6 col1\" >-0.045</td>\n",
       "                        <td id=\"T_786ab28a_7362_11ea_bcda_787b8ae106a6row6_col2\" class=\"data row6 col2\" >-0.086</td>\n",
       "                        <td id=\"T_786ab28a_7362_11ea_bcda_787b8ae106a6row6_col3\" class=\"data row6 col3\" >-0.59</td>\n",
       "                        <td id=\"T_786ab28a_7362_11ea_bcda_787b8ae106a6row6_col4\" class=\"data row6 col4\" >1</td>\n",
       "                        <td id=\"T_786ab28a_7362_11ea_bcda_787b8ae106a6row6_col5\" class=\"data row6 col5\" >1</td>\n",
       "                        <td id=\"T_786ab28a_7362_11ea_bcda_787b8ae106a6row6_col6\" class=\"data row6 col6\" >1</td>\n",
       "                        <td id=\"T_786ab28a_7362_11ea_bcda_787b8ae106a6row6_col7\" class=\"data row6 col7\" >-0.13</td>\n",
       "                        <td id=\"T_786ab28a_7362_11ea_bcda_787b8ae106a6row6_col8\" class=\"data row6 col8\" >-0.018</td>\n",
       "                        <td id=\"T_786ab28a_7362_11ea_bcda_787b8ae106a6row6_col9\" class=\"data row6 col9\" >0.18</td>\n",
       "                        <td id=\"T_786ab28a_7362_11ea_bcda_787b8ae106a6row6_col10\" class=\"data row6 col10\" >-0.86</td>\n",
       "                        <td id=\"T_786ab28a_7362_11ea_bcda_787b8ae106a6row6_col11\" class=\"data row6 col11\" >-0.055</td>\n",
       "                        <td id=\"T_786ab28a_7362_11ea_bcda_787b8ae106a6row6_col12\" class=\"data row6 col12\" >-0.051</td>\n",
       "            </tr>\n",
       "            <tr>\n",
       "                        <th id=\"T_786ab28a_7362_11ea_bcda_787b8ae106a6level0_row7\" class=\"row_heading level0 row7\" >Building Dimension</th>\n",
       "                        <td id=\"T_786ab28a_7362_11ea_bcda_787b8ae106a6row7_col0\" class=\"data row7 col0\" >0.009</td>\n",
       "                        <td id=\"T_786ab28a_7362_11ea_bcda_787b8ae106a6row7_col1\" class=\"data row7 col1\" >0.0072</td>\n",
       "                        <td id=\"T_786ab28a_7362_11ea_bcda_787b8ae106a6row7_col2\" class=\"data row7 col2\" >0.057</td>\n",
       "                        <td id=\"T_786ab28a_7362_11ea_bcda_787b8ae106a6row7_col3\" class=\"data row7 col3\" >0.092</td>\n",
       "                        <td id=\"T_786ab28a_7362_11ea_bcda_787b8ae106a6row7_col4\" class=\"data row7 col4\" >-0.13</td>\n",
       "                        <td id=\"T_786ab28a_7362_11ea_bcda_787b8ae106a6row7_col5\" class=\"data row7 col5\" >-0.13</td>\n",
       "                        <td id=\"T_786ab28a_7362_11ea_bcda_787b8ae106a6row7_col6\" class=\"data row7 col6\" >-0.13</td>\n",
       "                        <td id=\"T_786ab28a_7362_11ea_bcda_787b8ae106a6row7_col7\" class=\"data row7 col7\" >1</td>\n",
       "                        <td id=\"T_786ab28a_7362_11ea_bcda_787b8ae106a6row7_col8\" class=\"data row7 col8\" >0.0079</td>\n",
       "                        <td id=\"T_786ab28a_7362_11ea_bcda_787b8ae106a6row7_col9\" class=\"data row7 col9\" >0.2</td>\n",
       "                        <td id=\"T_786ab28a_7362_11ea_bcda_787b8ae106a6row7_col10\" class=\"data row7 col10\" >0.29</td>\n",
       "                        <td id=\"T_786ab28a_7362_11ea_bcda_787b8ae106a6row7_col11\" class=\"data row7 col11\" >0.0096</td>\n",
       "                        <td id=\"T_786ab28a_7362_11ea_bcda_787b8ae106a6row7_col12\" class=\"data row7 col12\" >0.3</td>\n",
       "            </tr>\n",
       "            <tr>\n",
       "                        <th id=\"T_786ab28a_7362_11ea_bcda_787b8ae106a6level0_row8\" class=\"row_heading level0 row8\" >Building_Type</th>\n",
       "                        <td id=\"T_786ab28a_7362_11ea_bcda_787b8ae106a6row8_col0\" class=\"data row8 col0\" >0.006</td>\n",
       "                        <td id=\"T_786ab28a_7362_11ea_bcda_787b8ae106a6row8_col1\" class=\"data row8 col1\" >-0.022</td>\n",
       "                        <td id=\"T_786ab28a_7362_11ea_bcda_787b8ae106a6row8_col2\" class=\"data row8 col2\" >0.33</td>\n",
       "                        <td id=\"T_786ab28a_7362_11ea_bcda_787b8ae106a6row8_col3\" class=\"data row8 col3\" >-0.046</td>\n",
       "                        <td id=\"T_786ab28a_7362_11ea_bcda_787b8ae106a6row8_col4\" class=\"data row8 col4\" >-0.018</td>\n",
       "                        <td id=\"T_786ab28a_7362_11ea_bcda_787b8ae106a6row8_col5\" class=\"data row8 col5\" >-0.018</td>\n",
       "                        <td id=\"T_786ab28a_7362_11ea_bcda_787b8ae106a6row8_col6\" class=\"data row8 col6\" >-0.018</td>\n",
       "                        <td id=\"T_786ab28a_7362_11ea_bcda_787b8ae106a6row8_col7\" class=\"data row8 col7\" >0.0079</td>\n",
       "                        <td id=\"T_786ab28a_7362_11ea_bcda_787b8ae106a6row8_col8\" class=\"data row8 col8\" >1</td>\n",
       "                        <td id=\"T_786ab28a_7362_11ea_bcda_787b8ae106a6row8_col9\" class=\"data row8 col9\" >-0.14</td>\n",
       "                        <td id=\"T_786ab28a_7362_11ea_bcda_787b8ae106a6row8_col10\" class=\"data row8 col10\" >0.11</td>\n",
       "                        <td id=\"T_786ab28a_7362_11ea_bcda_787b8ae106a6row8_col11\" class=\"data row8 col11\" >0.29</td>\n",
       "                        <td id=\"T_786ab28a_7362_11ea_bcda_787b8ae106a6row8_col12\" class=\"data row8 col12\" >0.11</td>\n",
       "            </tr>\n",
       "            <tr>\n",
       "                        <th id=\"T_786ab28a_7362_11ea_bcda_787b8ae106a6level0_row9\" class=\"row_heading level0 row9\" >Date_of_Occupancy</th>\n",
       "                        <td id=\"T_786ab28a_7362_11ea_bcda_787b8ae106a6row9_col0\" class=\"data row9 col0\" >-0.029</td>\n",
       "                        <td id=\"T_786ab28a_7362_11ea_bcda_787b8ae106a6row9_col1\" class=\"data row9 col1\" >-0.0089</td>\n",
       "                        <td id=\"T_786ab28a_7362_11ea_bcda_787b8ae106a6row9_col2\" class=\"data row9 col2\" >-0.034</td>\n",
       "                        <td id=\"T_786ab28a_7362_11ea_bcda_787b8ae106a6row9_col3\" class=\"data row9 col3\" >-0.096</td>\n",
       "                        <td id=\"T_786ab28a_7362_11ea_bcda_787b8ae106a6row9_col4\" class=\"data row9 col4\" >0.18</td>\n",
       "                        <td id=\"T_786ab28a_7362_11ea_bcda_787b8ae106a6row9_col5\" class=\"data row9 col5\" >0.18</td>\n",
       "                        <td id=\"T_786ab28a_7362_11ea_bcda_787b8ae106a6row9_col6\" class=\"data row9 col6\" >0.18</td>\n",
       "                        <td id=\"T_786ab28a_7362_11ea_bcda_787b8ae106a6row9_col7\" class=\"data row9 col7\" >0.2</td>\n",
       "                        <td id=\"T_786ab28a_7362_11ea_bcda_787b8ae106a6row9_col8\" class=\"data row9 col8\" >-0.14</td>\n",
       "                        <td id=\"T_786ab28a_7362_11ea_bcda_787b8ae106a6row9_col9\" class=\"data row9 col9\" >1</td>\n",
       "                        <td id=\"T_786ab28a_7362_11ea_bcda_787b8ae106a6row9_col10\" class=\"data row9 col10\" >-0.16</td>\n",
       "                        <td id=\"T_786ab28a_7362_11ea_bcda_787b8ae106a6row9_col11\" class=\"data row9 col11\" >0.011</td>\n",
       "                        <td id=\"T_786ab28a_7362_11ea_bcda_787b8ae106a6row9_col12\" class=\"data row9 col12\" >0.017</td>\n",
       "            </tr>\n",
       "            <tr>\n",
       "                        <th id=\"T_786ab28a_7362_11ea_bcda_787b8ae106a6level0_row10\" class=\"row_heading level0 row10\" >NumberOfWindows</th>\n",
       "                        <td id=\"T_786ab28a_7362_11ea_bcda_787b8ae106a6row10_col0\" class=\"data row10 col0\" >0.1</td>\n",
       "                        <td id=\"T_786ab28a_7362_11ea_bcda_787b8ae106a6row10_col1\" class=\"data row10 col1\" >0.041</td>\n",
       "                        <td id=\"T_786ab28a_7362_11ea_bcda_787b8ae106a6row10_col2\" class=\"data row10 col2\" >0.13</td>\n",
       "                        <td id=\"T_786ab28a_7362_11ea_bcda_787b8ae106a6row10_col3\" class=\"data row10 col3\" >0.5</td>\n",
       "                        <td id=\"T_786ab28a_7362_11ea_bcda_787b8ae106a6row10_col4\" class=\"data row10 col4\" >-0.86</td>\n",
       "                        <td id=\"T_786ab28a_7362_11ea_bcda_787b8ae106a6row10_col5\" class=\"data row10 col5\" >-0.86</td>\n",
       "                        <td id=\"T_786ab28a_7362_11ea_bcda_787b8ae106a6row10_col6\" class=\"data row10 col6\" >-0.86</td>\n",
       "                        <td id=\"T_786ab28a_7362_11ea_bcda_787b8ae106a6row10_col7\" class=\"data row10 col7\" >0.29</td>\n",
       "                        <td id=\"T_786ab28a_7362_11ea_bcda_787b8ae106a6row10_col8\" class=\"data row10 col8\" >0.11</td>\n",
       "                        <td id=\"T_786ab28a_7362_11ea_bcda_787b8ae106a6row10_col9\" class=\"data row10 col9\" >-0.16</td>\n",
       "                        <td id=\"T_786ab28a_7362_11ea_bcda_787b8ae106a6row10_col10\" class=\"data row10 col10\" >1</td>\n",
       "                        <td id=\"T_786ab28a_7362_11ea_bcda_787b8ae106a6row10_col11\" class=\"data row10 col11\" >0.072</td>\n",
       "                        <td id=\"T_786ab28a_7362_11ea_bcda_787b8ae106a6row10_col12\" class=\"data row10 col12\" >0.14</td>\n",
       "            </tr>\n",
       "            <tr>\n",
       "                        <th id=\"T_786ab28a_7362_11ea_bcda_787b8ae106a6level0_row11\" class=\"row_heading level0 row11\" >Geo_Code</th>\n",
       "                        <td id=\"T_786ab28a_7362_11ea_bcda_787b8ae106a6row11_col0\" class=\"data row11 col0\" >0.008</td>\n",
       "                        <td id=\"T_786ab28a_7362_11ea_bcda_787b8ae106a6row11_col1\" class=\"data row11 col1\" >0.0041</td>\n",
       "                        <td id=\"T_786ab28a_7362_11ea_bcda_787b8ae106a6row11_col2\" class=\"data row11 col2\" >0.32</td>\n",
       "                        <td id=\"T_786ab28a_7362_11ea_bcda_787b8ae106a6row11_col3\" class=\"data row11 col3\" >0.014</td>\n",
       "                        <td id=\"T_786ab28a_7362_11ea_bcda_787b8ae106a6row11_col4\" class=\"data row11 col4\" >-0.055</td>\n",
       "                        <td id=\"T_786ab28a_7362_11ea_bcda_787b8ae106a6row11_col5\" class=\"data row11 col5\" >-0.055</td>\n",
       "                        <td id=\"T_786ab28a_7362_11ea_bcda_787b8ae106a6row11_col6\" class=\"data row11 col6\" >-0.055</td>\n",
       "                        <td id=\"T_786ab28a_7362_11ea_bcda_787b8ae106a6row11_col7\" class=\"data row11 col7\" >0.0096</td>\n",
       "                        <td id=\"T_786ab28a_7362_11ea_bcda_787b8ae106a6row11_col8\" class=\"data row11 col8\" >0.29</td>\n",
       "                        <td id=\"T_786ab28a_7362_11ea_bcda_787b8ae106a6row11_col9\" class=\"data row11 col9\" >0.011</td>\n",
       "                        <td id=\"T_786ab28a_7362_11ea_bcda_787b8ae106a6row11_col10\" class=\"data row11 col10\" >0.072</td>\n",
       "                        <td id=\"T_786ab28a_7362_11ea_bcda_787b8ae106a6row11_col11\" class=\"data row11 col11\" >1</td>\n",
       "                        <td id=\"T_786ab28a_7362_11ea_bcda_787b8ae106a6row11_col12\" class=\"data row11 col12\" >0.045</td>\n",
       "            </tr>\n",
       "            <tr>\n",
       "                        <th id=\"T_786ab28a_7362_11ea_bcda_787b8ae106a6level0_row12\" class=\"row_heading level0 row12\" >Claim</th>\n",
       "                        <td id=\"T_786ab28a_7362_11ea_bcda_787b8ae106a6row12_col0\" class=\"data row12 col0\" >-0.015</td>\n",
       "                        <td id=\"T_786ab28a_7362_11ea_bcda_787b8ae106a6row12_col1\" class=\"data row12 col1\" >0.087</td>\n",
       "                        <td id=\"T_786ab28a_7362_11ea_bcda_787b8ae106a6row12_col2\" class=\"data row12 col2\" >0.064</td>\n",
       "                        <td id=\"T_786ab28a_7362_11ea_bcda_787b8ae106a6row12_col3\" class=\"data row12 col3\" >0.031</td>\n",
       "                        <td id=\"T_786ab28a_7362_11ea_bcda_787b8ae106a6row12_col4\" class=\"data row12 col4\" >-0.051</td>\n",
       "                        <td id=\"T_786ab28a_7362_11ea_bcda_787b8ae106a6row12_col5\" class=\"data row12 col5\" >-0.051</td>\n",
       "                        <td id=\"T_786ab28a_7362_11ea_bcda_787b8ae106a6row12_col6\" class=\"data row12 col6\" >-0.051</td>\n",
       "                        <td id=\"T_786ab28a_7362_11ea_bcda_787b8ae106a6row12_col7\" class=\"data row12 col7\" >0.3</td>\n",
       "                        <td id=\"T_786ab28a_7362_11ea_bcda_787b8ae106a6row12_col8\" class=\"data row12 col8\" >0.11</td>\n",
       "                        <td id=\"T_786ab28a_7362_11ea_bcda_787b8ae106a6row12_col9\" class=\"data row12 col9\" >0.017</td>\n",
       "                        <td id=\"T_786ab28a_7362_11ea_bcda_787b8ae106a6row12_col10\" class=\"data row12 col10\" >0.14</td>\n",
       "                        <td id=\"T_786ab28a_7362_11ea_bcda_787b8ae106a6row12_col11\" class=\"data row12 col11\" >0.045</td>\n",
       "                        <td id=\"T_786ab28a_7362_11ea_bcda_787b8ae106a6row12_col12\" class=\"data row12 col12\" >1</td>\n",
       "            </tr>\n",
       "    </tbody></table>"
      ],
      "text/plain": [
       "<pandas.io.formats.style.Styler at 0x121a56390>"
      ]
     },
     "execution_count": 22,
     "metadata": {},
     "output_type": "execute_result"
    }
   ],
   "source": [
    "corr = train.corr()\n",
    "corr.style.background_gradient(cmap='coolwarm').set_precision(2)"
   ]
  },
  {
   "cell_type": "markdown",
   "metadata": {},
   "source": [
    "There are a strong positive correlations between the Building_Fenced, Garden and Settlement variables. This checks out with intuition, for example, if a building has a garden it most likely has a fence and vice versa."
   ]
  },
  {
   "cell_type": "markdown",
   "metadata": {},
   "source": [
    "# Clean the test data "
   ]
  },
  {
   "cell_type": "code",
   "execution_count": 86,
   "metadata": {},
   "outputs": [
    {
     "data": {
      "text/html": [
       "<div>\n",
       "<style scoped>\n",
       "    .dataframe tbody tr th:only-of-type {\n",
       "        vertical-align: middle;\n",
       "    }\n",
       "\n",
       "    .dataframe tbody tr th {\n",
       "        vertical-align: top;\n",
       "    }\n",
       "\n",
       "    .dataframe thead th {\n",
       "        text-align: right;\n",
       "    }\n",
       "</style>\n",
       "<table border=\"1\" class=\"dataframe\">\n",
       "  <thead>\n",
       "    <tr style=\"text-align: right;\">\n",
       "      <th></th>\n",
       "      <th>Customer Id</th>\n",
       "      <th>YearOfObservation</th>\n",
       "      <th>Insured_Period</th>\n",
       "      <th>Residential</th>\n",
       "      <th>Building_Painted</th>\n",
       "      <th>Building_Fenced</th>\n",
       "      <th>Garden</th>\n",
       "      <th>Settlement</th>\n",
       "      <th>Building Dimension</th>\n",
       "      <th>Building_Type</th>\n",
       "      <th>Date_of_Occupancy</th>\n",
       "      <th>NumberOfWindows</th>\n",
       "      <th>Geo_Code</th>\n",
       "    </tr>\n",
       "  </thead>\n",
       "  <tbody>\n",
       "    <tr>\n",
       "      <td>0</td>\n",
       "      <td>H11920</td>\n",
       "      <td>2013</td>\n",
       "      <td>1.000000</td>\n",
       "      <td>0</td>\n",
       "      <td>V</td>\n",
       "      <td>N</td>\n",
       "      <td>O</td>\n",
       "      <td>R</td>\n",
       "      <td>300.0</td>\n",
       "      <td>1</td>\n",
       "      <td>1960.0</td>\n",
       "      <td>3</td>\n",
       "      <td>3310</td>\n",
       "    </tr>\n",
       "    <tr>\n",
       "      <td>1</td>\n",
       "      <td>H11921</td>\n",
       "      <td>2016</td>\n",
       "      <td>0.997268</td>\n",
       "      <td>0</td>\n",
       "      <td>V</td>\n",
       "      <td>N</td>\n",
       "      <td>O</td>\n",
       "      <td>R</td>\n",
       "      <td>300.0</td>\n",
       "      <td>1</td>\n",
       "      <td>1960.0</td>\n",
       "      <td>3</td>\n",
       "      <td>3310</td>\n",
       "    </tr>\n",
       "    <tr>\n",
       "      <td>2</td>\n",
       "      <td>H9805</td>\n",
       "      <td>2013</td>\n",
       "      <td>0.369863</td>\n",
       "      <td>0</td>\n",
       "      <td>V</td>\n",
       "      <td>V</td>\n",
       "      <td>V</td>\n",
       "      <td>U</td>\n",
       "      <td>790.0</td>\n",
       "      <td>1</td>\n",
       "      <td>1960.0</td>\n",
       "      <td>.</td>\n",
       "      <td>3310</td>\n",
       "    </tr>\n",
       "    <tr>\n",
       "      <td>3</td>\n",
       "      <td>H7493</td>\n",
       "      <td>2014</td>\n",
       "      <td>1.000000</td>\n",
       "      <td>0</td>\n",
       "      <td>V</td>\n",
       "      <td>N</td>\n",
       "      <td>O</td>\n",
       "      <td>R</td>\n",
       "      <td>1405.0</td>\n",
       "      <td>1</td>\n",
       "      <td>2004.0</td>\n",
       "      <td>3</td>\n",
       "      <td>3321</td>\n",
       "    </tr>\n",
       "    <tr>\n",
       "      <td>4</td>\n",
       "      <td>H7494</td>\n",
       "      <td>2016</td>\n",
       "      <td>1.000000</td>\n",
       "      <td>0</td>\n",
       "      <td>V</td>\n",
       "      <td>N</td>\n",
       "      <td>O</td>\n",
       "      <td>R</td>\n",
       "      <td>1405.0</td>\n",
       "      <td>1</td>\n",
       "      <td>2004.0</td>\n",
       "      <td>3</td>\n",
       "      <td>3321</td>\n",
       "    </tr>\n",
       "  </tbody>\n",
       "</table>\n",
       "</div>"
      ],
      "text/plain": [
       "  Customer Id  YearOfObservation  Insured_Period  Residential  \\\n",
       "0      H11920               2013        1.000000            0   \n",
       "1      H11921               2016        0.997268            0   \n",
       "2       H9805               2013        0.369863            0   \n",
       "3       H7493               2014        1.000000            0   \n",
       "4       H7494               2016        1.000000            0   \n",
       "\n",
       "  Building_Painted Building_Fenced Garden Settlement  Building Dimension  \\\n",
       "0                V               N      O          R               300.0   \n",
       "1                V               N      O          R               300.0   \n",
       "2                V               V      V          U               790.0   \n",
       "3                V               N      O          R              1405.0   \n",
       "4                V               N      O          R              1405.0   \n",
       "\n",
       "   Building_Type  Date_of_Occupancy NumberOfWindows Geo_Code  \n",
       "0              1             1960.0               3     3310  \n",
       "1              1             1960.0               3     3310  \n",
       "2              1             1960.0               .     3310  \n",
       "3              1             2004.0               3     3321  \n",
       "4              1             2004.0               3     3321  "
      ]
     },
     "execution_count": 86,
     "metadata": {},
     "output_type": "execute_result"
    }
   ],
   "source": [
    "test.head()"
   ]
  },
  {
   "cell_type": "code",
   "execution_count": 102,
   "metadata": {},
   "outputs": [],
   "source": [
    "test = test.set_index('Customer Id')"
   ]
  },
  {
   "cell_type": "code",
   "execution_count": 84,
   "metadata": {},
   "outputs": [
    {
     "data": {
      "text/html": [
       "<div>\n",
       "<style scoped>\n",
       "    .dataframe tbody tr th:only-of-type {\n",
       "        vertical-align: middle;\n",
       "    }\n",
       "\n",
       "    .dataframe tbody tr th {\n",
       "        vertical-align: top;\n",
       "    }\n",
       "\n",
       "    .dataframe thead th {\n",
       "        text-align: right;\n",
       "    }\n",
       "</style>\n",
       "<table border=\"1\" class=\"dataframe\">\n",
       "  <thead>\n",
       "    <tr style=\"text-align: right;\">\n",
       "      <th></th>\n",
       "      <th>DataType</th>\n",
       "      <th>MissingVal</th>\n",
       "      <th>NUnique</th>\n",
       "      <th>Count</th>\n",
       "    </tr>\n",
       "  </thead>\n",
       "  <tbody>\n",
       "    <tr>\n",
       "      <td>Customer Id</td>\n",
       "      <td>object</td>\n",
       "      <td>0</td>\n",
       "      <td>3069</td>\n",
       "      <td>3069</td>\n",
       "    </tr>\n",
       "    <tr>\n",
       "      <td>YearOfObservation</td>\n",
       "      <td>int64</td>\n",
       "      <td>0</td>\n",
       "      <td>5</td>\n",
       "      <td>3069</td>\n",
       "    </tr>\n",
       "    <tr>\n",
       "      <td>Insured_Period</td>\n",
       "      <td>float64</td>\n",
       "      <td>0</td>\n",
       "      <td>198</td>\n",
       "      <td>3069</td>\n",
       "    </tr>\n",
       "    <tr>\n",
       "      <td>Residential</td>\n",
       "      <td>int64</td>\n",
       "      <td>0</td>\n",
       "      <td>2</td>\n",
       "      <td>3069</td>\n",
       "    </tr>\n",
       "    <tr>\n",
       "      <td>Building_Painted</td>\n",
       "      <td>object</td>\n",
       "      <td>0</td>\n",
       "      <td>2</td>\n",
       "      <td>3069</td>\n",
       "    </tr>\n",
       "    <tr>\n",
       "      <td>Building_Fenced</td>\n",
       "      <td>object</td>\n",
       "      <td>0</td>\n",
       "      <td>2</td>\n",
       "      <td>3069</td>\n",
       "    </tr>\n",
       "    <tr>\n",
       "      <td>Garden</td>\n",
       "      <td>object</td>\n",
       "      <td>4</td>\n",
       "      <td>2</td>\n",
       "      <td>3065</td>\n",
       "    </tr>\n",
       "    <tr>\n",
       "      <td>Settlement</td>\n",
       "      <td>object</td>\n",
       "      <td>0</td>\n",
       "      <td>2</td>\n",
       "      <td>3069</td>\n",
       "    </tr>\n",
       "    <tr>\n",
       "      <td>Building Dimension</td>\n",
       "      <td>float64</td>\n",
       "      <td>13</td>\n",
       "      <td>982</td>\n",
       "      <td>3056</td>\n",
       "    </tr>\n",
       "    <tr>\n",
       "      <td>Building_Type</td>\n",
       "      <td>int64</td>\n",
       "      <td>0</td>\n",
       "      <td>4</td>\n",
       "      <td>3069</td>\n",
       "    </tr>\n",
       "    <tr>\n",
       "      <td>Date_of_Occupancy</td>\n",
       "      <td>float64</td>\n",
       "      <td>728</td>\n",
       "      <td>89</td>\n",
       "      <td>2341</td>\n",
       "    </tr>\n",
       "    <tr>\n",
       "      <td>NumberOfWindows</td>\n",
       "      <td>object</td>\n",
       "      <td>0</td>\n",
       "      <td>11</td>\n",
       "      <td>3069</td>\n",
       "    </tr>\n",
       "    <tr>\n",
       "      <td>Geo_Code</td>\n",
       "      <td>object</td>\n",
       "      <td>13</td>\n",
       "      <td>697</td>\n",
       "      <td>3056</td>\n",
       "    </tr>\n",
       "  </tbody>\n",
       "</table>\n",
       "</div>"
      ],
      "text/plain": [
       "                   DataType  MissingVal  NUnique  Count\n",
       "Customer Id          object           0     3069   3069\n",
       "YearOfObservation     int64           0        5   3069\n",
       "Insured_Period      float64           0      198   3069\n",
       "Residential           int64           0        2   3069\n",
       "Building_Painted     object           0        2   3069\n",
       "Building_Fenced      object           0        2   3069\n",
       "Garden               object           4        2   3065\n",
       "Settlement           object           0        2   3069\n",
       "Building Dimension  float64          13      982   3056\n",
       "Building_Type         int64           0        4   3069\n",
       "Date_of_Occupancy   float64         728       89   2341\n",
       "NumberOfWindows      object           0       11   3069\n",
       "Geo_Code             object          13      697   3056"
      ]
     },
     "execution_count": 84,
     "metadata": {},
     "output_type": "execute_result"
    }
   ],
   "source": [
    "#Data types\n",
    "datadict_test = pd.DataFrame(test.dtypes)\n",
    "#Missing values\n",
    "datadict_test['MissingVal'] = test.isnull().sum()\n",
    "#Unique values\n",
    "datadict_test['NUnique']=test.nunique()\n",
    "#Count of variable\n",
    "datadict_test['Count']=test.count()\n",
    "#Rename 0 to datatype\n",
    "datadict_test = datadict_test.rename(columns={0:'DataType'})\n",
    "datadict_test"
   ]
  },
  {
   "cell_type": "code",
   "execution_count": 87,
   "metadata": {},
   "outputs": [
    {
     "data": {
      "text/html": [
       "<div>\n",
       "<style scoped>\n",
       "    .dataframe tbody tr th:only-of-type {\n",
       "        vertical-align: middle;\n",
       "    }\n",
       "\n",
       "    .dataframe tbody tr th {\n",
       "        vertical-align: top;\n",
       "    }\n",
       "\n",
       "    .dataframe thead th {\n",
       "        text-align: right;\n",
       "    }\n",
       "</style>\n",
       "<table border=\"1\" class=\"dataframe\">\n",
       "  <thead>\n",
       "    <tr style=\"text-align: right;\">\n",
       "      <th></th>\n",
       "      <th>Customer Id</th>\n",
       "      <th>Building_Painted</th>\n",
       "      <th>Building_Fenced</th>\n",
       "      <th>Garden</th>\n",
       "      <th>Settlement</th>\n",
       "      <th>NumberOfWindows</th>\n",
       "      <th>Geo_Code</th>\n",
       "    </tr>\n",
       "  </thead>\n",
       "  <tbody>\n",
       "    <tr>\n",
       "      <td>count</td>\n",
       "      <td>3069</td>\n",
       "      <td>3069</td>\n",
       "      <td>3069</td>\n",
       "      <td>3065</td>\n",
       "      <td>3069</td>\n",
       "      <td>3069</td>\n",
       "      <td>3056</td>\n",
       "    </tr>\n",
       "    <tr>\n",
       "      <td>unique</td>\n",
       "      <td>3069</td>\n",
       "      <td>2</td>\n",
       "      <td>2</td>\n",
       "      <td>2</td>\n",
       "      <td>2</td>\n",
       "      <td>11</td>\n",
       "      <td>697</td>\n",
       "    </tr>\n",
       "    <tr>\n",
       "      <td>top</td>\n",
       "      <td>H7793</td>\n",
       "      <td>V</td>\n",
       "      <td>V</td>\n",
       "      <td>V</td>\n",
       "      <td>U</td>\n",
       "      <td>.</td>\n",
       "      <td>6083</td>\n",
       "    </tr>\n",
       "    <tr>\n",
       "      <td>freq</td>\n",
       "      <td>1</td>\n",
       "      <td>1684</td>\n",
       "      <td>2240</td>\n",
       "      <td>2240</td>\n",
       "      <td>2240</td>\n",
       "      <td>2240</td>\n",
       "      <td>113</td>\n",
       "    </tr>\n",
       "  </tbody>\n",
       "</table>\n",
       "</div>"
      ],
      "text/plain": [
       "       Customer Id Building_Painted Building_Fenced Garden Settlement  \\\n",
       "count         3069             3069            3069   3065       3069   \n",
       "unique        3069                2               2      2          2   \n",
       "top          H7793                V               V      V          U   \n",
       "freq             1             1684            2240   2240       2240   \n",
       "\n",
       "       NumberOfWindows Geo_Code  \n",
       "count             3069     3056  \n",
       "unique              11      697  \n",
       "top                  .     6083  \n",
       "freq              2240      113  "
      ]
     },
     "execution_count": 87,
     "metadata": {},
     "output_type": "execute_result"
    }
   ],
   "source": [
    "test.describe(include=['object'])"
   ]
  },
  {
   "cell_type": "code",
   "execution_count": 88,
   "metadata": {},
   "outputs": [
    {
     "data": {
      "text/html": [
       "<div>\n",
       "<style scoped>\n",
       "    .dataframe tbody tr th:only-of-type {\n",
       "        vertical-align: middle;\n",
       "    }\n",
       "\n",
       "    .dataframe tbody tr th {\n",
       "        vertical-align: top;\n",
       "    }\n",
       "\n",
       "    .dataframe thead th {\n",
       "        text-align: right;\n",
       "    }\n",
       "</style>\n",
       "<table border=\"1\" class=\"dataframe\">\n",
       "  <thead>\n",
       "    <tr style=\"text-align: right;\">\n",
       "      <th></th>\n",
       "      <th>YearOfObservation</th>\n",
       "      <th>Insured_Period</th>\n",
       "      <th>Residential</th>\n",
       "      <th>Building Dimension</th>\n",
       "      <th>Building_Type</th>\n",
       "      <th>Date_of_Occupancy</th>\n",
       "    </tr>\n",
       "  </thead>\n",
       "  <tbody>\n",
       "    <tr>\n",
       "      <td>count</td>\n",
       "      <td>3069.000000</td>\n",
       "      <td>3069.000000</td>\n",
       "      <td>3069.000000</td>\n",
       "      <td>3056.000000</td>\n",
       "      <td>3069.000000</td>\n",
       "      <td>2341.000000</td>\n",
       "    </tr>\n",
       "    <tr>\n",
       "      <td>mean</td>\n",
       "      <td>2013.593679</td>\n",
       "      <td>0.922806</td>\n",
       "      <td>0.224177</td>\n",
       "      <td>1666.790576</td>\n",
       "      <td>2.359400</td>\n",
       "      <td>1966.781717</td>\n",
       "    </tr>\n",
       "    <tr>\n",
       "      <td>std</td>\n",
       "      <td>1.372138</td>\n",
       "      <td>0.219066</td>\n",
       "      <td>0.417107</td>\n",
       "      <td>2251.180599</td>\n",
       "      <td>0.998464</td>\n",
       "      <td>25.238702</td>\n",
       "    </tr>\n",
       "    <tr>\n",
       "      <td>min</td>\n",
       "      <td>2012.000000</td>\n",
       "      <td>0.000000</td>\n",
       "      <td>0.000000</td>\n",
       "      <td>1.000000</td>\n",
       "      <td>1.000000</td>\n",
       "      <td>1750.000000</td>\n",
       "    </tr>\n",
       "    <tr>\n",
       "      <td>25%</td>\n",
       "      <td>2012.000000</td>\n",
       "      <td>1.000000</td>\n",
       "      <td>0.000000</td>\n",
       "      <td>470.000000</td>\n",
       "      <td>2.000000</td>\n",
       "      <td>1960.000000</td>\n",
       "    </tr>\n",
       "    <tr>\n",
       "      <td>50%</td>\n",
       "      <td>2013.000000</td>\n",
       "      <td>1.000000</td>\n",
       "      <td>0.000000</td>\n",
       "      <td>900.000000</td>\n",
       "      <td>2.000000</td>\n",
       "      <td>1968.000000</td>\n",
       "    </tr>\n",
       "    <tr>\n",
       "      <td>75%</td>\n",
       "      <td>2015.000000</td>\n",
       "      <td>1.000000</td>\n",
       "      <td>0.000000</td>\n",
       "      <td>1957.000000</td>\n",
       "      <td>3.000000</td>\n",
       "      <td>1980.000000</td>\n",
       "    </tr>\n",
       "    <tr>\n",
       "      <td>max</td>\n",
       "      <td>2016.000000</td>\n",
       "      <td>1.000000</td>\n",
       "      <td>1.000000</td>\n",
       "      <td>30745.000000</td>\n",
       "      <td>4.000000</td>\n",
       "      <td>2012.000000</td>\n",
       "    </tr>\n",
       "  </tbody>\n",
       "</table>\n",
       "</div>"
      ],
      "text/plain": [
       "       YearOfObservation  Insured_Period  Residential  Building Dimension  \\\n",
       "count        3069.000000     3069.000000  3069.000000         3056.000000   \n",
       "mean         2013.593679        0.922806     0.224177         1666.790576   \n",
       "std             1.372138        0.219066     0.417107         2251.180599   \n",
       "min          2012.000000        0.000000     0.000000            1.000000   \n",
       "25%          2012.000000        1.000000     0.000000          470.000000   \n",
       "50%          2013.000000        1.000000     0.000000          900.000000   \n",
       "75%          2015.000000        1.000000     0.000000         1957.000000   \n",
       "max          2016.000000        1.000000     1.000000        30745.000000   \n",
       "\n",
       "       Building_Type  Date_of_Occupancy  \n",
       "count    3069.000000        2341.000000  \n",
       "mean        2.359400        1966.781717  \n",
       "std         0.998464          25.238702  \n",
       "min         1.000000        1750.000000  \n",
       "25%         2.000000        1960.000000  \n",
       "50%         2.000000        1968.000000  \n",
       "75%         3.000000        1980.000000  \n",
       "max         4.000000        2012.000000  "
      ]
     },
     "execution_count": 88,
     "metadata": {},
     "output_type": "execute_result"
    }
   ],
   "source": [
    "test.describe(include=['number'])"
   ]
  },
  {
   "cell_type": "code",
   "execution_count": 90,
   "metadata": {},
   "outputs": [],
   "source": [
    "test['NumberOfWindows'] = test['NumberOfWindows'].str.replace('.','0')"
   ]
  },
  {
   "cell_type": "code",
   "execution_count": 91,
   "metadata": {},
   "outputs": [],
   "source": [
    "test['NumberOfWindows'] = test['NumberOfWindows'].map(lambda x: x.lstrip('>='))\n",
    "test['NumberOfWindows']= test['NumberOfWindows'].astype(str).astype(int)"
   ]
  },
  {
   "cell_type": "code",
   "execution_count": 95,
   "metadata": {},
   "outputs": [],
   "source": [
    "test = test.dropna(axis=0, subset=['Garden','Geo_Code'])"
   ]
  },
  {
   "cell_type": "code",
   "execution_count": 94,
   "metadata": {},
   "outputs": [
    {
     "data": {
      "text/html": [
       "<div>\n",
       "<style scoped>\n",
       "    .dataframe tbody tr th:only-of-type {\n",
       "        vertical-align: middle;\n",
       "    }\n",
       "\n",
       "    .dataframe tbody tr th {\n",
       "        vertical-align: top;\n",
       "    }\n",
       "\n",
       "    .dataframe thead th {\n",
       "        text-align: right;\n",
       "    }\n",
       "</style>\n",
       "<table border=\"1\" class=\"dataframe\">\n",
       "  <thead>\n",
       "    <tr style=\"text-align: right;\">\n",
       "      <th></th>\n",
       "      <th>Customer Id</th>\n",
       "      <th>YearOfObservation</th>\n",
       "      <th>Insured_Period</th>\n",
       "      <th>Residential</th>\n",
       "      <th>Building_Painted</th>\n",
       "      <th>Building_Fenced</th>\n",
       "      <th>Garden</th>\n",
       "      <th>Settlement</th>\n",
       "      <th>Building Dimension</th>\n",
       "      <th>Building_Type</th>\n",
       "      <th>Date_of_Occupancy</th>\n",
       "      <th>NumberOfWindows</th>\n",
       "      <th>Geo_Code</th>\n",
       "    </tr>\n",
       "  </thead>\n",
       "  <tbody>\n",
       "    <tr>\n",
       "      <td>0</td>\n",
       "      <td>1153</td>\n",
       "      <td>1</td>\n",
       "      <td>197</td>\n",
       "      <td>0</td>\n",
       "      <td>1</td>\n",
       "      <td>0</td>\n",
       "      <td>O</td>\n",
       "      <td>0</td>\n",
       "      <td>300.0</td>\n",
       "      <td>1</td>\n",
       "      <td>1960.0</td>\n",
       "      <td>3</td>\n",
       "      <td>3310</td>\n",
       "    </tr>\n",
       "    <tr>\n",
       "      <td>1</td>\n",
       "      <td>1154</td>\n",
       "      <td>4</td>\n",
       "      <td>196</td>\n",
       "      <td>0</td>\n",
       "      <td>1</td>\n",
       "      <td>0</td>\n",
       "      <td>O</td>\n",
       "      <td>0</td>\n",
       "      <td>300.0</td>\n",
       "      <td>1</td>\n",
       "      <td>1960.0</td>\n",
       "      <td>3</td>\n",
       "      <td>3310</td>\n",
       "    </tr>\n",
       "    <tr>\n",
       "      <td>2</td>\n",
       "      <td>2966</td>\n",
       "      <td>1</td>\n",
       "      <td>73</td>\n",
       "      <td>0</td>\n",
       "      <td>1</td>\n",
       "      <td>1</td>\n",
       "      <td>V</td>\n",
       "      <td>1</td>\n",
       "      <td>790.0</td>\n",
       "      <td>1</td>\n",
       "      <td>1960.0</td>\n",
       "      <td>0</td>\n",
       "      <td>3310</td>\n",
       "    </tr>\n",
       "    <tr>\n",
       "      <td>3</td>\n",
       "      <td>1511</td>\n",
       "      <td>2</td>\n",
       "      <td>197</td>\n",
       "      <td>0</td>\n",
       "      <td>1</td>\n",
       "      <td>0</td>\n",
       "      <td>O</td>\n",
       "      <td>0</td>\n",
       "      <td>1405.0</td>\n",
       "      <td>1</td>\n",
       "      <td>2004.0</td>\n",
       "      <td>3</td>\n",
       "      <td>3321</td>\n",
       "    </tr>\n",
       "    <tr>\n",
       "      <td>4</td>\n",
       "      <td>1512</td>\n",
       "      <td>4</td>\n",
       "      <td>197</td>\n",
       "      <td>0</td>\n",
       "      <td>1</td>\n",
       "      <td>0</td>\n",
       "      <td>O</td>\n",
       "      <td>0</td>\n",
       "      <td>1405.0</td>\n",
       "      <td>1</td>\n",
       "      <td>2004.0</td>\n",
       "      <td>3</td>\n",
       "      <td>3321</td>\n",
       "    </tr>\n",
       "  </tbody>\n",
       "</table>\n",
       "</div>"
      ],
      "text/plain": [
       "   Customer Id  YearOfObservation  Insured_Period  Residential  \\\n",
       "0         1153                  1             197            0   \n",
       "1         1154                  4             196            0   \n",
       "2         2966                  1              73            0   \n",
       "3         1511                  2             197            0   \n",
       "4         1512                  4             197            0   \n",
       "\n",
       "   Building_Painted  Building_Fenced Garden  Settlement  Building Dimension  \\\n",
       "0                 1                0      O           0               300.0   \n",
       "1                 1                0      O           0               300.0   \n",
       "2                 1                1      V           1               790.0   \n",
       "3                 1                0      O           0              1405.0   \n",
       "4                 1                0      O           0              1405.0   \n",
       "\n",
       "   Building_Type  Date_of_Occupancy  NumberOfWindows Geo_Code  \n",
       "0              1             1960.0                3     3310  \n",
       "1              1             1960.0                3     3310  \n",
       "2              1             1960.0                0     3310  \n",
       "3              1             2004.0                3     3321  \n",
       "4              1             2004.0                3     3321  "
      ]
     },
     "execution_count": 94,
     "metadata": {},
     "output_type": "execute_result"
    }
   ],
   "source": [
    "test.head()"
   ]
  },
  {
   "cell_type": "code",
   "execution_count": 96,
   "metadata": {},
   "outputs": [],
   "source": [
    "from sklearn.preprocessing import LabelEncoder\n",
    "\n",
    "lb = LabelEncoder() \n",
    "\n",
    "for column in test[['Building_Painted','Building_Fenced','Settlement','Garden','Geo_Code']]:\n",
    "    test[column] = lb.fit_transform(test[column])"
   ]
  },
  {
   "cell_type": "code",
   "execution_count": null,
   "metadata": {},
   "outputs": [],
   "source": []
  },
  {
   "cell_type": "markdown",
   "metadata": {},
   "source": [
    "# XGBoost algorithm\n",
    "\n",
    "### What is XGBoost?\n",
    "\n",
    "**XGBoost** stands for **Extreme Gradient Boosting**. XGBoost is a powerful machine learning algorithm that is dominating the world of applied machine learning and Kaggle competitions. It is an implementation of gradient boosted trees designed for speed and accuracy.\n",
    "\n",
    "XGBoost belongs to a family of boosting algorithms. It uses the gradient boosting (GBM) framework at its core. So, first of all we should know about gradient boosting.\n",
    "\n",
    "\n",
    "#### Gradient boosting\n",
    "\n",
    "Gradient boosting is a supervised machine learning algorithm, which tries to predict a target variable by combining the estimates of a set of simpler, weaker models. In boosting, the trees are built in a sequential manner such that each subsequent tree aims to reduce the errors of the previous tree. The misclassified labels are given higher weights. Each tree learns from its predecessors and tries to reduce the residual errors. So, the tree next in sequence will learn from the previous tree residuals.\n",
    "\n",
    "#### XGBoost\n",
    "\n",
    "In XGBoost, we try to fit a model on the gradient of the loss function generated from the previous step. So, in XGBoost we modified our gradient boosting algorithm so that it works with any differentiable loss function.\n",
    "\n"
   ]
  },
  {
   "cell_type": "markdown",
   "metadata": {},
   "source": [
    "### XGBoost installation"
   ]
  },
  {
   "cell_type": "code",
   "execution_count": 23,
   "metadata": {},
   "outputs": [],
   "source": [
    "import xgboost as xgb"
   ]
  },
  {
   "cell_type": "markdown",
   "metadata": {},
   "source": [
    "### Declare feature vectors and target variable¶"
   ]
  },
  {
   "cell_type": "code",
   "execution_count": 79,
   "metadata": {},
   "outputs": [],
   "source": [
    "# Feature variables \n",
    "X = train.drop('Claim', axis=1) \n",
    "\n",
    "# Target variable\n",
    "y = train['Claim']"
   ]
  },
  {
   "cell_type": "markdown",
   "metadata": {},
   "source": [
    "Next we convert the dataset into an optimized data structure called **Dmatrix** which XGBoost supports and gives it acclaimed performance and efficiency gains. "
   ]
  },
  {
   "cell_type": "code",
   "execution_count": 80,
   "metadata": {},
   "outputs": [],
   "source": [
    "data_dmatrix = xgb.DMatrix(data=X,label=y)"
   ]
  },
  {
   "cell_type": "markdown",
   "metadata": {},
   "source": [
    "### Split data into separate training and test set"
   ]
  },
  {
   "cell_type": "code",
   "execution_count": 81,
   "metadata": {},
   "outputs": [],
   "source": [
    "from sklearn.model_selection import train_test_split\n",
    "\n",
    "X_train, X_test, y_train, y_test = train_test_split(X, y, test_size = 0.3, random_state = 0)"
   ]
  },
  {
   "cell_type": "markdown",
   "metadata": {},
   "source": [
    "## Train XGBoost \n",
    "\n",
    "Before running XGBoost, we must set three types of parameters: general parameters, booster parameters and task parameters.\n",
    "\n",
    "-**General parameters** relate to which booster we are using to do boosting, commonly tree or linear model\n",
    "\n",
    "-**Booster parameters** depend on which booster you have chosen\n",
    "\n",
    "-**Learning task parameters** decide on the learning scenario. For example, regression tasks may use different parameters with ranking tasks.\n",
    "\n",
    "-**Command line parameters** relate to behavior of CLI version of XGBoost.\n",
    "\n",
    "More information about XGBoost parameters can be found at: https://xgboost.readthedocs.io/en/latest/parameter.html\n",
    "\n",
    "For the **Learning Task Parameter** we choose the binary:logistic learning objective which is a  logistic regression for binary classification. It outputs probability.\n",
    "\n",
    "For the **Parameters of the Tree Booster** we set max_depth (Maximum depth of a tree) = 4. Increasing this value will make the model more complex and more likely to overfit. Also we set alpha = 10, which is the L1 regularization term on weights. Increasing alpha will make the model more conservative. Next we set the learning_rate/eta = 1. Step size shrinkage used in update to prevents overfitting. After each boosting step, we can directly get the weights of new features, and eta shrinks the feature weights to make the boosting process more conservative. Finally we set n_estimators = 110. It is the number of trees we want to build."
   ]
  },
  {
   "cell_type": "code",
   "execution_count": 82,
   "metadata": {},
   "outputs": [
    {
     "data": {
      "text/plain": [
       "XGBClassifier(alpha=10, base_score=0.5, booster='gbtree', colsample_bylevel=1,\n",
       "              colsample_bynode=1, colsample_bytree=1, gamma=0,\n",
       "              learning_rate=1.0, max_delta_step=0, max_depth=5,\n",
       "              min_child_weight=1, missing=None, n_estimators=110, n_jobs=1,\n",
       "              nthread=None, objective='binary:logistic', random_state=0,\n",
       "              reg_alpha=0, reg_lambda=1, scale_pos_weight=1, seed=None,\n",
       "              silent=None, subsample=1, verbosity=1)"
      ]
     },
     "execution_count": 82,
     "metadata": {},
     "output_type": "execute_result"
    }
   ],
   "source": [
    "# Import XGBClassifier\n",
    "from xgboost import XGBClassifier\n",
    "\n",
    "\n",
    "# Declare parameters\n",
    "params = {\n",
    "            'objective':'binary:logistic',\n",
    "            'max_depth': 5,\n",
    "            'alpha': 10,\n",
    "            'learning_rate': 1.0,\n",
    "            'n_estimators':110\n",
    "        }\n",
    "            \n",
    "            \n",
    "            \n",
    "# Instantiate the classifier \n",
    "xgb_clf = XGBClassifier(**params)\n",
    "\n",
    "\n",
    "\n",
    "# Fit the classifier to the training data\n",
    "xgb_clf.fit(X_train, y_train)"
   ]
  },
  {
   "cell_type": "markdown",
   "metadata": {},
   "source": [
    "### L1 Regularization in XGBoost"
   ]
  },
  {
   "cell_type": "code",
   "execution_count": 32,
   "metadata": {},
   "outputs": [],
   "source": [
    "l1_params = [1,10,100]\n",
    "rmses_l1=[]\n",
    "\n",
    "for reg in l1_params:\n",
    "    params[\"alpha\"] = reg\n",
    "    cv_results = xgb.cv(dtrain=data_dmatrix, params=params,\n",
    "                        nfold=4, num_boost_round=10,\n",
    "                        metrics=\"rmse\", as_pandas=True, seed=123)\n",
    "    rmses_l1.append(cv_results[\"test-rmse-mean\"] \\\n",
    "                    .tail(1).values[0])"
   ]
  },
  {
   "cell_type": "code",
   "execution_count": 33,
   "metadata": {},
   "outputs": [
    {
     "name": "stdout",
     "output_type": "stream",
     "text": [
      "Best rmse as a function of l1:\n",
      "    l1      rmse\n",
      "0    1  0.408128\n",
      "1   10  0.399291\n",
      "2  100  0.400752\n"
     ]
    }
   ],
   "source": [
    "print(\"Best rmse as a function of l1:\")\n",
    "print(pd.DataFrame(list(zip(l1_params,rmses_l1)),columns=[\"l1\",\"rmse\"]))"
   ]
  },
  {
   "cell_type": "markdown",
   "metadata": {},
   "source": [
    "## L2 Regularization in XGBoost"
   ]
  },
  {
   "cell_type": "code",
   "execution_count": 34,
   "metadata": {},
   "outputs": [
    {
     "name": "stdout",
     "output_type": "stream",
     "text": [
      "Best rmse as a function of l2:\n",
      "    l2      rmse\n",
      "0    1  0.403243\n",
      "1   10  0.403207\n",
      "2  100  0.402752\n"
     ]
    }
   ],
   "source": [
    "reg_params = [1, 10, 100]\n",
    "\n",
    "# Create an empty list for storing rmses as a function of l2 complexity\n",
    "rmses_l2 = []\n",
    "\n",
    "# Iterate over reg_params\n",
    "for reg in reg_params:\n",
    "\n",
    "    # Update l2 strength\n",
    "    params[\"lambda\"] = reg\n",
    "    \n",
    "    # Pass this updated param dictionary into cv\n",
    "    cv_results_rmse = xgb.cv(dtrain=data_dmatrix, params=params, nfold=2, num_boost_round=5, metrics=\"rmse\", as_pandas=True, seed=123)\n",
    "    \n",
    "    # Append best rmse (final round) to rmses_l2\n",
    "    rmses_l2.append(cv_results_rmse[\"test-rmse-mean\"].tail(1).values[0])\n",
    "\n",
    "# Look at best rmse per l2 param\n",
    "print(\"Best rmse as a function of l2:\")\n",
    "print(pd.DataFrame(list(zip(reg_params, rmses_l2)), columns=[\"l2\", \"rmse\"]))"
   ]
  },
  {
   "cell_type": "markdown",
   "metadata": {},
   "source": [
    "## Fine tuning XGBoost"
   ]
  },
  {
   "cell_type": "code",
   "execution_count": 37,
   "metadata": {},
   "outputs": [],
   "source": [
    "# Import plotting modules\n",
    "import matplotlib.pyplot as plt\n",
    "import seaborn as sns\n",
    "import pandas as pd\n",
    "import numpy as np\n",
    "plt.style.use('ggplot')\n",
    "\n",
    "from sklearn.model_selection import train_test_split\n",
    "import xgboost as xgb\n",
    "from sklearn.metrics import mean_squared_error"
   ]
  },
  {
   "cell_type": "code",
   "execution_count": 38,
   "metadata": {},
   "outputs": [
    {
     "name": "stdout",
     "output_type": "stream",
     "text": [
      "   num_boosting_rounds      rmse\n",
      "0                    5  0.400939\n",
      "1                   10  0.400912\n",
      "2                   15  0.400912\n"
     ]
    }
   ],
   "source": [
    "num_rounds = [5, 10, 15]\n",
    "\n",
    "# Empty list to store final round rmse per XGBoost model\n",
    "final_rmse_per_round = []\n",
    "\n",
    "# Iterate over num_rounds and build one model per num_boost_round parameter\n",
    "for curr_num_rounds in num_rounds:\n",
    "\n",
    "    # Perform cross-validation: cv_results\n",
    "    cv_results = xgb.cv(dtrain=data_dmatrix, params=params, nfold=3, num_boost_round=curr_num_rounds, metrics=\"rmse\", as_pandas=True, seed=123)\n",
    "    \n",
    "    # Append final round RMSE\n",
    "    final_rmse_per_round.append(cv_results[\"test-rmse-mean\"].tail(1).values[0])\n",
    "\n",
    "# Print the resultant DataFrame\n",
    "num_rounds_rmses = list(zip(num_rounds, final_rmse_per_round))\n",
    "print(pd.DataFrame(num_rounds_rmses,columns=[\"num_boosting_rounds\",\"rmse\"]))"
   ]
  },
  {
   "cell_type": "markdown",
   "metadata": {},
   "source": [
    "## Tuning eta"
   ]
  },
  {
   "cell_type": "code",
   "execution_count": 39,
   "metadata": {},
   "outputs": [
    {
     "name": "stdout",
     "output_type": "stream",
     "text": [
      "     eta  best_rmse\n",
      "0  0.001   0.400912\n",
      "1  0.010   0.400912\n",
      "2  0.100   0.400912\n"
     ]
    }
   ],
   "source": [
    "# Create list of eta values and empty list to store final round rmse per xgboost model\n",
    "eta_vals = [0.001, 0.01, 0.1]\n",
    "best_rmse = []\n",
    "\n",
    "# Systematically vary the eta \n",
    "for curr_val in eta_vals:\n",
    "    params[\"eta\"] = curr_val\n",
    "    # Perform cross-validation: cv_results\n",
    "    cv_results = xgb.cv(dtrain=data_dmatrix,params=params,nfold=3,\n",
    "                        num_boost_round=10,early_stopping_rounds=5,\n",
    "                        metrics='rmse',seed=123)\n",
    "    # Append the final round rmse to best_rmse\n",
    "    best_rmse.append(cv_results[\"test-rmse-mean\"].tail().values[-1])\n",
    "\n",
    "# Print the resultant DataFrame\n",
    "print(pd.DataFrame(list(zip(eta_vals, best_rmse)), columns=[\"eta\",\"best_rmse\"]))"
   ]
  },
  {
   "cell_type": "markdown",
   "metadata": {},
   "source": [
    "## Tuning max_depth"
   ]
  },
  {
   "cell_type": "code",
   "execution_count": 40,
   "metadata": {},
   "outputs": [
    {
     "name": "stdout",
     "output_type": "stream",
     "text": [
      "   max_depth  best_rmse\n",
      "0          2   0.402624\n",
      "1          5   0.402749\n",
      "2         10   0.402749\n",
      "3         20   0.402749\n"
     ]
    }
   ],
   "source": [
    "# Create list of max_depth values\n",
    "max_depths = [2,5,10,20]\n",
    "best_rmse = []\n",
    "\n",
    "# Systematically vary the max_depth\n",
    "for curr_val in max_depths:\n",
    "    params[\"max_depth\"] = curr_val \n",
    "    # Perform cross-validation\n",
    "    cv_results = xgb.cv(dtrain=data_dmatrix,params=params,metrics='rmse',\n",
    "                        num_boost_round=10,early_stopping_rounds=5,\n",
    "                        nfold=2,as_pandas=True,seed=123)\n",
    "    # Append the final round rmse to best_rmse\n",
    "    best_rmse.append(cv_results[\"test-rmse-mean\"].tail().values[-1])\n",
    "\n",
    "# Print the resultant DataFrame\n",
    "print(pd.DataFrame(list(zip(max_depths, best_rmse)),columns=[\"max_depth\",\"best_rmse\"]))"
   ]
  },
  {
   "cell_type": "markdown",
   "metadata": {},
   "source": [
    "## Tuning colsample_bytree"
   ]
  },
  {
   "cell_type": "code",
   "execution_count": 41,
   "metadata": {},
   "outputs": [
    {
     "name": "stdout",
     "output_type": "stream",
     "text": [
      "   colsample_bytree  best_rmse\n",
      "0               0.1   0.410701\n",
      "1               0.5   0.406760\n",
      "2               0.8   0.406450\n",
      "3               1.0   0.402749\n"
     ]
    }
   ],
   "source": [
    "# Create list of hyperparameter values: colsample_bytree_vals\n",
    "colsample_bytree_vals = [0.1,0.5,0.8,1]\n",
    "best_rmse = []\n",
    "\n",
    "# Systematically vary the hyperparameter value \n",
    "for curr_val in colsample_bytree_vals:\n",
    "\n",
    "    params['colsample_bytree'] = curr_val\n",
    "    \n",
    "    # Perform cross-validation\n",
    "    cv_results = xgb.cv(dtrain=data_dmatrix, params=params, nfold=2,\n",
    "                 num_boost_round=10, early_stopping_rounds=5,\n",
    "                 metrics=\"rmse\", as_pandas=True, seed=123)\n",
    "    \n",
    "    # Append the final round rmse to best_rmse\n",
    "    best_rmse.append(cv_results[\"test-rmse-mean\"].tail().values[-1])\n",
    "\n",
    "# Print the resultant DataFrame\n",
    "print(pd.DataFrame(list(zip(colsample_bytree_vals, best_rmse)), columns=[\"colsample_bytree\",\"best_rmse\"]))"
   ]
  },
  {
   "cell_type": "code",
   "execution_count": 42,
   "metadata": {},
   "outputs": [
    {
     "name": "stdout",
     "output_type": "stream",
     "text": [
      "Fitting 4 folds for each of 12 candidates, totalling 48 fits\n",
      "[17:31:18] WARNING: src/objective/regression_obj.cu:152: reg:linear is now deprecated in favor of reg:squarederror.\n"
     ]
    },
    {
     "name": "stderr",
     "output_type": "stream",
     "text": [
      "[Parallel(n_jobs=1)]: Using backend SequentialBackend with 1 concurrent workers.\n",
      "/Users/lukabeverin/opt/anaconda3/lib/python3.7/site-packages/xgboost/core.py:587: FutureWarning: Series.base is deprecated and will be removed in a future version\n",
      "  if getattr(data, 'base', None) is not None and \\\n",
      "/Users/lukabeverin/opt/anaconda3/lib/python3.7/site-packages/xgboost/core.py:587: FutureWarning: Series.base is deprecated and will be removed in a future version\n",
      "  if getattr(data, 'base', None) is not None and \\\n"
     ]
    },
    {
     "name": "stdout",
     "output_type": "stream",
     "text": [
      "[17:31:19] WARNING: src/objective/regression_obj.cu:152: reg:linear is now deprecated in favor of reg:squarederror.\n"
     ]
    },
    {
     "name": "stderr",
     "output_type": "stream",
     "text": [
      "/Users/lukabeverin/opt/anaconda3/lib/python3.7/site-packages/xgboost/core.py:587: FutureWarning: Series.base is deprecated and will be removed in a future version\n",
      "  if getattr(data, 'base', None) is not None and \\\n"
     ]
    },
    {
     "name": "stdout",
     "output_type": "stream",
     "text": [
      "[17:31:20] WARNING: src/objective/regression_obj.cu:152: reg:linear is now deprecated in favor of reg:squarederror.\n"
     ]
    },
    {
     "name": "stderr",
     "output_type": "stream",
     "text": [
      "/Users/lukabeverin/opt/anaconda3/lib/python3.7/site-packages/xgboost/core.py:587: FutureWarning: Series.base is deprecated and will be removed in a future version\n",
      "  if getattr(data, 'base', None) is not None and \\\n"
     ]
    },
    {
     "name": "stdout",
     "output_type": "stream",
     "text": [
      "[17:31:21] WARNING: src/objective/regression_obj.cu:152: reg:linear is now deprecated in favor of reg:squarederror.\n"
     ]
    },
    {
     "name": "stderr",
     "output_type": "stream",
     "text": [
      "/Users/lukabeverin/opt/anaconda3/lib/python3.7/site-packages/xgboost/core.py:587: FutureWarning: Series.base is deprecated and will be removed in a future version\n",
      "  if getattr(data, 'base', None) is not None and \\\n"
     ]
    },
    {
     "name": "stdout",
     "output_type": "stream",
     "text": [
      "[17:31:22] WARNING: src/objective/regression_obj.cu:152: reg:linear is now deprecated in favor of reg:squarederror.\n"
     ]
    },
    {
     "name": "stderr",
     "output_type": "stream",
     "text": [
      "/Users/lukabeverin/opt/anaconda3/lib/python3.7/site-packages/xgboost/core.py:587: FutureWarning: Series.base is deprecated and will be removed in a future version\n",
      "  if getattr(data, 'base', None) is not None and \\\n"
     ]
    },
    {
     "name": "stdout",
     "output_type": "stream",
     "text": [
      "[17:31:23] WARNING: src/objective/regression_obj.cu:152: reg:linear is now deprecated in favor of reg:squarederror.\n"
     ]
    },
    {
     "name": "stderr",
     "output_type": "stream",
     "text": [
      "/Users/lukabeverin/opt/anaconda3/lib/python3.7/site-packages/xgboost/core.py:587: FutureWarning: Series.base is deprecated and will be removed in a future version\n",
      "  if getattr(data, 'base', None) is not None and \\\n"
     ]
    },
    {
     "name": "stdout",
     "output_type": "stream",
     "text": [
      "[17:31:24] WARNING: src/objective/regression_obj.cu:152: reg:linear is now deprecated in favor of reg:squarederror.\n"
     ]
    },
    {
     "name": "stderr",
     "output_type": "stream",
     "text": [
      "/Users/lukabeverin/opt/anaconda3/lib/python3.7/site-packages/xgboost/core.py:587: FutureWarning: Series.base is deprecated and will be removed in a future version\n",
      "  if getattr(data, 'base', None) is not None and \\\n"
     ]
    },
    {
     "name": "stdout",
     "output_type": "stream",
     "text": [
      "[17:31:25] WARNING: src/objective/regression_obj.cu:152: reg:linear is now deprecated in favor of reg:squarederror.\n"
     ]
    },
    {
     "name": "stderr",
     "output_type": "stream",
     "text": [
      "/Users/lukabeverin/opt/anaconda3/lib/python3.7/site-packages/xgboost/core.py:587: FutureWarning: Series.base is deprecated and will be removed in a future version\n",
      "  if getattr(data, 'base', None) is not None and \\\n"
     ]
    },
    {
     "name": "stdout",
     "output_type": "stream",
     "text": [
      "[17:31:26] WARNING: src/objective/regression_obj.cu:152: reg:linear is now deprecated in favor of reg:squarederror.\n"
     ]
    },
    {
     "name": "stderr",
     "output_type": "stream",
     "text": [
      "/Users/lukabeverin/opt/anaconda3/lib/python3.7/site-packages/xgboost/core.py:587: FutureWarning: Series.base is deprecated and will be removed in a future version\n",
      "  if getattr(data, 'base', None) is not None and \\\n"
     ]
    },
    {
     "name": "stdout",
     "output_type": "stream",
     "text": [
      "[17:31:27] WARNING: src/objective/regression_obj.cu:152: reg:linear is now deprecated in favor of reg:squarederror.\n"
     ]
    },
    {
     "name": "stderr",
     "output_type": "stream",
     "text": [
      "/Users/lukabeverin/opt/anaconda3/lib/python3.7/site-packages/xgboost/core.py:587: FutureWarning: Series.base is deprecated and will be removed in a future version\n",
      "  if getattr(data, 'base', None) is not None and \\\n"
     ]
    },
    {
     "name": "stdout",
     "output_type": "stream",
     "text": [
      "[17:31:28] WARNING: src/objective/regression_obj.cu:152: reg:linear is now deprecated in favor of reg:squarederror.\n"
     ]
    },
    {
     "name": "stderr",
     "output_type": "stream",
     "text": [
      "/Users/lukabeverin/opt/anaconda3/lib/python3.7/site-packages/xgboost/core.py:587: FutureWarning: Series.base is deprecated and will be removed in a future version\n",
      "  if getattr(data, 'base', None) is not None and \\\n"
     ]
    },
    {
     "name": "stdout",
     "output_type": "stream",
     "text": [
      "[17:31:29] WARNING: src/objective/regression_obj.cu:152: reg:linear is now deprecated in favor of reg:squarederror.\n"
     ]
    },
    {
     "name": "stderr",
     "output_type": "stream",
     "text": [
      "/Users/lukabeverin/opt/anaconda3/lib/python3.7/site-packages/xgboost/core.py:587: FutureWarning: Series.base is deprecated and will be removed in a future version\n",
      "  if getattr(data, 'base', None) is not None and \\\n"
     ]
    },
    {
     "name": "stdout",
     "output_type": "stream",
     "text": [
      "[17:31:30] WARNING: src/objective/regression_obj.cu:152: reg:linear is now deprecated in favor of reg:squarederror.\n"
     ]
    },
    {
     "name": "stderr",
     "output_type": "stream",
     "text": [
      "/Users/lukabeverin/opt/anaconda3/lib/python3.7/site-packages/xgboost/core.py:587: FutureWarning: Series.base is deprecated and will be removed in a future version\n",
      "  if getattr(data, 'base', None) is not None and \\\n"
     ]
    },
    {
     "name": "stdout",
     "output_type": "stream",
     "text": [
      "[17:31:31] WARNING: src/objective/regression_obj.cu:152: reg:linear is now deprecated in favor of reg:squarederror.\n"
     ]
    },
    {
     "name": "stderr",
     "output_type": "stream",
     "text": [
      "/Users/lukabeverin/opt/anaconda3/lib/python3.7/site-packages/xgboost/core.py:587: FutureWarning: Series.base is deprecated and will be removed in a future version\n",
      "  if getattr(data, 'base', None) is not None and \\\n"
     ]
    },
    {
     "name": "stdout",
     "output_type": "stream",
     "text": [
      "[17:31:32] WARNING: src/objective/regression_obj.cu:152: reg:linear is now deprecated in favor of reg:squarederror.\n"
     ]
    },
    {
     "name": "stderr",
     "output_type": "stream",
     "text": [
      "/Users/lukabeverin/opt/anaconda3/lib/python3.7/site-packages/xgboost/core.py:587: FutureWarning: Series.base is deprecated and will be removed in a future version\n",
      "  if getattr(data, 'base', None) is not None and \\\n"
     ]
    },
    {
     "name": "stdout",
     "output_type": "stream",
     "text": [
      "[17:31:33] WARNING: src/objective/regression_obj.cu:152: reg:linear is now deprecated in favor of reg:squarederror.\n"
     ]
    },
    {
     "name": "stderr",
     "output_type": "stream",
     "text": [
      "/Users/lukabeverin/opt/anaconda3/lib/python3.7/site-packages/xgboost/core.py:587: FutureWarning: Series.base is deprecated and will be removed in a future version\n",
      "  if getattr(data, 'base', None) is not None and \\\n"
     ]
    },
    {
     "name": "stdout",
     "output_type": "stream",
     "text": [
      "[17:31:34] WARNING: src/objective/regression_obj.cu:152: reg:linear is now deprecated in favor of reg:squarederror.\n"
     ]
    },
    {
     "name": "stderr",
     "output_type": "stream",
     "text": [
      "/Users/lukabeverin/opt/anaconda3/lib/python3.7/site-packages/xgboost/core.py:587: FutureWarning: Series.base is deprecated and will be removed in a future version\n",
      "  if getattr(data, 'base', None) is not None and \\\n"
     ]
    },
    {
     "name": "stdout",
     "output_type": "stream",
     "text": [
      "[17:31:35] WARNING: src/objective/regression_obj.cu:152: reg:linear is now deprecated in favor of reg:squarederror.\n"
     ]
    },
    {
     "name": "stderr",
     "output_type": "stream",
     "text": [
      "/Users/lukabeverin/opt/anaconda3/lib/python3.7/site-packages/xgboost/core.py:587: FutureWarning: Series.base is deprecated and will be removed in a future version\n",
      "  if getattr(data, 'base', None) is not None and \\\n"
     ]
    },
    {
     "name": "stdout",
     "output_type": "stream",
     "text": [
      "[17:31:36] WARNING: src/objective/regression_obj.cu:152: reg:linear is now deprecated in favor of reg:squarederror.\n"
     ]
    },
    {
     "name": "stderr",
     "output_type": "stream",
     "text": [
      "/Users/lukabeverin/opt/anaconda3/lib/python3.7/site-packages/xgboost/core.py:587: FutureWarning: Series.base is deprecated and will be removed in a future version\n",
      "  if getattr(data, 'base', None) is not None and \\\n"
     ]
    },
    {
     "name": "stdout",
     "output_type": "stream",
     "text": [
      "[17:31:37] WARNING: src/objective/regression_obj.cu:152: reg:linear is now deprecated in favor of reg:squarederror.\n"
     ]
    },
    {
     "name": "stderr",
     "output_type": "stream",
     "text": [
      "/Users/lukabeverin/opt/anaconda3/lib/python3.7/site-packages/xgboost/core.py:587: FutureWarning: Series.base is deprecated and will be removed in a future version\n",
      "  if getattr(data, 'base', None) is not None and \\\n"
     ]
    },
    {
     "name": "stdout",
     "output_type": "stream",
     "text": [
      "[17:31:38] WARNING: src/objective/regression_obj.cu:152: reg:linear is now deprecated in favor of reg:squarederror.\n"
     ]
    },
    {
     "name": "stderr",
     "output_type": "stream",
     "text": [
      "/Users/lukabeverin/opt/anaconda3/lib/python3.7/site-packages/xgboost/core.py:587: FutureWarning: Series.base is deprecated and will be removed in a future version\n",
      "  if getattr(data, 'base', None) is not None and \\\n"
     ]
    },
    {
     "name": "stdout",
     "output_type": "stream",
     "text": [
      "[17:31:40] WARNING: src/objective/regression_obj.cu:152: reg:linear is now deprecated in favor of reg:squarederror.\n"
     ]
    },
    {
     "name": "stderr",
     "output_type": "stream",
     "text": [
      "/Users/lukabeverin/opt/anaconda3/lib/python3.7/site-packages/xgboost/core.py:587: FutureWarning: Series.base is deprecated and will be removed in a future version\n",
      "  if getattr(data, 'base', None) is not None and \\\n"
     ]
    },
    {
     "name": "stdout",
     "output_type": "stream",
     "text": [
      "[17:31:41] WARNING: src/objective/regression_obj.cu:152: reg:linear is now deprecated in favor of reg:squarederror.\n"
     ]
    },
    {
     "name": "stderr",
     "output_type": "stream",
     "text": [
      "/Users/lukabeverin/opt/anaconda3/lib/python3.7/site-packages/xgboost/core.py:587: FutureWarning: Series.base is deprecated and will be removed in a future version\n",
      "  if getattr(data, 'base', None) is not None and \\\n"
     ]
    },
    {
     "name": "stdout",
     "output_type": "stream",
     "text": [
      "[17:31:42] WARNING: src/objective/regression_obj.cu:152: reg:linear is now deprecated in favor of reg:squarederror.\n"
     ]
    },
    {
     "name": "stderr",
     "output_type": "stream",
     "text": [
      "/Users/lukabeverin/opt/anaconda3/lib/python3.7/site-packages/xgboost/core.py:587: FutureWarning: Series.base is deprecated and will be removed in a future version\n",
      "  if getattr(data, 'base', None) is not None and \\\n"
     ]
    },
    {
     "name": "stdout",
     "output_type": "stream",
     "text": [
      "[17:31:43] WARNING: src/objective/regression_obj.cu:152: reg:linear is now deprecated in favor of reg:squarederror.\n"
     ]
    },
    {
     "name": "stderr",
     "output_type": "stream",
     "text": [
      "/Users/lukabeverin/opt/anaconda3/lib/python3.7/site-packages/xgboost/core.py:587: FutureWarning: Series.base is deprecated and will be removed in a future version\n",
      "  if getattr(data, 'base', None) is not None and \\\n"
     ]
    },
    {
     "name": "stdout",
     "output_type": "stream",
     "text": [
      "[17:31:44] WARNING: src/objective/regression_obj.cu:152: reg:linear is now deprecated in favor of reg:squarederror.\n"
     ]
    },
    {
     "name": "stderr",
     "output_type": "stream",
     "text": [
      "/Users/lukabeverin/opt/anaconda3/lib/python3.7/site-packages/xgboost/core.py:587: FutureWarning: Series.base is deprecated and will be removed in a future version\n",
      "  if getattr(data, 'base', None) is not None and \\\n"
     ]
    },
    {
     "name": "stdout",
     "output_type": "stream",
     "text": [
      "[17:31:45] WARNING: src/objective/regression_obj.cu:152: reg:linear is now deprecated in favor of reg:squarederror.\n"
     ]
    },
    {
     "name": "stderr",
     "output_type": "stream",
     "text": [
      "/Users/lukabeverin/opt/anaconda3/lib/python3.7/site-packages/xgboost/core.py:587: FutureWarning: Series.base is deprecated and will be removed in a future version\n",
      "  if getattr(data, 'base', None) is not None and \\\n"
     ]
    },
    {
     "name": "stdout",
     "output_type": "stream",
     "text": [
      "[17:31:46] WARNING: src/objective/regression_obj.cu:152: reg:linear is now deprecated in favor of reg:squarederror.\n"
     ]
    },
    {
     "name": "stderr",
     "output_type": "stream",
     "text": [
      "/Users/lukabeverin/opt/anaconda3/lib/python3.7/site-packages/xgboost/core.py:587: FutureWarning: Series.base is deprecated and will be removed in a future version\n",
      "  if getattr(data, 'base', None) is not None and \\\n"
     ]
    },
    {
     "name": "stdout",
     "output_type": "stream",
     "text": [
      "[17:31:47] WARNING: src/objective/regression_obj.cu:152: reg:linear is now deprecated in favor of reg:squarederror.\n"
     ]
    },
    {
     "name": "stderr",
     "output_type": "stream",
     "text": [
      "/Users/lukabeverin/opt/anaconda3/lib/python3.7/site-packages/xgboost/core.py:587: FutureWarning: Series.base is deprecated and will be removed in a future version\n",
      "  if getattr(data, 'base', None) is not None and \\\n"
     ]
    },
    {
     "name": "stdout",
     "output_type": "stream",
     "text": [
      "[17:31:48] WARNING: src/objective/regression_obj.cu:152: reg:linear is now deprecated in favor of reg:squarederror.\n"
     ]
    },
    {
     "name": "stderr",
     "output_type": "stream",
     "text": [
      "/Users/lukabeverin/opt/anaconda3/lib/python3.7/site-packages/xgboost/core.py:587: FutureWarning: Series.base is deprecated and will be removed in a future version\n",
      "  if getattr(data, 'base', None) is not None and \\\n"
     ]
    },
    {
     "name": "stdout",
     "output_type": "stream",
     "text": [
      "[17:31:49] WARNING: src/objective/regression_obj.cu:152: reg:linear is now deprecated in favor of reg:squarederror.\n"
     ]
    },
    {
     "name": "stderr",
     "output_type": "stream",
     "text": [
      "/Users/lukabeverin/opt/anaconda3/lib/python3.7/site-packages/xgboost/core.py:587: FutureWarning: Series.base is deprecated and will be removed in a future version\n",
      "  if getattr(data, 'base', None) is not None and \\\n"
     ]
    },
    {
     "name": "stdout",
     "output_type": "stream",
     "text": [
      "[17:31:50] WARNING: src/objective/regression_obj.cu:152: reg:linear is now deprecated in favor of reg:squarederror.\n"
     ]
    },
    {
     "name": "stderr",
     "output_type": "stream",
     "text": [
      "/Users/lukabeverin/opt/anaconda3/lib/python3.7/site-packages/xgboost/core.py:587: FutureWarning: Series.base is deprecated and will be removed in a future version\n",
      "  if getattr(data, 'base', None) is not None and \\\n"
     ]
    },
    {
     "name": "stdout",
     "output_type": "stream",
     "text": [
      "[17:31:51] WARNING: src/objective/regression_obj.cu:152: reg:linear is now deprecated in favor of reg:squarederror.\n"
     ]
    },
    {
     "name": "stderr",
     "output_type": "stream",
     "text": [
      "/Users/lukabeverin/opt/anaconda3/lib/python3.7/site-packages/xgboost/core.py:587: FutureWarning: Series.base is deprecated and will be removed in a future version\n",
      "  if getattr(data, 'base', None) is not None and \\\n"
     ]
    },
    {
     "name": "stdout",
     "output_type": "stream",
     "text": [
      "[17:31:52] WARNING: src/objective/regression_obj.cu:152: reg:linear is now deprecated in favor of reg:squarederror.\n"
     ]
    },
    {
     "name": "stderr",
     "output_type": "stream",
     "text": [
      "/Users/lukabeverin/opt/anaconda3/lib/python3.7/site-packages/xgboost/core.py:587: FutureWarning: Series.base is deprecated and will be removed in a future version\n",
      "  if getattr(data, 'base', None) is not None and \\\n"
     ]
    },
    {
     "name": "stdout",
     "output_type": "stream",
     "text": [
      "[17:31:53] WARNING: src/objective/regression_obj.cu:152: reg:linear is now deprecated in favor of reg:squarederror.\n"
     ]
    },
    {
     "name": "stderr",
     "output_type": "stream",
     "text": [
      "/Users/lukabeverin/opt/anaconda3/lib/python3.7/site-packages/xgboost/core.py:587: FutureWarning: Series.base is deprecated and will be removed in a future version\n",
      "  if getattr(data, 'base', None) is not None and \\\n"
     ]
    },
    {
     "name": "stdout",
     "output_type": "stream",
     "text": [
      "[17:31:54] WARNING: src/objective/regression_obj.cu:152: reg:linear is now deprecated in favor of reg:squarederror.\n"
     ]
    },
    {
     "name": "stderr",
     "output_type": "stream",
     "text": [
      "/Users/lukabeverin/opt/anaconda3/lib/python3.7/site-packages/xgboost/core.py:587: FutureWarning: Series.base is deprecated and will be removed in a future version\n",
      "  if getattr(data, 'base', None) is not None and \\\n"
     ]
    },
    {
     "name": "stdout",
     "output_type": "stream",
     "text": [
      "[17:31:55] WARNING: src/objective/regression_obj.cu:152: reg:linear is now deprecated in favor of reg:squarederror.\n"
     ]
    },
    {
     "name": "stderr",
     "output_type": "stream",
     "text": [
      "/Users/lukabeverin/opt/anaconda3/lib/python3.7/site-packages/xgboost/core.py:587: FutureWarning: Series.base is deprecated and will be removed in a future version\n",
      "  if getattr(data, 'base', None) is not None and \\\n"
     ]
    },
    {
     "name": "stdout",
     "output_type": "stream",
     "text": [
      "[17:31:56] WARNING: src/objective/regression_obj.cu:152: reg:linear is now deprecated in favor of reg:squarederror.\n"
     ]
    },
    {
     "name": "stderr",
     "output_type": "stream",
     "text": [
      "/Users/lukabeverin/opt/anaconda3/lib/python3.7/site-packages/xgboost/core.py:587: FutureWarning: Series.base is deprecated and will be removed in a future version\n",
      "  if getattr(data, 'base', None) is not None and \\\n"
     ]
    },
    {
     "name": "stdout",
     "output_type": "stream",
     "text": [
      "[17:31:57] WARNING: src/objective/regression_obj.cu:152: reg:linear is now deprecated in favor of reg:squarederror.\n"
     ]
    },
    {
     "name": "stderr",
     "output_type": "stream",
     "text": [
      "/Users/lukabeverin/opt/anaconda3/lib/python3.7/site-packages/xgboost/core.py:587: FutureWarning: Series.base is deprecated and will be removed in a future version\n",
      "  if getattr(data, 'base', None) is not None and \\\n"
     ]
    },
    {
     "name": "stdout",
     "output_type": "stream",
     "text": [
      "[17:31:58] WARNING: src/objective/regression_obj.cu:152: reg:linear is now deprecated in favor of reg:squarederror.\n"
     ]
    },
    {
     "name": "stderr",
     "output_type": "stream",
     "text": [
      "/Users/lukabeverin/opt/anaconda3/lib/python3.7/site-packages/xgboost/core.py:587: FutureWarning: Series.base is deprecated and will be removed in a future version\n",
      "  if getattr(data, 'base', None) is not None and \\\n"
     ]
    },
    {
     "name": "stdout",
     "output_type": "stream",
     "text": [
      "[17:31:59] WARNING: src/objective/regression_obj.cu:152: reg:linear is now deprecated in favor of reg:squarederror.\n"
     ]
    },
    {
     "name": "stderr",
     "output_type": "stream",
     "text": [
      "/Users/lukabeverin/opt/anaconda3/lib/python3.7/site-packages/xgboost/core.py:587: FutureWarning: Series.base is deprecated and will be removed in a future version\n",
      "  if getattr(data, 'base', None) is not None and \\\n"
     ]
    },
    {
     "name": "stdout",
     "output_type": "stream",
     "text": [
      "[17:32:00] WARNING: src/objective/regression_obj.cu:152: reg:linear is now deprecated in favor of reg:squarederror.\n"
     ]
    },
    {
     "name": "stderr",
     "output_type": "stream",
     "text": [
      "/Users/lukabeverin/opt/anaconda3/lib/python3.7/site-packages/xgboost/core.py:587: FutureWarning: Series.base is deprecated and will be removed in a future version\n",
      "  if getattr(data, 'base', None) is not None and \\\n"
     ]
    },
    {
     "name": "stdout",
     "output_type": "stream",
     "text": [
      "[17:32:01] WARNING: src/objective/regression_obj.cu:152: reg:linear is now deprecated in favor of reg:squarederror.\n"
     ]
    },
    {
     "name": "stderr",
     "output_type": "stream",
     "text": [
      "/Users/lukabeverin/opt/anaconda3/lib/python3.7/site-packages/xgboost/core.py:587: FutureWarning: Series.base is deprecated and will be removed in a future version\n",
      "  if getattr(data, 'base', None) is not None and \\\n"
     ]
    },
    {
     "name": "stdout",
     "output_type": "stream",
     "text": [
      "[17:32:02] WARNING: src/objective/regression_obj.cu:152: reg:linear is now deprecated in favor of reg:squarederror.\n"
     ]
    },
    {
     "name": "stderr",
     "output_type": "stream",
     "text": [
      "/Users/lukabeverin/opt/anaconda3/lib/python3.7/site-packages/xgboost/core.py:587: FutureWarning: Series.base is deprecated and will be removed in a future version\n",
      "  if getattr(data, 'base', None) is not None and \\\n"
     ]
    },
    {
     "name": "stdout",
     "output_type": "stream",
     "text": [
      "[17:32:03] WARNING: src/objective/regression_obj.cu:152: reg:linear is now deprecated in favor of reg:squarederror.\n"
     ]
    },
    {
     "name": "stderr",
     "output_type": "stream",
     "text": [
      "/Users/lukabeverin/opt/anaconda3/lib/python3.7/site-packages/xgboost/core.py:587: FutureWarning: Series.base is deprecated and will be removed in a future version\n",
      "  if getattr(data, 'base', None) is not None and \\\n"
     ]
    },
    {
     "name": "stdout",
     "output_type": "stream",
     "text": [
      "[17:32:05] WARNING: src/objective/regression_obj.cu:152: reg:linear is now deprecated in favor of reg:squarederror.\n"
     ]
    },
    {
     "name": "stderr",
     "output_type": "stream",
     "text": [
      "/Users/lukabeverin/opt/anaconda3/lib/python3.7/site-packages/xgboost/core.py:587: FutureWarning: Series.base is deprecated and will be removed in a future version\n",
      "  if getattr(data, 'base', None) is not None and \\\n"
     ]
    },
    {
     "name": "stdout",
     "output_type": "stream",
     "text": [
      "[17:32:06] WARNING: src/objective/regression_obj.cu:152: reg:linear is now deprecated in favor of reg:squarederror.\n"
     ]
    },
    {
     "name": "stderr",
     "output_type": "stream",
     "text": [
      "/Users/lukabeverin/opt/anaconda3/lib/python3.7/site-packages/xgboost/core.py:587: FutureWarning: Series.base is deprecated and will be removed in a future version\n",
      "  if getattr(data, 'base', None) is not None and \\\n"
     ]
    },
    {
     "name": "stdout",
     "output_type": "stream",
     "text": [
      "[17:32:07] WARNING: src/objective/regression_obj.cu:152: reg:linear is now deprecated in favor of reg:squarederror.\n"
     ]
    },
    {
     "name": "stderr",
     "output_type": "stream",
     "text": [
      "[Parallel(n_jobs=1)]: Done  48 out of  48 | elapsed:   49.6s finished\n",
      "/Users/lukabeverin/opt/anaconda3/lib/python3.7/site-packages/xgboost/core.py:587: FutureWarning: Series.base is deprecated and will be removed in a future version\n",
      "  if getattr(data, 'base', None) is not None and \\\n",
      "/Users/lukabeverin/opt/anaconda3/lib/python3.7/site-packages/xgboost/core.py:588: FutureWarning: Series.base is deprecated and will be removed in a future version\n",
      "  data.base is not None and isinstance(data, np.ndarray) \\\n"
     ]
    },
    {
     "name": "stdout",
     "output_type": "stream",
     "text": [
      "[17:32:08] WARNING: src/objective/regression_obj.cu:152: reg:linear is now deprecated in favor of reg:squarederror.\n"
     ]
    },
    {
     "data": {
      "text/plain": [
       "GridSearchCV(cv=4, error_score=nan,\n",
       "             estimator=XGBRegressor(base_score=0.5, booster='gbtree',\n",
       "                                    colsample_bylevel=1, colsample_bynode=1,\n",
       "                                    colsample_bytree=1, gamma=0,\n",
       "                                    importance_type='gain', learning_rate=0.1,\n",
       "                                    max_delta_step=0, max_depth=3,\n",
       "                                    min_child_weight=1, missing=None,\n",
       "                                    n_estimators=100, n_jobs=1, nthread=None,\n",
       "                                    objective='reg:linear', random_state=0,\n",
       "                                    reg_alpha=0, reg_lambda=1,\n",
       "                                    scale_pos_weight=1, seed=None, silent=None,\n",
       "                                    subsample=1, verbosity=1),\n",
       "             iid='deprecated', n_jobs=None,\n",
       "             param_grid={'learning_rate': [0.01, 0.1, 0.5, 0.9],\n",
       "                         'n_estimators': [200], 'subsample': [0.3, 0.5, 0.9]},\n",
       "             pre_dispatch='2*n_jobs', refit=True, return_train_score=False,\n",
       "             scoring='neg_mean_squared_error', verbose=1)"
      ]
     },
     "execution_count": 42,
     "metadata": {},
     "output_type": "execute_result"
    }
   ],
   "source": [
    "# Grid Search: Example\n",
    "\n",
    "from sklearn.model_selection import GridSearchCV\n",
    "\n",
    "gbm_param_grid = {'learning_rate': [0.01,0.1,0.5,0.9],\n",
    "                  'n_estimators': [200],\n",
    "                  'subsample': [0.3, 0.5, 0.9]}\n",
    "\n",
    "gbm = xgb.XGBRegressor()\n",
    "grid_mse = GridSearchCV(estimator=gbm, cv=4, verbose=1, \n",
    "                        param_grid=gbm_param_grid,\n",
    "                        scoring='neg_mean_squared_error')\n",
    "grid_mse.fit(X, y)"
   ]
  },
  {
   "cell_type": "code",
   "execution_count": 43,
   "metadata": {},
   "outputs": [
    {
     "name": "stdout",
     "output_type": "stream",
     "text": [
      "Best parameters found:  {'learning_rate': 0.01, 'n_estimators': 200, 'subsample': 0.9}\n",
      "Lowest RMSE found:  0.3984797400126511\n"
     ]
    }
   ],
   "source": [
    "print(\"Best parameters found: \", grid_mse.best_params_)\n",
    "print(\"Lowest RMSE found: \", np.sqrt(np.abs(grid_mse.best_score_)))"
   ]
  },
  {
   "cell_type": "code",
   "execution_count": 85,
   "metadata": {},
   "outputs": [
    {
     "data": {
      "text/plain": [
       "XGBClassifier(alpha=10, base_score=0.5, booster='gbtree', colsample_bylevel=1,\n",
       "              colsample_bynode=1, colsample_bytree=1, gamma=0, lambda=100,\n",
       "              learning_rate=0.01, max_delta_step=0, max_depth=2,\n",
       "              min_child_weight=1, missing=None, n_estimators=200, n_jobs=1,\n",
       "              nthread=None, objective='binary:logistic', random_state=0,\n",
       "              reg_alpha=0, reg_lambda=1, scale_pos_weight=1, seed=None,\n",
       "              silent=None, subsample=1, verbosity=1)"
      ]
     },
     "execution_count": 85,
     "metadata": {},
     "output_type": "execute_result"
    }
   ],
   "source": [
    "# Declare parameters\n",
    "params = {\n",
    "            'objective':'binary:logistic',\n",
    "            'max_depth': 2,\n",
    "            'alpha': 10,\n",
    "            'lambda': 100,\n",
    "            'learning_rate': 0.01,\n",
    "            'n_estimators':200\n",
    "        }\n",
    "            \n",
    "            \n",
    "            \n",
    "# Instantiate the classifier \n",
    "xgb_clf = XGBClassifier(**params)\n",
    "\n",
    "\n",
    "\n",
    "# Fit the classifier to the training data\n",
    "xgb_clf.fit(X_train, y_train)"
   ]
  },
  {
   "cell_type": "code",
   "execution_count": 86,
   "metadata": {},
   "outputs": [
    {
     "name": "stdout",
     "output_type": "stream",
     "text": [
      "XGBoost model accuracy score: 0.7840\n"
     ]
    }
   ],
   "source": [
    "y_pred = xgb_clf.predict(X_test)\n",
    "\n",
    "from sklearn.metrics import accuracy_score\n",
    "\n",
    "print('XGBoost model accuracy score: {0:0.4f}'. format(accuracy_score(y_test, y_pred)))"
   ]
  },
  {
   "cell_type": "code",
   "execution_count": null,
   "metadata": {},
   "outputs": [],
   "source": []
  },
  {
   "cell_type": "code",
   "execution_count": null,
   "metadata": {},
   "outputs": [],
   "source": []
  },
  {
   "cell_type": "code",
   "execution_count": null,
   "metadata": {},
   "outputs": [],
   "source": []
  },
  {
   "cell_type": "code",
   "execution_count": null,
   "metadata": {},
   "outputs": [],
   "source": []
  },
  {
   "cell_type": "code",
   "execution_count": null,
   "metadata": {},
   "outputs": [],
   "source": []
  },
  {
   "cell_type": "markdown",
   "metadata": {},
   "source": [
    "## Make Predictions\n",
    "Make predictions on our test data."
   ]
  },
  {
   "cell_type": "code",
   "execution_count": 83,
   "metadata": {},
   "outputs": [],
   "source": [
    "y_pred = xgb_clf.predict(X_test)"
   ]
  },
  {
   "cell_type": "markdown",
   "metadata": {},
   "source": [
    "## Check the Accuracy Score"
   ]
  },
  {
   "cell_type": "code",
   "execution_count": 84,
   "metadata": {},
   "outputs": [
    {
     "name": "stdout",
     "output_type": "stream",
     "text": [
      "XGBoost model accuracy score: 0.7412\n"
     ]
    }
   ],
   "source": [
    "from sklearn.metrics import accuracy_score\n",
    "\n",
    "print('XGBoost model accuracy score: {0:0.4f}'. format(accuracy_score(y_test, y_pred)))"
   ]
  },
  {
   "cell_type": "markdown",
   "metadata": {},
   "source": [
    "We can see that XGBoost obtains an accuracy score of **73.91%**"
   ]
  },
  {
   "cell_type": "code",
   "execution_count": 77,
   "metadata": {},
   "outputs": [
    {
     "data": {
      "text/html": [
       "<img src=\"https://i.imgur.com/dcc6Gsmh.jpg\" width=\"320\" height=\"320\"/>"
      ],
      "text/plain": [
       "<IPython.core.display.Image object>"
      ]
     },
     "execution_count": 77,
     "metadata": {},
     "output_type": "execute_result"
    }
   ],
   "source": [
    "from IPython.display import Image\n",
    "from IPython.core.display import HTML \n",
    "Image(url= \"https://i.imgur.com/dcc6Gsmh.jpg\", width=320, height=320)"
   ]
  },
  {
   "cell_type": "markdown",
   "metadata": {},
   "source": [
    "To imporve the accuracy we could investigate the possibility of tuning the other hyperparameters. **Hyperparamter tuning** can be done with the use of the cv function from XGBoost. It allows us to run k-fold cross-validation on our training dataset and can return various validation metrics."
   ]
  },
  {
   "cell_type": "markdown",
   "metadata": {},
   "source": [
    "## Feature Importance \n",
    "\n",
    "XGBoost provides a way to examine the importance of each feature in the original dataset within the model. It involves counting the number of times each feature is split on across all boosting trees in the model. Then we visualize the result as a bar graph, with the features ordered according to how many times they appear."
   ]
  },
  {
   "cell_type": "code",
   "execution_count": 37,
   "metadata": {},
   "outputs": [
    {
     "data": {
      "image/png": "[encoded data removed]",
      "text/plain": [
       "<Figure size 432x288 with 1 Axes>"
      ]
     },
     "metadata": {
      "needs_background": "light"
     },
     "output_type": "display_data"
    }
   ],
   "source": [
    "xgb.plot_importance(xgb_clf)\n",
    "plt.rcParams['figure.figsize'] = [6, 4]\n",
    "plt.show()"
   ]
  },
  {
   "cell_type": "markdown",
   "metadata": {},
   "source": [
    "Notably, the Building dimension is the most import feature with location coming in second. The date of occupancy is also a relatively important feature.\n",
    "\n",
    "More data cleaning could be done in the future, for example we did not have a look at outliers in the data. We suspect there to be outliers in the building dimension variable."
   ]
  },
  {
   "cell_type": "markdown",
   "metadata": {},
   "source": [
    "###### Notebook completed by Luka Beverin"
   ]
  },
  {
   "cell_type": "markdown",
   "metadata": {},
   "source": [
    "# Now Let's Clean the Test Data and Create a Submission "
   ]
  },
  {
   "cell_type": "code",
   "execution_count": 105,
   "metadata": {},
   "outputs": [],
   "source": [
    "test = pd.read_csv('/Users/lukabeverin/Documents/Zindi/Nigeria Insurance/test_data.csv')"
   ]
  },
  {
   "cell_type": "code",
   "execution_count": 88,
   "metadata": {},
   "outputs": [
    {
     "data": {
      "text/html": [
       "<div>\n",
       "<style scoped>\n",
       "    .dataframe tbody tr th:only-of-type {\n",
       "        vertical-align: middle;\n",
       "    }\n",
       "\n",
       "    .dataframe tbody tr th {\n",
       "        vertical-align: top;\n",
       "    }\n",
       "\n",
       "    .dataframe thead th {\n",
       "        text-align: right;\n",
       "    }\n",
       "</style>\n",
       "<table border=\"1\" class=\"dataframe\">\n",
       "  <thead>\n",
       "    <tr style=\"text-align: right;\">\n",
       "      <th></th>\n",
       "      <th>Customer Id</th>\n",
       "      <th>YearOfObservation</th>\n",
       "      <th>Insured_Period</th>\n",
       "      <th>Residential</th>\n",
       "      <th>Building_Painted</th>\n",
       "      <th>Building_Fenced</th>\n",
       "      <th>Garden</th>\n",
       "      <th>Settlement</th>\n",
       "      <th>Building Dimension</th>\n",
       "      <th>Building_Type</th>\n",
       "      <th>Date_of_Occupancy</th>\n",
       "      <th>NumberOfWindows</th>\n",
       "      <th>Geo_Code</th>\n",
       "    </tr>\n",
       "  </thead>\n",
       "  <tbody>\n",
       "    <tr>\n",
       "      <td>0</td>\n",
       "      <td>H11920</td>\n",
       "      <td>2013</td>\n",
       "      <td>1.000000</td>\n",
       "      <td>0</td>\n",
       "      <td>V</td>\n",
       "      <td>N</td>\n",
       "      <td>O</td>\n",
       "      <td>R</td>\n",
       "      <td>300.0</td>\n",
       "      <td>1</td>\n",
       "      <td>1960.0</td>\n",
       "      <td>3</td>\n",
       "      <td>3310</td>\n",
       "    </tr>\n",
       "    <tr>\n",
       "      <td>1</td>\n",
       "      <td>H11921</td>\n",
       "      <td>2016</td>\n",
       "      <td>0.997268</td>\n",
       "      <td>0</td>\n",
       "      <td>V</td>\n",
       "      <td>N</td>\n",
       "      <td>O</td>\n",
       "      <td>R</td>\n",
       "      <td>300.0</td>\n",
       "      <td>1</td>\n",
       "      <td>1960.0</td>\n",
       "      <td>3</td>\n",
       "      <td>3310</td>\n",
       "    </tr>\n",
       "    <tr>\n",
       "      <td>2</td>\n",
       "      <td>H9805</td>\n",
       "      <td>2013</td>\n",
       "      <td>0.369863</td>\n",
       "      <td>0</td>\n",
       "      <td>V</td>\n",
       "      <td>V</td>\n",
       "      <td>V</td>\n",
       "      <td>U</td>\n",
       "      <td>790.0</td>\n",
       "      <td>1</td>\n",
       "      <td>1960.0</td>\n",
       "      <td>.</td>\n",
       "      <td>3310</td>\n",
       "    </tr>\n",
       "    <tr>\n",
       "      <td>3</td>\n",
       "      <td>H7493</td>\n",
       "      <td>2014</td>\n",
       "      <td>1.000000</td>\n",
       "      <td>0</td>\n",
       "      <td>V</td>\n",
       "      <td>N</td>\n",
       "      <td>O</td>\n",
       "      <td>R</td>\n",
       "      <td>1405.0</td>\n",
       "      <td>1</td>\n",
       "      <td>2004.0</td>\n",
       "      <td>3</td>\n",
       "      <td>3321</td>\n",
       "    </tr>\n",
       "    <tr>\n",
       "      <td>4</td>\n",
       "      <td>H7494</td>\n",
       "      <td>2016</td>\n",
       "      <td>1.000000</td>\n",
       "      <td>0</td>\n",
       "      <td>V</td>\n",
       "      <td>N</td>\n",
       "      <td>O</td>\n",
       "      <td>R</td>\n",
       "      <td>1405.0</td>\n",
       "      <td>1</td>\n",
       "      <td>2004.0</td>\n",
       "      <td>3</td>\n",
       "      <td>3321</td>\n",
       "    </tr>\n",
       "  </tbody>\n",
       "</table>\n",
       "</div>"
      ],
      "text/plain": [
       "  Customer Id  YearOfObservation  Insured_Period  Residential  \\\n",
       "0      H11920               2013        1.000000            0   \n",
       "1      H11921               2016        0.997268            0   \n",
       "2       H9805               2013        0.369863            0   \n",
       "3       H7493               2014        1.000000            0   \n",
       "4       H7494               2016        1.000000            0   \n",
       "\n",
       "  Building_Painted Building_Fenced Garden Settlement  Building Dimension  \\\n",
       "0                V               N      O          R               300.0   \n",
       "1                V               N      O          R               300.0   \n",
       "2                V               V      V          U               790.0   \n",
       "3                V               N      O          R              1405.0   \n",
       "4                V               N      O          R              1405.0   \n",
       "\n",
       "   Building_Type  Date_of_Occupancy NumberOfWindows Geo_Code  \n",
       "0              1             1960.0               3     3310  \n",
       "1              1             1960.0               3     3310  \n",
       "2              1             1960.0               .     3310  \n",
       "3              1             2004.0               3     3321  \n",
       "4              1             2004.0               3     3321  "
      ]
     },
     "execution_count": 88,
     "metadata": {},
     "output_type": "execute_result"
    }
   ],
   "source": [
    "test.head()"
   ]
  },
  {
   "cell_type": "code",
   "execution_count": 106,
   "metadata": {},
   "outputs": [],
   "source": [
    "test = test.set_index('Customer Id')"
   ]
  },
  {
   "cell_type": "code",
   "execution_count": 107,
   "metadata": {},
   "outputs": [
    {
     "data": {
      "text/html": [
       "<div>\n",
       "<style scoped>\n",
       "    .dataframe tbody tr th:only-of-type {\n",
       "        vertical-align: middle;\n",
       "    }\n",
       "\n",
       "    .dataframe tbody tr th {\n",
       "        vertical-align: top;\n",
       "    }\n",
       "\n",
       "    .dataframe thead th {\n",
       "        text-align: right;\n",
       "    }\n",
       "</style>\n",
       "<table border=\"1\" class=\"dataframe\">\n",
       "  <thead>\n",
       "    <tr style=\"text-align: right;\">\n",
       "      <th></th>\n",
       "      <th>DataType</th>\n",
       "      <th>MissingVal</th>\n",
       "      <th>NUnique</th>\n",
       "      <th>Count</th>\n",
       "    </tr>\n",
       "  </thead>\n",
       "  <tbody>\n",
       "    <tr>\n",
       "      <td>YearOfObservation</td>\n",
       "      <td>int64</td>\n",
       "      <td>0</td>\n",
       "      <td>5</td>\n",
       "      <td>3069</td>\n",
       "    </tr>\n",
       "    <tr>\n",
       "      <td>Insured_Period</td>\n",
       "      <td>float64</td>\n",
       "      <td>0</td>\n",
       "      <td>198</td>\n",
       "      <td>3069</td>\n",
       "    </tr>\n",
       "    <tr>\n",
       "      <td>Residential</td>\n",
       "      <td>int64</td>\n",
       "      <td>0</td>\n",
       "      <td>2</td>\n",
       "      <td>3069</td>\n",
       "    </tr>\n",
       "    <tr>\n",
       "      <td>Building_Painted</td>\n",
       "      <td>object</td>\n",
       "      <td>0</td>\n",
       "      <td>2</td>\n",
       "      <td>3069</td>\n",
       "    </tr>\n",
       "    <tr>\n",
       "      <td>Building_Fenced</td>\n",
       "      <td>object</td>\n",
       "      <td>0</td>\n",
       "      <td>2</td>\n",
       "      <td>3069</td>\n",
       "    </tr>\n",
       "    <tr>\n",
       "      <td>Garden</td>\n",
       "      <td>object</td>\n",
       "      <td>4</td>\n",
       "      <td>2</td>\n",
       "      <td>3065</td>\n",
       "    </tr>\n",
       "    <tr>\n",
       "      <td>Settlement</td>\n",
       "      <td>object</td>\n",
       "      <td>0</td>\n",
       "      <td>2</td>\n",
       "      <td>3069</td>\n",
       "    </tr>\n",
       "    <tr>\n",
       "      <td>Building Dimension</td>\n",
       "      <td>float64</td>\n",
       "      <td>13</td>\n",
       "      <td>982</td>\n",
       "      <td>3056</td>\n",
       "    </tr>\n",
       "    <tr>\n",
       "      <td>Building_Type</td>\n",
       "      <td>int64</td>\n",
       "      <td>0</td>\n",
       "      <td>4</td>\n",
       "      <td>3069</td>\n",
       "    </tr>\n",
       "    <tr>\n",
       "      <td>Date_of_Occupancy</td>\n",
       "      <td>float64</td>\n",
       "      <td>728</td>\n",
       "      <td>89</td>\n",
       "      <td>2341</td>\n",
       "    </tr>\n",
       "    <tr>\n",
       "      <td>NumberOfWindows</td>\n",
       "      <td>object</td>\n",
       "      <td>0</td>\n",
       "      <td>11</td>\n",
       "      <td>3069</td>\n",
       "    </tr>\n",
       "    <tr>\n",
       "      <td>Geo_Code</td>\n",
       "      <td>object</td>\n",
       "      <td>13</td>\n",
       "      <td>697</td>\n",
       "      <td>3056</td>\n",
       "    </tr>\n",
       "  </tbody>\n",
       "</table>\n",
       "</div>"
      ],
      "text/plain": [
       "                   DataType  MissingVal  NUnique  Count\n",
       "YearOfObservation     int64           0        5   3069\n",
       "Insured_Period      float64           0      198   3069\n",
       "Residential           int64           0        2   3069\n",
       "Building_Painted     object           0        2   3069\n",
       "Building_Fenced      object           0        2   3069\n",
       "Garden               object           4        2   3065\n",
       "Settlement           object           0        2   3069\n",
       "Building Dimension  float64          13      982   3056\n",
       "Building_Type         int64           0        4   3069\n",
       "Date_of_Occupancy   float64         728       89   2341\n",
       "NumberOfWindows      object           0       11   3069\n",
       "Geo_Code             object          13      697   3056"
      ]
     },
     "execution_count": 107,
     "metadata": {},
     "output_type": "execute_result"
    }
   ],
   "source": [
    "#Data types\n",
    "datadict_test = pd.DataFrame(test.dtypes)\n",
    "#Missing values\n",
    "datadict_test['MissingVal'] = test.isnull().sum()\n",
    "#Unique values\n",
    "datadict_test['NUnique']=test.nunique()\n",
    "#Count of variable\n",
    "datadict_test['Count']=test.count()\n",
    "#Rename 0 to datatype\n",
    "datadict_test = datadict_test.rename(columns={0:'DataType'})\n",
    "datadict_test"
   ]
  },
  {
   "cell_type": "code",
   "execution_count": 110,
   "metadata": {},
   "outputs": [],
   "source": [
    "test[\"Garden\"].fillna(\"NaN\", inplace = True) \n",
    "test[\"Geo_Code\"].fillna(\"NaN\", inplace = True) "
   ]
  },
  {
   "cell_type": "code",
   "execution_count": 111,
   "metadata": {},
   "outputs": [
    {
     "data": {
      "text/html": [
       "<div>\n",
       "<style scoped>\n",
       "    .dataframe tbody tr th:only-of-type {\n",
       "        vertical-align: middle;\n",
       "    }\n",
       "\n",
       "    .dataframe tbody tr th {\n",
       "        vertical-align: top;\n",
       "    }\n",
       "\n",
       "    .dataframe thead th {\n",
       "        text-align: right;\n",
       "    }\n",
       "</style>\n",
       "<table border=\"1\" class=\"dataframe\">\n",
       "  <thead>\n",
       "    <tr style=\"text-align: right;\">\n",
       "      <th></th>\n",
       "      <th>Building_Painted</th>\n",
       "      <th>Building_Fenced</th>\n",
       "      <th>Garden</th>\n",
       "      <th>Settlement</th>\n",
       "      <th>NumberOfWindows</th>\n",
       "      <th>Geo_Code</th>\n",
       "    </tr>\n",
       "  </thead>\n",
       "  <tbody>\n",
       "    <tr>\n",
       "      <td>count</td>\n",
       "      <td>3069</td>\n",
       "      <td>3069</td>\n",
       "      <td>3069</td>\n",
       "      <td>3069</td>\n",
       "      <td>3069</td>\n",
       "      <td>3069</td>\n",
       "    </tr>\n",
       "    <tr>\n",
       "      <td>unique</td>\n",
       "      <td>2</td>\n",
       "      <td>2</td>\n",
       "      <td>3</td>\n",
       "      <td>2</td>\n",
       "      <td>11</td>\n",
       "      <td>698</td>\n",
       "    </tr>\n",
       "    <tr>\n",
       "      <td>top</td>\n",
       "      <td>V</td>\n",
       "      <td>V</td>\n",
       "      <td>V</td>\n",
       "      <td>U</td>\n",
       "      <td>.</td>\n",
       "      <td>6083</td>\n",
       "    </tr>\n",
       "    <tr>\n",
       "      <td>freq</td>\n",
       "      <td>1684</td>\n",
       "      <td>2240</td>\n",
       "      <td>2240</td>\n",
       "      <td>2240</td>\n",
       "      <td>2240</td>\n",
       "      <td>113</td>\n",
       "    </tr>\n",
       "  </tbody>\n",
       "</table>\n",
       "</div>"
      ],
      "text/plain": [
       "       Building_Painted Building_Fenced Garden Settlement NumberOfWindows  \\\n",
       "count              3069            3069   3069       3069            3069   \n",
       "unique                2               2      3          2              11   \n",
       "top                   V               V      V          U               .   \n",
       "freq               1684            2240   2240       2240            2240   \n",
       "\n",
       "       Geo_Code  \n",
       "count      3069  \n",
       "unique      698  \n",
       "top        6083  \n",
       "freq        113  "
      ]
     },
     "execution_count": 111,
     "metadata": {},
     "output_type": "execute_result"
    }
   ],
   "source": [
    "test.describe(include=['object'])"
   ]
  },
  {
   "cell_type": "code",
   "execution_count": 112,
   "metadata": {},
   "outputs": [
    {
     "data": {
      "text/html": [
       "<div>\n",
       "<style scoped>\n",
       "    .dataframe tbody tr th:only-of-type {\n",
       "        vertical-align: middle;\n",
       "    }\n",
       "\n",
       "    .dataframe tbody tr th {\n",
       "        vertical-align: top;\n",
       "    }\n",
       "\n",
       "    .dataframe thead th {\n",
       "        text-align: right;\n",
       "    }\n",
       "</style>\n",
       "<table border=\"1\" class=\"dataframe\">\n",
       "  <thead>\n",
       "    <tr style=\"text-align: right;\">\n",
       "      <th></th>\n",
       "      <th>YearOfObservation</th>\n",
       "      <th>Insured_Period</th>\n",
       "      <th>Residential</th>\n",
       "      <th>Building Dimension</th>\n",
       "      <th>Building_Type</th>\n",
       "      <th>Date_of_Occupancy</th>\n",
       "    </tr>\n",
       "  </thead>\n",
       "  <tbody>\n",
       "    <tr>\n",
       "      <td>count</td>\n",
       "      <td>3069.000000</td>\n",
       "      <td>3069.000000</td>\n",
       "      <td>3069.000000</td>\n",
       "      <td>3056.000000</td>\n",
       "      <td>3069.000000</td>\n",
       "      <td>2341.000000</td>\n",
       "    </tr>\n",
       "    <tr>\n",
       "      <td>mean</td>\n",
       "      <td>2013.593679</td>\n",
       "      <td>0.922806</td>\n",
       "      <td>0.224177</td>\n",
       "      <td>1666.790576</td>\n",
       "      <td>2.359400</td>\n",
       "      <td>1966.781717</td>\n",
       "    </tr>\n",
       "    <tr>\n",
       "      <td>std</td>\n",
       "      <td>1.372138</td>\n",
       "      <td>0.219066</td>\n",
       "      <td>0.417107</td>\n",
       "      <td>2251.180599</td>\n",
       "      <td>0.998464</td>\n",
       "      <td>25.238702</td>\n",
       "    </tr>\n",
       "    <tr>\n",
       "      <td>min</td>\n",
       "      <td>2012.000000</td>\n",
       "      <td>0.000000</td>\n",
       "      <td>0.000000</td>\n",
       "      <td>1.000000</td>\n",
       "      <td>1.000000</td>\n",
       "      <td>1750.000000</td>\n",
       "    </tr>\n",
       "    <tr>\n",
       "      <td>25%</td>\n",
       "      <td>2012.000000</td>\n",
       "      <td>1.000000</td>\n",
       "      <td>0.000000</td>\n",
       "      <td>470.000000</td>\n",
       "      <td>2.000000</td>\n",
       "      <td>1960.000000</td>\n",
       "    </tr>\n",
       "    <tr>\n",
       "      <td>50%</td>\n",
       "      <td>2013.000000</td>\n",
       "      <td>1.000000</td>\n",
       "      <td>0.000000</td>\n",
       "      <td>900.000000</td>\n",
       "      <td>2.000000</td>\n",
       "      <td>1968.000000</td>\n",
       "    </tr>\n",
       "    <tr>\n",
       "      <td>75%</td>\n",
       "      <td>2015.000000</td>\n",
       "      <td>1.000000</td>\n",
       "      <td>0.000000</td>\n",
       "      <td>1957.000000</td>\n",
       "      <td>3.000000</td>\n",
       "      <td>1980.000000</td>\n",
       "    </tr>\n",
       "    <tr>\n",
       "      <td>max</td>\n",
       "      <td>2016.000000</td>\n",
       "      <td>1.000000</td>\n",
       "      <td>1.000000</td>\n",
       "      <td>30745.000000</td>\n",
       "      <td>4.000000</td>\n",
       "      <td>2012.000000</td>\n",
       "    </tr>\n",
       "  </tbody>\n",
       "</table>\n",
       "</div>"
      ],
      "text/plain": [
       "       YearOfObservation  Insured_Period  Residential  Building Dimension  \\\n",
       "count        3069.000000     3069.000000  3069.000000         3056.000000   \n",
       "mean         2013.593679        0.922806     0.224177         1666.790576   \n",
       "std             1.372138        0.219066     0.417107         2251.180599   \n",
       "min          2012.000000        0.000000     0.000000            1.000000   \n",
       "25%          2012.000000        1.000000     0.000000          470.000000   \n",
       "50%          2013.000000        1.000000     0.000000          900.000000   \n",
       "75%          2015.000000        1.000000     0.000000         1957.000000   \n",
       "max          2016.000000        1.000000     1.000000        30745.000000   \n",
       "\n",
       "       Building_Type  Date_of_Occupancy  \n",
       "count    3069.000000        2341.000000  \n",
       "mean        2.359400        1966.781717  \n",
       "std         0.998464          25.238702  \n",
       "min         1.000000        1750.000000  \n",
       "25%         2.000000        1960.000000  \n",
       "50%         2.000000        1968.000000  \n",
       "75%         3.000000        1980.000000  \n",
       "max         4.000000        2012.000000  "
      ]
     },
     "execution_count": 112,
     "metadata": {},
     "output_type": "execute_result"
    }
   ],
   "source": [
    "test.describe(include=['number'])"
   ]
  },
  {
   "cell_type": "code",
   "execution_count": 113,
   "metadata": {},
   "outputs": [],
   "source": [
    "test['NumberOfWindows'] = test['NumberOfWindows'].str.replace('.','0')\n",
    "test['NumberOfWindows'] = test['NumberOfWindows'].map(lambda x: x.lstrip('>='))\n",
    "test['NumberOfWindows']= test['NumberOfWindows'].astype(str).astype(int)"
   ]
  },
  {
   "cell_type": "code",
   "execution_count": 114,
   "metadata": {},
   "outputs": [],
   "source": [
    "test['Building Dimension'].fillna(test['Building Dimension'].mean(),inplace=True)"
   ]
  },
  {
   "cell_type": "code",
   "execution_count": 115,
   "metadata": {},
   "outputs": [],
   "source": [
    "from sklearn.preprocessing import LabelEncoder\n",
    "\n",
    "lb = LabelEncoder() \n",
    "\n",
    "for column in test[['Building_Painted','Building_Fenced','Settlement','Garden','Geo_Code']]:\n",
    "    test[column] = lb.fit_transform(test[column])"
   ]
  },
  {
   "cell_type": "code",
   "execution_count": 116,
   "metadata": {},
   "outputs": [],
   "source": [
    "X_train = X\n",
    "X_test = test \n",
    "y_train = y"
   ]
  },
  {
   "cell_type": "code",
   "execution_count": 121,
   "metadata": {},
   "outputs": [
    {
     "data": {
      "text/plain": [
       "XGBClassifier(alpha=10, base_score=0.5, booster='gbtree', colsample_bylevel=1,\n",
       "              colsample_bynode=1, colsample_bytree=1, gamma=0,\n",
       "              learning_rate=0.09, max_delta_step=0, max_depth=5,\n",
       "              min_child_weight=1, missing=None, n_estimators=200, n_jobs=1,\n",
       "              nthread=None, objective='binary:logistic', random_state=0,\n",
       "              reg_alpha=0, reg_lambda=1, scale_pos_weight=1, seed=None,\n",
       "              silent=None, subsample=1, verbosity=1)"
      ]
     },
     "execution_count": 121,
     "metadata": {},
     "output_type": "execute_result"
    }
   ],
   "source": [
    "# Import XGBClassifier\n",
    "from xgboost import XGBClassifier\n",
    "\n",
    "\n",
    "# Declare parameters\n",
    "params = {\n",
    "            'objective':'binary:logistic',\n",
    "            'max_depth': 5,\n",
    "            'alpha': 10,\n",
    "            'learning_rate': 0.09,\n",
    "            'n_estimators':200\n",
    "        }\n",
    "            \n",
    "            \n",
    "            \n",
    "# Instantiate the classifier \n",
    "xgb_clf = XGBClassifier(**params)\n",
    "\n",
    "\n",
    "\n",
    "# Fit the classifier to the training data\n",
    "xgb_clf.fit(X_train, y_train)"
   ]
  },
  {
   "cell_type": "code",
   "execution_count": 123,
   "metadata": {},
   "outputs": [],
   "source": [
    "pred = xgb_clf.predict(X_test)"
   ]
  },
  {
   "cell_type": "code",
   "execution_count": 128,
   "metadata": {},
   "outputs": [],
   "source": [
    "pred=pd.DataFrame(pred)\n",
    "\n",
    "sub_df=pd.read_csv('/Users/lukabeverin/Documents/Zindi/Nigeria Insurance/test_data.csv')\n",
    "\n",
    "submission=pd.concat([sub_df['Customer Id'],pred],axis=1)\n",
    "\n",
    "submission.columns=['Customer Id','Claim']\n",
    "\n",
    "submission.to_csv('submission_insurance.csv', index=False)"
   ]
  },
  {
   "cell_type": "code",
   "execution_count": 127,
   "metadata": {},
   "outputs": [
    {
     "data": {
      "text/html": [
       "<div>\n",
       "<style scoped>\n",
       "    .dataframe tbody tr th:only-of-type {\n",
       "        vertical-align: middle;\n",
       "    }\n",
       "\n",
       "    .dataframe tbody tr th {\n",
       "        vertical-align: top;\n",
       "    }\n",
       "\n",
       "    .dataframe thead th {\n",
       "        text-align: right;\n",
       "    }\n",
       "</style>\n",
       "<table border=\"1\" class=\"dataframe\">\n",
       "  <thead>\n",
       "    <tr style=\"text-align: right;\">\n",
       "      <th></th>\n",
       "      <th>Customer Id</th>\n",
       "      <th>Claim</th>\n",
       "    </tr>\n",
       "  </thead>\n",
       "  <tbody>\n",
       "    <tr>\n",
       "      <td>0</td>\n",
       "      <td>H11920</td>\n",
       "      <td>0</td>\n",
       "    </tr>\n",
       "    <tr>\n",
       "      <td>1</td>\n",
       "      <td>H11921</td>\n",
       "      <td>0</td>\n",
       "    </tr>\n",
       "    <tr>\n",
       "      <td>2</td>\n",
       "      <td>H9805</td>\n",
       "      <td>0</td>\n",
       "    </tr>\n",
       "    <tr>\n",
       "      <td>3</td>\n",
       "      <td>H7493</td>\n",
       "      <td>0</td>\n",
       "    </tr>\n",
       "    <tr>\n",
       "      <td>4</td>\n",
       "      <td>H7494</td>\n",
       "      <td>0</td>\n",
       "    </tr>\n",
       "    <tr>\n",
       "      <td>...</td>\n",
       "      <td>...</td>\n",
       "      <td>...</td>\n",
       "    </tr>\n",
       "    <tr>\n",
       "      <td>3064</td>\n",
       "      <td>H11583</td>\n",
       "      <td>0</td>\n",
       "    </tr>\n",
       "    <tr>\n",
       "      <td>3065</td>\n",
       "      <td>H11720</td>\n",
       "      <td>0</td>\n",
       "    </tr>\n",
       "    <tr>\n",
       "      <td>3066</td>\n",
       "      <td>H11721</td>\n",
       "      <td>0</td>\n",
       "    </tr>\n",
       "    <tr>\n",
       "      <td>3067</td>\n",
       "      <td>H12408</td>\n",
       "      <td>0</td>\n",
       "    </tr>\n",
       "    <tr>\n",
       "      <td>3068</td>\n",
       "      <td>H9021</td>\n",
       "      <td>0</td>\n",
       "    </tr>\n",
       "  </tbody>\n",
       "</table>\n",
       "<p>3069 rows × 2 columns</p>\n",
       "</div>"
      ],
      "text/plain": [
       "     Customer Id  Claim\n",
       "0         H11920      0\n",
       "1         H11921      0\n",
       "2          H9805      0\n",
       "3          H7493      0\n",
       "4          H7494      0\n",
       "...          ...    ...\n",
       "3064      H11583      0\n",
       "3065      H11720      0\n",
       "3066      H11721      0\n",
       "3067      H12408      0\n",
       "3068       H9021      0\n",
       "\n",
       "[3069 rows x 2 columns]"
      ]
     },
     "execution_count": 127,
     "metadata": {},
     "output_type": "execute_result"
    }
   ],
   "source": [
    "submission"
   ]
  },
  {
   "cell_type": "code",
   "execution_count": 112,
   "metadata": {},
   "outputs": [
    {
     "data": {
      "text/plain": [
       "0.0    0.773263\n",
       "1.0    0.226737\n",
       "Name: Claim, dtype: float64"
      ]
     },
     "execution_count": 112,
     "metadata": {},
     "output_type": "execute_result"
    }
   ],
   "source": []
  },
  {
   "cell_type": "code",
   "execution_count": null,
   "metadata": {},
   "outputs": [],
   "source": []
  }
 ],
 "metadata": {
  "kernelspec": {
   "display_name": "Python 3",
   "language": "python",
   "name": "python3"
  },
  "language_info": {
   "codemirror_mode": {
    "name": "ipython",
    "version": 3
   },
   "file_extension": ".py",
   "mimetype": "text/x-python",
   "name": "python",
   "nbconvert_exporter": "python",
   "pygments_lexer": "ipython3",
   "version": "3.7.4"
  }
 },
 "nbformat": 4,
 "nbformat_minor": 2
}

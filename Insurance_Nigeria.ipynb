{
 "cells": [
  {
   "cell_type": "markdown",
   "metadata": {},
   "source": [
    "# Data Science Nigeria 2019 Challenge: Insurance Prediction"
   ]
  },
  {
   "cell_type": "markdown",
   "metadata": {},
   "source": [
    "## Problem Statement "
   ]
  },
  {
   "cell_type": "markdown",
   "metadata": {},
   "source": [
    "Recently, there has been an increase in the number of building collapse in Lagos and major cities in Nigeria. Olusola Insurance Company offers a building insurance policy that protects buildings against damages that could be caused by a fire or vandalism, by a flood or storm.\n",
    "\n",
    "You have been appointed as the Lead Data Analyst to build a predictive model to determine if a building will have an insurance claim during a certain period or not. You will have to predict the probability of having at least one claim over the insured period of the building.\n",
    "\n",
    "The model will be based on the building characteristics. The target variable, Claim, is a:\n",
    "\n",
    "1 if the building has at least a claim over the insured period.\n",
    "\n",
    "0 if the building doesn’t have a claim over the insured period."
   ]
  },
  {
   "cell_type": "markdown",
   "metadata": {},
   "source": [
    "**Import libraries**"
   ]
  },
  {
   "cell_type": "code",
   "execution_count": 1,
   "metadata": {},
   "outputs": [],
   "source": [
    "import pandas as pd\n",
    "import numpy as np\n",
    "import matplotlib.pyplot as plt\n",
    "import seaborn as sns\n",
    "%matplotlib inline"
   ]
  },
  {
   "cell_type": "markdown",
   "metadata": {},
   "source": [
    "**Import Data**\n",
    "\n",
    "The data can be downloaded on Zindi's competition site:https://zindi.africa/competitions/data-science-nigeria-2019-challenge-1-insurance-prediction/data"
   ]
  },
  {
   "cell_type": "code",
   "execution_count": 38,
   "metadata": {},
   "outputs": [],
   "source": [
    "train = pd.read_csv('/Users/lukabeverin/Documents/Zindi/Nigeria Insurance/train_data.csv')\n",
    "variables = pd.read_csv('/Users/lukabeverin/Documents/Zindi/Nigeria Insurance/VariableDescription.csv')"
   ]
  },
  {
   "cell_type": "markdown",
   "metadata": {},
   "source": [
    "# Explatory Data Analysis "
   ]
  },
  {
   "cell_type": "markdown",
   "metadata": {},
   "source": [
    "Let's explore the variable descriptions."
   ]
  },
  {
   "cell_type": "code",
   "execution_count": 44,
   "metadata": {},
   "outputs": [
    {
     "data": {
      "text/html": [
       "<div>\n",
       "<style scoped>\n",
       "    .dataframe tbody tr th:only-of-type {\n",
       "        vertical-align: middle;\n",
       "    }\n",
       "\n",
       "    .dataframe tbody tr th {\n",
       "        vertical-align: top;\n",
       "    }\n",
       "\n",
       "    .dataframe thead th {\n",
       "        text-align: right;\n",
       "    }\n",
       "</style>\n",
       "<table border=\"1\" class=\"dataframe\">\n",
       "  <thead>\n",
       "    <tr style=\"text-align: right;\">\n",
       "      <th></th>\n",
       "      <th>Variable</th>\n",
       "      <th>Description</th>\n",
       "    </tr>\n",
       "  </thead>\n",
       "  <tbody>\n",
       "    <tr>\n",
       "      <td>0</td>\n",
       "      <td>Customer Id</td>\n",
       "      <td>Identification number for the Policy holder</td>\n",
       "    </tr>\n",
       "    <tr>\n",
       "      <td>1</td>\n",
       "      <td>YearOfObservation</td>\n",
       "      <td>year of observation for the insured policy</td>\n",
       "    </tr>\n",
       "    <tr>\n",
       "      <td>2</td>\n",
       "      <td>Insured_Period</td>\n",
       "      <td>duration of insurance policy in Olusola Insura...</td>\n",
       "    </tr>\n",
       "    <tr>\n",
       "      <td>3</td>\n",
       "      <td>Residential</td>\n",
       "      <td>is the building a residential building or not</td>\n",
       "    </tr>\n",
       "    <tr>\n",
       "      <td>4</td>\n",
       "      <td>Building_Painted</td>\n",
       "      <td>is the building painted or not (N-Painted, V-N...</td>\n",
       "    </tr>\n",
       "  </tbody>\n",
       "</table>\n",
       "</div>"
      ],
      "text/plain": [
       "            Variable                                        Description\n",
       "0        Customer Id        Identification number for the Policy holder\n",
       "1  YearOfObservation         year of observation for the insured policy\n",
       "2     Insured_Period  duration of insurance policy in Olusola Insura...\n",
       "3        Residential      is the building a residential building or not\n",
       "4   Building_Painted  is the building painted or not (N-Painted, V-N..."
      ]
     },
     "execution_count": 44,
     "metadata": {},
     "output_type": "execute_result"
    }
   ],
   "source": [
    "variables.head()"
   ]
  },
  {
   "cell_type": "markdown",
   "metadata": {},
   "source": [
    "And now the data set."
   ]
  },
  {
   "cell_type": "code",
   "execution_count": 4,
   "metadata": {},
   "outputs": [
    {
     "data": {
      "text/html": [
       "<div>\n",
       "<style scoped>\n",
       "    .dataframe tbody tr th:only-of-type {\n",
       "        vertical-align: middle;\n",
       "    }\n",
       "\n",
       "    .dataframe tbody tr th {\n",
       "        vertical-align: top;\n",
       "    }\n",
       "\n",
       "    .dataframe thead th {\n",
       "        text-align: right;\n",
       "    }\n",
       "</style>\n",
       "<table border=\"1\" class=\"dataframe\">\n",
       "  <thead>\n",
       "    <tr style=\"text-align: right;\">\n",
       "      <th></th>\n",
       "      <th>Customer Id</th>\n",
       "      <th>YearOfObservation</th>\n",
       "      <th>Insured_Period</th>\n",
       "      <th>Residential</th>\n",
       "      <th>Building_Painted</th>\n",
       "      <th>Building_Fenced</th>\n",
       "      <th>Garden</th>\n",
       "      <th>Settlement</th>\n",
       "      <th>Building Dimension</th>\n",
       "      <th>Building_Type</th>\n",
       "      <th>Date_of_Occupancy</th>\n",
       "      <th>NumberOfWindows</th>\n",
       "      <th>Geo_Code</th>\n",
       "      <th>Claim</th>\n",
       "    </tr>\n",
       "  </thead>\n",
       "  <tbody>\n",
       "    <tr>\n",
       "      <td>0</td>\n",
       "      <td>H14663</td>\n",
       "      <td>2013</td>\n",
       "      <td>1.0</td>\n",
       "      <td>0</td>\n",
       "      <td>N</td>\n",
       "      <td>V</td>\n",
       "      <td>V</td>\n",
       "      <td>U</td>\n",
       "      <td>290.0</td>\n",
       "      <td>1</td>\n",
       "      <td>1960.0</td>\n",
       "      <td>.</td>\n",
       "      <td>1053</td>\n",
       "      <td>0</td>\n",
       "    </tr>\n",
       "    <tr>\n",
       "      <td>1</td>\n",
       "      <td>H2037</td>\n",
       "      <td>2015</td>\n",
       "      <td>1.0</td>\n",
       "      <td>0</td>\n",
       "      <td>V</td>\n",
       "      <td>N</td>\n",
       "      <td>O</td>\n",
       "      <td>R</td>\n",
       "      <td>490.0</td>\n",
       "      <td>1</td>\n",
       "      <td>1850.0</td>\n",
       "      <td>4</td>\n",
       "      <td>1053</td>\n",
       "      <td>0</td>\n",
       "    </tr>\n",
       "    <tr>\n",
       "      <td>2</td>\n",
       "      <td>H3802</td>\n",
       "      <td>2014</td>\n",
       "      <td>1.0</td>\n",
       "      <td>0</td>\n",
       "      <td>N</td>\n",
       "      <td>V</td>\n",
       "      <td>V</td>\n",
       "      <td>U</td>\n",
       "      <td>595.0</td>\n",
       "      <td>1</td>\n",
       "      <td>1960.0</td>\n",
       "      <td>.</td>\n",
       "      <td>1053</td>\n",
       "      <td>0</td>\n",
       "    </tr>\n",
       "    <tr>\n",
       "      <td>3</td>\n",
       "      <td>H3834</td>\n",
       "      <td>2013</td>\n",
       "      <td>1.0</td>\n",
       "      <td>0</td>\n",
       "      <td>V</td>\n",
       "      <td>V</td>\n",
       "      <td>V</td>\n",
       "      <td>U</td>\n",
       "      <td>2840.0</td>\n",
       "      <td>1</td>\n",
       "      <td>1960.0</td>\n",
       "      <td>.</td>\n",
       "      <td>1053</td>\n",
       "      <td>0</td>\n",
       "    </tr>\n",
       "    <tr>\n",
       "      <td>4</td>\n",
       "      <td>H5053</td>\n",
       "      <td>2014</td>\n",
       "      <td>1.0</td>\n",
       "      <td>0</td>\n",
       "      <td>V</td>\n",
       "      <td>N</td>\n",
       "      <td>O</td>\n",
       "      <td>R</td>\n",
       "      <td>680.0</td>\n",
       "      <td>1</td>\n",
       "      <td>1800.0</td>\n",
       "      <td>3</td>\n",
       "      <td>1053</td>\n",
       "      <td>0</td>\n",
       "    </tr>\n",
       "  </tbody>\n",
       "</table>\n",
       "</div>"
      ],
      "text/plain": [
       "  Customer Id  YearOfObservation  Insured_Period  Residential  \\\n",
       "0      H14663               2013             1.0            0   \n",
       "1       H2037               2015             1.0            0   \n",
       "2       H3802               2014             1.0            0   \n",
       "3       H3834               2013             1.0            0   \n",
       "4       H5053               2014             1.0            0   \n",
       "\n",
       "  Building_Painted Building_Fenced Garden Settlement  Building Dimension  \\\n",
       "0                N               V      V          U               290.0   \n",
       "1                V               N      O          R               490.0   \n",
       "2                N               V      V          U               595.0   \n",
       "3                V               V      V          U              2840.0   \n",
       "4                V               N      O          R               680.0   \n",
       "\n",
       "   Building_Type  Date_of_Occupancy NumberOfWindows Geo_Code  Claim  \n",
       "0              1             1960.0               .     1053      0  \n",
       "1              1             1850.0               4     1053      0  \n",
       "2              1             1960.0               .     1053      0  \n",
       "3              1             1960.0               .     1053      0  \n",
       "4              1             1800.0               3     1053      0  "
      ]
     },
     "execution_count": 4,
     "metadata": {},
     "output_type": "execute_result"
    }
   ],
   "source": [
    "train.head()"
   ]
  },
  {
   "cell_type": "markdown",
   "metadata": {},
   "source": [
    "Set the index to Customer Id"
   ]
  },
  {
   "cell_type": "code",
   "execution_count": 5,
   "metadata": {},
   "outputs": [],
   "source": [
    "train = train.set_index('Customer Id')"
   ]
  },
  {
   "cell_type": "markdown",
   "metadata": {},
   "source": [
    "By calling the shape attribute of the train dataset we observe that there are 7160 observations and 14 columns in the data set"
   ]
  },
  {
   "cell_type": "code",
   "execution_count": 16,
   "metadata": {},
   "outputs": [
    {
     "data": {
      "text/plain": [
       "(7160, 14)"
      ]
     },
     "execution_count": 16,
     "metadata": {},
     "output_type": "execute_result"
    }
   ],
   "source": [
    "train.shape"
   ]
  },
  {
   "cell_type": "markdown",
   "metadata": {},
   "source": [
    "Now we identify the data types of the 14 columns and add it to a dictionary. We then identify missing values of the columns and add the stats to the datadict. Next we identify number of unique values for each column. Also, identify the count for each variable. Finally, rename the 0 column in the datadict."
   ]
  },
  {
   "cell_type": "code",
   "execution_count": 6,
   "metadata": {},
   "outputs": [
    {
     "data": {
      "text/html": [
       "<div>\n",
       "<style scoped>\n",
       "    .dataframe tbody tr th:only-of-type {\n",
       "        vertical-align: middle;\n",
       "    }\n",
       "\n",
       "    .dataframe tbody tr th {\n",
       "        vertical-align: top;\n",
       "    }\n",
       "\n",
       "    .dataframe thead th {\n",
       "        text-align: right;\n",
       "    }\n",
       "</style>\n",
       "<table border=\"1\" class=\"dataframe\">\n",
       "  <thead>\n",
       "    <tr style=\"text-align: right;\">\n",
       "      <th></th>\n",
       "      <th>DataType</th>\n",
       "      <th>MissingVal</th>\n",
       "      <th>NUnique</th>\n",
       "      <th>Count</th>\n",
       "    </tr>\n",
       "  </thead>\n",
       "  <tbody>\n",
       "    <tr>\n",
       "      <td>YearOfObservation</td>\n",
       "      <td>int64</td>\n",
       "      <td>0</td>\n",
       "      <td>5</td>\n",
       "      <td>7160</td>\n",
       "    </tr>\n",
       "    <tr>\n",
       "      <td>Insured_Period</td>\n",
       "      <td>float64</td>\n",
       "      <td>0</td>\n",
       "      <td>401</td>\n",
       "      <td>7160</td>\n",
       "    </tr>\n",
       "    <tr>\n",
       "      <td>Residential</td>\n",
       "      <td>int64</td>\n",
       "      <td>0</td>\n",
       "      <td>2</td>\n",
       "      <td>7160</td>\n",
       "    </tr>\n",
       "    <tr>\n",
       "      <td>Building_Painted</td>\n",
       "      <td>object</td>\n",
       "      <td>0</td>\n",
       "      <td>2</td>\n",
       "      <td>7160</td>\n",
       "    </tr>\n",
       "    <tr>\n",
       "      <td>Building_Fenced</td>\n",
       "      <td>object</td>\n",
       "      <td>0</td>\n",
       "      <td>2</td>\n",
       "      <td>7160</td>\n",
       "    </tr>\n",
       "    <tr>\n",
       "      <td>Garden</td>\n",
       "      <td>object</td>\n",
       "      <td>7</td>\n",
       "      <td>2</td>\n",
       "      <td>7153</td>\n",
       "    </tr>\n",
       "    <tr>\n",
       "      <td>Settlement</td>\n",
       "      <td>object</td>\n",
       "      <td>0</td>\n",
       "      <td>2</td>\n",
       "      <td>7160</td>\n",
       "    </tr>\n",
       "    <tr>\n",
       "      <td>Building Dimension</td>\n",
       "      <td>float64</td>\n",
       "      <td>106</td>\n",
       "      <td>2043</td>\n",
       "      <td>7054</td>\n",
       "    </tr>\n",
       "    <tr>\n",
       "      <td>Building_Type</td>\n",
       "      <td>int64</td>\n",
       "      <td>0</td>\n",
       "      <td>4</td>\n",
       "      <td>7160</td>\n",
       "    </tr>\n",
       "    <tr>\n",
       "      <td>Date_of_Occupancy</td>\n",
       "      <td>float64</td>\n",
       "      <td>508</td>\n",
       "      <td>134</td>\n",
       "      <td>6652</td>\n",
       "    </tr>\n",
       "    <tr>\n",
       "      <td>NumberOfWindows</td>\n",
       "      <td>object</td>\n",
       "      <td>0</td>\n",
       "      <td>11</td>\n",
       "      <td>7160</td>\n",
       "    </tr>\n",
       "    <tr>\n",
       "      <td>Geo_Code</td>\n",
       "      <td>object</td>\n",
       "      <td>102</td>\n",
       "      <td>1307</td>\n",
       "      <td>7058</td>\n",
       "    </tr>\n",
       "    <tr>\n",
       "      <td>Claim</td>\n",
       "      <td>int64</td>\n",
       "      <td>0</td>\n",
       "      <td>2</td>\n",
       "      <td>7160</td>\n",
       "    </tr>\n",
       "  </tbody>\n",
       "</table>\n",
       "</div>"
      ],
      "text/plain": [
       "                   DataType  MissingVal  NUnique  Count\n",
       "YearOfObservation     int64           0        5   7160\n",
       "Insured_Period      float64           0      401   7160\n",
       "Residential           int64           0        2   7160\n",
       "Building_Painted     object           0        2   7160\n",
       "Building_Fenced      object           0        2   7160\n",
       "Garden               object           7        2   7153\n",
       "Settlement           object           0        2   7160\n",
       "Building Dimension  float64         106     2043   7054\n",
       "Building_Type         int64           0        4   7160\n",
       "Date_of_Occupancy   float64         508      134   6652\n",
       "NumberOfWindows      object           0       11   7160\n",
       "Geo_Code             object         102     1307   7058\n",
       "Claim                 int64           0        2   7160"
      ]
     },
     "execution_count": 6,
     "metadata": {},
     "output_type": "execute_result"
    }
   ],
   "source": [
    "#Data types\n",
    "datadict = pd.DataFrame(train.dtypes)\n",
    "#Missing values\n",
    "datadict['MissingVal'] = train.isnull().sum()\n",
    "#Unique values\n",
    "datadict['NUnique']=train.nunique()\n",
    "#Count of variable\n",
    "datadict['Count']=train.count()\n",
    "#Rename 0 to datatype\n",
    "datadict = datadict.rename(columns={0:'DataType'})\n",
    "datadict"
   ]
  },
  {
   "cell_type": "markdown",
   "metadata": {},
   "source": [
    "Having **missing values** in a dataset can cause errors with some machine learning algorithms and either the rows that has missing values should be removed or imputed \n",
    "Imputing refers to using a model to replace missing values.\n",
    "\n",
    "There are many options we could consider when replacing a missing value, for example:\n",
    "\n",
    "1) constant value that has meaning within the domain, such as 0, distinct from all other values.\n",
    "\n",
    "2) value from another randomly selected record.\n",
    "\n",
    "3) mean, median or mode value for the column.\n",
    "\n",
    "4) value estimated by another predictive model.\n",
    "\n",
    "The columns Garden, Building dimension, Date_of_Occupancy and Geo_code have missing values. The 7 missing values from the Garden col are likely to human error and data handling errors. For example, the form given out by the insurance company might not have been clear enough about the description of a 'garden', or customers simply just did not enter this data. We suspect that the missing values from the other columns are due to lack of information from this customers side. Regardless, customers should know the geographical area of their residence. Some form of geo-location technology could help with data capturing with respect to geo codes. It would not be a surprise that many customers do not know their building dimesions or date of occupancy. These values could be replaced by the mean or meadian value for the column. "
   ]
  },
  {
   "cell_type": "markdown",
   "metadata": {},
   "source": [
    "## Descriptive Statistics"
   ]
  },
  {
   "cell_type": "markdown",
   "metadata": {},
   "source": [
    "Discriptive statistics of **object** datatypes"
   ]
  },
  {
   "cell_type": "code",
   "execution_count": 25,
   "metadata": {},
   "outputs": [
    {
     "data": {
      "text/html": [
       "<div>\n",
       "<style scoped>\n",
       "    .dataframe tbody tr th:only-of-type {\n",
       "        vertical-align: middle;\n",
       "    }\n",
       "\n",
       "    .dataframe tbody tr th {\n",
       "        vertical-align: top;\n",
       "    }\n",
       "\n",
       "    .dataframe thead th {\n",
       "        text-align: right;\n",
       "    }\n",
       "</style>\n",
       "<table border=\"1\" class=\"dataframe\">\n",
       "  <thead>\n",
       "    <tr style=\"text-align: right;\">\n",
       "      <th></th>\n",
       "      <th>Building_Painted</th>\n",
       "      <th>Building_Fenced</th>\n",
       "      <th>Garden</th>\n",
       "      <th>Settlement</th>\n",
       "      <th>NumberOfWindows</th>\n",
       "      <th>Geo_Code</th>\n",
       "    </tr>\n",
       "  </thead>\n",
       "  <tbody>\n",
       "    <tr>\n",
       "      <td>count</td>\n",
       "      <td>7160</td>\n",
       "      <td>7160</td>\n",
       "      <td>7153</td>\n",
       "      <td>7160</td>\n",
       "      <td>7160</td>\n",
       "      <td>7058</td>\n",
       "    </tr>\n",
       "    <tr>\n",
       "      <td>unique</td>\n",
       "      <td>2</td>\n",
       "      <td>2</td>\n",
       "      <td>2</td>\n",
       "      <td>2</td>\n",
       "      <td>11</td>\n",
       "      <td>1307</td>\n",
       "    </tr>\n",
       "    <tr>\n",
       "      <td>top</td>\n",
       "      <td>V</td>\n",
       "      <td>N</td>\n",
       "      <td>O</td>\n",
       "      <td>R</td>\n",
       "      <td>.</td>\n",
       "      <td>6088</td>\n",
       "    </tr>\n",
       "    <tr>\n",
       "      <td>freq</td>\n",
       "      <td>5382</td>\n",
       "      <td>3608</td>\n",
       "      <td>3602</td>\n",
       "      <td>3610</td>\n",
       "      <td>3551</td>\n",
       "      <td>143</td>\n",
       "    </tr>\n",
       "  </tbody>\n",
       "</table>\n",
       "</div>"
      ],
      "text/plain": [
       "       Building_Painted Building_Fenced Garden Settlement NumberOfWindows  \\\n",
       "count              7160            7160   7153       7160            7160   \n",
       "unique                2               2      2          2              11   \n",
       "top                   V               N      O          R               .   \n",
       "freq               5382            3608   3602       3610            3551   \n",
       "\n",
       "       Geo_Code  \n",
       "count      7058  \n",
       "unique     1307  \n",
       "top        6088  \n",
       "freq        143  "
      ]
     },
     "execution_count": 25,
     "metadata": {},
     "output_type": "execute_result"
    }
   ],
   "source": [
    "train.describe(include=['object'])"
   ]
  },
  {
   "cell_type": "markdown",
   "metadata": {},
   "source": [
    "Discriptive statistics of **value/number** datatypes"
   ]
  },
  {
   "cell_type": "code",
   "execution_count": 26,
   "metadata": {},
   "outputs": [
    {
     "data": {
      "text/html": [
       "<div>\n",
       "<style scoped>\n",
       "    .dataframe tbody tr th:only-of-type {\n",
       "        vertical-align: middle;\n",
       "    }\n",
       "\n",
       "    .dataframe tbody tr th {\n",
       "        vertical-align: top;\n",
       "    }\n",
       "\n",
       "    .dataframe thead th {\n",
       "        text-align: right;\n",
       "    }\n",
       "</style>\n",
       "<table border=\"1\" class=\"dataframe\">\n",
       "  <thead>\n",
       "    <tr style=\"text-align: right;\">\n",
       "      <th></th>\n",
       "      <th>YearOfObservation</th>\n",
       "      <th>Insured_Period</th>\n",
       "      <th>Residential</th>\n",
       "      <th>Building Dimension</th>\n",
       "      <th>Building_Type</th>\n",
       "      <th>Date_of_Occupancy</th>\n",
       "      <th>Claim</th>\n",
       "    </tr>\n",
       "  </thead>\n",
       "  <tbody>\n",
       "    <tr>\n",
       "      <td>count</td>\n",
       "      <td>7160.000000</td>\n",
       "      <td>7160.000000</td>\n",
       "      <td>7160.000000</td>\n",
       "      <td>7054.000000</td>\n",
       "      <td>7160.000000</td>\n",
       "      <td>6652.000000</td>\n",
       "      <td>7160.000000</td>\n",
       "    </tr>\n",
       "    <tr>\n",
       "      <td>mean</td>\n",
       "      <td>2013.669553</td>\n",
       "      <td>0.909758</td>\n",
       "      <td>0.305447</td>\n",
       "      <td>1883.727530</td>\n",
       "      <td>2.186034</td>\n",
       "      <td>1964.456404</td>\n",
       "      <td>0.228212</td>\n",
       "    </tr>\n",
       "    <tr>\n",
       "      <td>std</td>\n",
       "      <td>1.383769</td>\n",
       "      <td>0.239756</td>\n",
       "      <td>0.460629</td>\n",
       "      <td>2278.157745</td>\n",
       "      <td>0.940632</td>\n",
       "      <td>36.002014</td>\n",
       "      <td>0.419709</td>\n",
       "    </tr>\n",
       "    <tr>\n",
       "      <td>min</td>\n",
       "      <td>2012.000000</td>\n",
       "      <td>0.000000</td>\n",
       "      <td>0.000000</td>\n",
       "      <td>1.000000</td>\n",
       "      <td>1.000000</td>\n",
       "      <td>1545.000000</td>\n",
       "      <td>0.000000</td>\n",
       "    </tr>\n",
       "    <tr>\n",
       "      <td>25%</td>\n",
       "      <td>2012.000000</td>\n",
       "      <td>0.997268</td>\n",
       "      <td>0.000000</td>\n",
       "      <td>528.000000</td>\n",
       "      <td>2.000000</td>\n",
       "      <td>1960.000000</td>\n",
       "      <td>0.000000</td>\n",
       "    </tr>\n",
       "    <tr>\n",
       "      <td>50%</td>\n",
       "      <td>2013.000000</td>\n",
       "      <td>1.000000</td>\n",
       "      <td>0.000000</td>\n",
       "      <td>1083.000000</td>\n",
       "      <td>2.000000</td>\n",
       "      <td>1970.000000</td>\n",
       "      <td>0.000000</td>\n",
       "    </tr>\n",
       "    <tr>\n",
       "      <td>75%</td>\n",
       "      <td>2015.000000</td>\n",
       "      <td>1.000000</td>\n",
       "      <td>1.000000</td>\n",
       "      <td>2289.750000</td>\n",
       "      <td>3.000000</td>\n",
       "      <td>1980.000000</td>\n",
       "      <td>0.000000</td>\n",
       "    </tr>\n",
       "    <tr>\n",
       "      <td>max</td>\n",
       "      <td>2016.000000</td>\n",
       "      <td>1.000000</td>\n",
       "      <td>1.000000</td>\n",
       "      <td>20940.000000</td>\n",
       "      <td>4.000000</td>\n",
       "      <td>2016.000000</td>\n",
       "      <td>1.000000</td>\n",
       "    </tr>\n",
       "  </tbody>\n",
       "</table>\n",
       "</div>"
      ],
      "text/plain": [
       "       YearOfObservation  Insured_Period  Residential  Building Dimension  \\\n",
       "count        7160.000000     7160.000000  7160.000000         7054.000000   \n",
       "mean         2013.669553        0.909758     0.305447         1883.727530   \n",
       "std             1.383769        0.239756     0.460629         2278.157745   \n",
       "min          2012.000000        0.000000     0.000000            1.000000   \n",
       "25%          2012.000000        0.997268     0.000000          528.000000   \n",
       "50%          2013.000000        1.000000     0.000000         1083.000000   \n",
       "75%          2015.000000        1.000000     1.000000         2289.750000   \n",
       "max          2016.000000        1.000000     1.000000        20940.000000   \n",
       "\n",
       "       Building_Type  Date_of_Occupancy        Claim  \n",
       "count    7160.000000        6652.000000  7160.000000  \n",
       "mean        2.186034        1964.456404     0.228212  \n",
       "std         0.940632          36.002014     0.419709  \n",
       "min         1.000000        1545.000000     0.000000  \n",
       "25%         2.000000        1960.000000     0.000000  \n",
       "50%         2.000000        1970.000000     0.000000  \n",
       "75%         3.000000        1980.000000     0.000000  \n",
       "max         4.000000        2016.000000     1.000000  "
      ]
     },
     "execution_count": 26,
     "metadata": {},
     "output_type": "execute_result"
    }
   ],
   "source": [
    "train.describe(include=['number'])"
   ]
  },
  {
   "cell_type": "markdown",
   "metadata": {},
   "source": [
    "## Univariate Data Analysis"
   ]
  },
  {
   "cell_type": "markdown",
   "metadata": {},
   "source": [
    "Let's analyse the **number of claims** in the test data set"
   ]
  },
  {
   "cell_type": "code",
   "execution_count": 27,
   "metadata": {},
   "outputs": [
    {
     "data": {
      "text/plain": [
       "0    0.771788\n",
       "1    0.228212\n",
       "Name: Claim, dtype: float64"
      ]
     },
     "execution_count": 27,
     "metadata": {},
     "output_type": "execute_result"
    }
   ],
   "source": [
    "train.Claim.value_counts(normalize=True)"
   ]
  },
  {
   "cell_type": "markdown",
   "metadata": {},
   "source": [
    "22.82% of customers had at least a claim over the insured period whilst 77.18% did not claim over the insured period."
   ]
  },
  {
   "cell_type": "code",
   "execution_count": 83,
   "metadata": {},
   "outputs": [
    {
     "data": {
      "text/plain": [
       "<matplotlib.axes._subplots.AxesSubplot at 0x12ddb8890>"
      ]
     },
     "execution_count": 83,
     "metadata": {},
     "output_type": "execute_result"
    },
    {
     "data": {
      "image/png": "[encoded data removed]",
      "text/plain": [
       "<Figure size 1152x1008 with 12 Axes>"
      ]
     },
     "metadata": {
      "needs_background": "light"
     },
     "output_type": "display_data"
    }
   ],
   "source": [
    "fig, axes = plt.subplots(4, 3, figsize=(16, 14))\n",
    "# Object data types (categorical)\n",
    "sns.countplot('Claim',data=train,ax=axes[0,0])\n",
    "sns.countplot('Building_Painted',data=train,ax=axes[0,1])\n",
    "sns.countplot('Residential',data=train,ax=axes[0,2])\n",
    "sns.countplot('Building_Fenced',data=train,ax=axes[1,0])\n",
    "sns.countplot('Building_Type',data=train,ax=axes[1,1])\n",
    "sns.countplot('NumberOfWindows',data=train,ax=axes[1,2])\n",
    "sns.countplot('Garden',data=train,ax=axes[2,0])\n",
    "sns.countplot('Settlement',data=train,ax=axes[2,1])\n",
    "sns.countplot('YearOfObservation',data=train,ax=axes[2,2])\n",
    "# Value data types (continious)\n",
    "sns.distplot(train['Insured_Period'].dropna(), kde=True,ax=axes[3,0])\n",
    "sns.distplot(train['Building Dimension'].dropna(),kde=True,ax=axes[3,1])\n",
    "sns.distplot(train['Date_of_Occupancy'].dropna(),kde=True,ax=axes[3,2])"
   ]
  },
  {
   "cell_type": "markdown",
   "metadata": {},
   "source": [
    "### Label Encoding\n",
    "\n",
    "In order for our machine algorithm to perform well we need to transform our categorical daya into data that the trees can understand. Label encoding assigns ordinal integer to different categorical levels of categorical variable.\n",
    "\n",
    "We perform label encoding on the columns 'Building_Painted', 'Building_Fenced', 'Settlement', 'Garden' and 'Geo_Code."
   ]
  },
  {
   "cell_type": "code",
   "execution_count": null,
   "metadata": {},
   "outputs": [],
   "source": [
    "from sklearn.preprocessing import LabelEncoder\n",
    "\n",
    "lb = LabelEncoder() \n",
    "\n",
    "for column in train[['Building_Painted','Building_Fenced','Settlement','Garden','Geo_Code']]:\n",
    "    train[column] = lb.fit_transform(train[column])"
   ]
  },
  {
   "cell_type": "markdown",
   "metadata": {},
   "source": [
    "# Treat Missing Values"
   ]
  },
  {
   "cell_type": "markdown",
   "metadata": {},
   "source": [
    "For the **'Garden'** and **'Geo_Code'** columns, we remove rows that have missing values."
   ]
  },
  {
   "cell_type": "code",
   "execution_count": 7,
   "metadata": {},
   "outputs": [],
   "source": [
    "train = train.dropna(axis=0, subset=['Garden','Geo_Code'])"
   ]
  },
  {
   "cell_type": "markdown",
   "metadata": {},
   "source": [
    "The **'Building Dimension'** column does not have many outliers so we can use the mean value for missing value imputation."
   ]
  },
  {
   "cell_type": "code",
   "execution_count": 9,
   "metadata": {},
   "outputs": [],
   "source": [
    "train['Building Dimension'].fillna(train['Building Dimension'].mean(),inplace=True)"
   ]
  },
  {
   "cell_type": "markdown",
   "metadata": {},
   "source": [
    "The **'Date_of_occupancy'** column does not have a stable distributin. We use the median value for missing value imputation."
   ]
  },
  {
   "cell_type": "code",
   "execution_count": 10,
   "metadata": {},
   "outputs": [],
   "source": [
    "train['Date_of_Occupancy'].fillna(train['Date_of_Occupancy'].median(),inplace=True)"
   ]
  },
  {
   "cell_type": "markdown",
   "metadata": {},
   "source": [
    "Let's quickly check if we have correctly handled all the missing values in the dataset."
   ]
  },
  {
   "cell_type": "code",
   "execution_count": 24,
   "metadata": {},
   "outputs": [
    {
     "data": {
      "text/html": [
       "<div>\n",
       "<style scoped>\n",
       "    .dataframe tbody tr th:only-of-type {\n",
       "        vertical-align: middle;\n",
       "    }\n",
       "\n",
       "    .dataframe tbody tr th {\n",
       "        vertical-align: top;\n",
       "    }\n",
       "\n",
       "    .dataframe thead th {\n",
       "        text-align: right;\n",
       "    }\n",
       "</style>\n",
       "<table border=\"1\" class=\"dataframe\">\n",
       "  <thead>\n",
       "    <tr style=\"text-align: right;\">\n",
       "      <th></th>\n",
       "      <th>DataType</th>\n",
       "      <th>MissingVal</th>\n",
       "    </tr>\n",
       "  </thead>\n",
       "  <tbody>\n",
       "    <tr>\n",
       "      <td>YearOfObservation</td>\n",
       "      <td>int64</td>\n",
       "      <td>0</td>\n",
       "    </tr>\n",
       "    <tr>\n",
       "      <td>Insured_Period</td>\n",
       "      <td>float64</td>\n",
       "      <td>0</td>\n",
       "    </tr>\n",
       "    <tr>\n",
       "      <td>Residential</td>\n",
       "      <td>int64</td>\n",
       "      <td>0</td>\n",
       "    </tr>\n",
       "    <tr>\n",
       "      <td>Building_Painted</td>\n",
       "      <td>int64</td>\n",
       "      <td>0</td>\n",
       "    </tr>\n",
       "    <tr>\n",
       "      <td>Building_Fenced</td>\n",
       "      <td>int64</td>\n",
       "      <td>0</td>\n",
       "    </tr>\n",
       "    <tr>\n",
       "      <td>Garden</td>\n",
       "      <td>int64</td>\n",
       "      <td>0</td>\n",
       "    </tr>\n",
       "    <tr>\n",
       "      <td>Settlement</td>\n",
       "      <td>int64</td>\n",
       "      <td>0</td>\n",
       "    </tr>\n",
       "    <tr>\n",
       "      <td>Building Dimension</td>\n",
       "      <td>float64</td>\n",
       "      <td>0</td>\n",
       "    </tr>\n",
       "    <tr>\n",
       "      <td>Building_Type</td>\n",
       "      <td>int64</td>\n",
       "      <td>0</td>\n",
       "    </tr>\n",
       "    <tr>\n",
       "      <td>Date_of_Occupancy</td>\n",
       "      <td>float64</td>\n",
       "      <td>0</td>\n",
       "    </tr>\n",
       "    <tr>\n",
       "      <td>NumberOfWindows</td>\n",
       "      <td>int64</td>\n",
       "      <td>0</td>\n",
       "    </tr>\n",
       "    <tr>\n",
       "      <td>Geo_Code</td>\n",
       "      <td>object</td>\n",
       "      <td>0</td>\n",
       "    </tr>\n",
       "    <tr>\n",
       "      <td>Claim</td>\n",
       "      <td>int64</td>\n",
       "      <td>0</td>\n",
       "    </tr>\n",
       "  </tbody>\n",
       "</table>\n",
       "</div>"
      ],
      "text/plain": [
       "                   DataType  MissingVal\n",
       "YearOfObservation     int64           0\n",
       "Insured_Period      float64           0\n",
       "Residential           int64           0\n",
       "Building_Painted      int64           0\n",
       "Building_Fenced       int64           0\n",
       "Garden                int64           0\n",
       "Settlement            int64           0\n",
       "Building Dimension  float64           0\n",
       "Building_Type         int64           0\n",
       "Date_of_Occupancy   float64           0\n",
       "NumberOfWindows       int64           0\n",
       "Geo_Code             object           0\n",
       "Claim                 int64           0"
      ]
     },
     "execution_count": 24,
     "metadata": {},
     "output_type": "execute_result"
    }
   ],
   "source": [
    "datadict_new = pd.DataFrame(train.dtypes)\n",
    "datadict_new['MissingVal'] = train.isnull().sum()\n",
    "datadict_new = datadict_new.rename(columns={0:'DataType'})\n",
    "datadict_new"
   ]
  },
  {
   "cell_type": "markdown",
   "metadata": {},
   "source": [
    "## Some more data cleaning"
   ]
  },
  {
   "cell_type": "markdown",
   "metadata": {},
   "source": [
    "In the **'NumberOfWindows'** col we should change '.' to '0'."
   ]
  },
  {
   "cell_type": "code",
   "execution_count": null,
   "metadata": {},
   "outputs": [],
   "source": [
    "train['NumberOfWindows'] = train['NumberOfWindows'].str.replace('.','0')"
   ]
  },
  {
   "cell_type": "markdown",
   "metadata": {},
   "source": [
    "We notice that the column 'NumberOfWindows' has a variable with '>=10'. During the data acquisition phase we should be more clear with our inputs. Since there are very few houses with more than 10 windows, we will include all windows more than 10 into the value of 10. This is not a very accurate method because we do not have enough information about houses with more than 10 windows. However, this data cleaning method is required for the machine learning algorithm."
   ]
  },
  {
   "cell_type": "code",
   "execution_count": null,
   "metadata": {},
   "outputs": [],
   "source": [
    "train['NumberOfWindows'] = train['NumberOfWindows'].map(lambda x: x.lstrip('>='))\n",
    "train['NumberOfWindows']= train['NumberOfWindows'].astype(str).astype(int)"
   ]
  },
  {
   "cell_type": "markdown",
   "metadata": {},
   "source": [
    "## Plot the data once again"
   ]
  },
  {
   "cell_type": "code",
   "execution_count": 21,
   "metadata": {},
   "outputs": [
    {
     "data": {
      "text/plain": [
       "<matplotlib.axes._subplots.AxesSubplot at 0x12f4e1d90>"
      ]
     },
     "execution_count": 21,
     "metadata": {},
     "output_type": "execute_result"
    },
    {
     "data": {
      "image/png": "[encoded data removed]",
      "text/plain": [
       "<Figure size 1152x1008 with 12 Axes>"
      ]
     },
     "metadata": {
      "needs_background": "light"
     },
     "output_type": "display_data"
    }
   ],
   "source": [
    "fig, axes = plt.subplots(4, 3, figsize=(16, 14))\n",
    "# Object data types (categorical)\n",
    "sns.countplot('Claim',data=train,ax=axes[0,0])\n",
    "sns.countplot('Building_Painted',data=train,ax=axes[0,1])\n",
    "sns.countplot('Residential',data=train,ax=axes[0,2])\n",
    "sns.countplot('Building_Fenced',data=train,ax=axes[1,0])\n",
    "sns.countplot('Building_Type',data=train,ax=axes[1,1])\n",
    "sns.countplot('NumberOfWindows',data=train,ax=axes[1,2])\n",
    "sns.countplot('Garden',data=train,ax=axes[2,0])\n",
    "sns.countplot('Settlement',data=train,ax=axes[2,1])\n",
    "sns.countplot('YearOfObservation',data=train,ax=axes[2,2])\n",
    "# Value data types (continious)\n",
    "sns.distplot(train['Insured_Period'].dropna(), kde=True,ax=axes[3,0])\n",
    "sns.distplot(train['Building Dimension'].dropna(),kde=True,ax=axes[3,1])\n",
    "sns.distplot(train['Date_of_Occupancy'].dropna(),kde=True,ax=axes[3,2])"
   ]
  },
  {
   "cell_type": "markdown",
   "metadata": {},
   "source": [
    "## Bivariate Data Analysis"
   ]
  },
  {
   "cell_type": "code",
   "execution_count": 14,
   "metadata": {},
   "outputs": [
    {
     "data": {
      "text/plain": [
       "<matplotlib.axes._subplots.AxesSubplot at 0x123ede210>"
      ]
     },
     "execution_count": 14,
     "metadata": {},
     "output_type": "execute_result"
    },
    {
     "data": {
      "image/png": "[encoded data removed]",
      "text/plain": [
       "<Figure size 1152x720 with 8 Axes>"
      ]
     },
     "metadata": {
      "needs_background": "light"
     },
     "output_type": "display_data"
    }
   ],
   "source": [
    "figbi, axesbi = plt.subplots(2, 4, figsize=(16, 10))\n",
    "train.groupby('Building_Painted')['Claim'].mean().plot(kind='barh',ax=axesbi[0,0],xlim=[0,1])\n",
    "train.groupby('Residential')['Claim'].mean().plot(kind='barh',ax=axesbi[0,1],xlim=[0,1])\n",
    "train.groupby('Building_Fenced')['Claim'].mean().plot(kind='barh',ax=axesbi[0,2],xlim=[0,1])\n",
    "train.groupby('Building_Type')['Claim'].mean().plot(kind='barh',ax=axesbi[0,3],xlim=[0,1])\n",
    "train.groupby('NumberOfWindows')['Claim'].mean().plot(kind='barh',ax=axesbi[1,0],xlim=[0,1])\n",
    "train.groupby('Garden')['Claim'].mean().plot(kind='barh',ax=axesbi[1,1],xlim=[0,1])\n",
    "train.groupby('Settlement')['Claim'].mean().plot(kind='barh',ax=axesbi[1,2],xlim=[0,1])\n",
    "train.groupby('YearOfObservation')['Claim'].mean().plot(kind='barh',ax=axesbi[1,3],xlim=[0,1])"
   ]
  },
  {
   "cell_type": "markdown",
   "metadata": {},
   "source": [
    "Most variables seem evenly distributed amongst claims and no claims. However, we notice that for there is a a strong relationship between the number of windows and claims. Furthermore, Building type 4 has ever so slightly more claims than than the other building types."
   ]
  },
  {
   "cell_type": "markdown",
   "metadata": {},
   "source": [
    "## Correlation Heatmap of continuous variables"
   ]
  },
  {
   "cell_type": "code",
   "execution_count": 15,
   "metadata": {},
   "outputs": [
    {
     "data": {
      "text/plain": [
       "<matplotlib.axes._subplots.AxesSubplot at 0x124125810>"
      ]
     },
     "execution_count": 15,
     "metadata": {},
     "output_type": "execute_result"
    },
    {
     "data": {
      "image/png": "[encoded data removed]",
      "text/plain": [
       "<Figure size 432x288 with 2 Axes>"
      ]
     },
     "metadata": {
      "needs_background": "light"
     },
     "output_type": "display_data"
    }
   ],
   "source": [
    "import seaborn as sns\n",
    "\n",
    "corr = train.corr()\n",
    "\n",
    "# plot the heatmap\n",
    "sns.heatmap(corr, \n",
    "        xticklabels=corr.columns,\n",
    "        yticklabels=corr.columns)"
   ]
  },
  {
   "cell_type": "code",
   "execution_count": 16,
   "metadata": {},
   "outputs": [
    {
     "data": {
      "text/html": [
       "<style  type=\"text/css\" >\n",
       "    #T_ca1aeea8_6e01_11ea_83f9_787b8ae106a6row0_col0 {\n",
       "            background-color:  #b40426;\n",
       "            color:  #f1f1f1;\n",
       "        }    #T_ca1aeea8_6e01_11ea_83f9_787b8ae106a6row0_col1 {\n",
       "            background-color:  #506bda;\n",
       "            color:  #000000;\n",
       "        }    #T_ca1aeea8_6e01_11ea_83f9_787b8ae106a6row0_col2 {\n",
       "            background-color:  #485fd1;\n",
       "            color:  #f1f1f1;\n",
       "        }    #T_ca1aeea8_6e01_11ea_83f9_787b8ae106a6row0_col3 {\n",
       "            background-color:  #c3d5f4;\n",
       "            color:  #000000;\n",
       "        }    #T_ca1aeea8_6e01_11ea_83f9_787b8ae106a6row0_col4 {\n",
       "            background-color:  #9dbdff;\n",
       "            color:  #000000;\n",
       "        }    #T_ca1aeea8_6e01_11ea_83f9_787b8ae106a6row0_col5 {\n",
       "            background-color:  #9dbdff;\n",
       "            color:  #000000;\n",
       "        }    #T_ca1aeea8_6e01_11ea_83f9_787b8ae106a6row0_col6 {\n",
       "            background-color:  #9ebeff;\n",
       "            color:  #000000;\n",
       "        }    #T_ca1aeea8_6e01_11ea_83f9_787b8ae106a6row0_col7 {\n",
       "            background-color:  #6180e9;\n",
       "            color:  #000000;\n",
       "        }    #T_ca1aeea8_6e01_11ea_83f9_787b8ae106a6row0_col8 {\n",
       "            background-color:  #6282ea;\n",
       "            color:  #000000;\n",
       "        }    #T_ca1aeea8_6e01_11ea_83f9_787b8ae106a6row0_col9 {\n",
       "            background-color:  #5875e1;\n",
       "            color:  #000000;\n",
       "        }    #T_ca1aeea8_6e01_11ea_83f9_787b8ae106a6row0_col10 {\n",
       "            background-color:  #445acc;\n",
       "            color:  #f1f1f1;\n",
       "        }    #T_ca1aeea8_6e01_11ea_83f9_787b8ae106a6row1_col0 {\n",
       "            background-color:  #6384eb;\n",
       "            color:  #000000;\n",
       "        }    #T_ca1aeea8_6e01_11ea_83f9_787b8ae106a6row1_col1 {\n",
       "            background-color:  #b40426;\n",
       "            color:  #f1f1f1;\n",
       "        }    #T_ca1aeea8_6e01_11ea_83f9_787b8ae106a6row1_col2 {\n",
       "            background-color:  #485fd1;\n",
       "            color:  #f1f1f1;\n",
       "        }    #T_ca1aeea8_6e01_11ea_83f9_787b8ae106a6row1_col3 {\n",
       "            background-color:  #afcafc;\n",
       "            color:  #000000;\n",
       "        }    #T_ca1aeea8_6e01_11ea_83f9_787b8ae106a6row1_col4 {\n",
       "            background-color:  #adc9fd;\n",
       "            color:  #000000;\n",
       "        }    #T_ca1aeea8_6e01_11ea_83f9_787b8ae106a6row1_col5 {\n",
       "            background-color:  #adc9fd;\n",
       "            color:  #000000;\n",
       "        }    #T_ca1aeea8_6e01_11ea_83f9_787b8ae106a6row1_col6 {\n",
       "            background-color:  #adc9fd;\n",
       "            color:  #000000;\n",
       "        }    #T_ca1aeea8_6e01_11ea_83f9_787b8ae106a6row1_col7 {\n",
       "            background-color:  #6180e9;\n",
       "            color:  #000000;\n",
       "        }    #T_ca1aeea8_6e01_11ea_83f9_787b8ae106a6row1_col8 {\n",
       "            background-color:  #5a78e4;\n",
       "            color:  #000000;\n",
       "        }    #T_ca1aeea8_6e01_11ea_83f9_787b8ae106a6row1_col9 {\n",
       "            background-color:  #5e7de7;\n",
       "            color:  #000000;\n",
       "        }    #T_ca1aeea8_6e01_11ea_83f9_787b8ae106a6row1_col10 {\n",
       "            background-color:  #6384eb;\n",
       "            color:  #000000;\n",
       "        }    #T_ca1aeea8_6e01_11ea_83f9_787b8ae106a6row2_col0 {\n",
       "            background-color:  #4f69d9;\n",
       "            color:  #000000;\n",
       "        }    #T_ca1aeea8_6e01_11ea_83f9_787b8ae106a6row2_col1 {\n",
       "            background-color:  #3c4ec2;\n",
       "            color:  #f1f1f1;\n",
       "        }    #T_ca1aeea8_6e01_11ea_83f9_787b8ae106a6row2_col2 {\n",
       "            background-color:  #b40426;\n",
       "            color:  #f1f1f1;\n",
       "        }    #T_ca1aeea8_6e01_11ea_83f9_787b8ae106a6row2_col3 {\n",
       "            background-color:  #afcafc;\n",
       "            color:  #000000;\n",
       "        }    #T_ca1aeea8_6e01_11ea_83f9_787b8ae106a6row2_col4 {\n",
       "            background-color:  #a5c3fe;\n",
       "            color:  #000000;\n",
       "        }    #T_ca1aeea8_6e01_11ea_83f9_787b8ae106a6row2_col5 {\n",
       "            background-color:  #a5c3fe;\n",
       "            color:  #000000;\n",
       "        }    #T_ca1aeea8_6e01_11ea_83f9_787b8ae106a6row2_col6 {\n",
       "            background-color:  #a5c3fe;\n",
       "            color:  #000000;\n",
       "        }    #T_ca1aeea8_6e01_11ea_83f9_787b8ae106a6row2_col7 {\n",
       "            background-color:  #6f92f3;\n",
       "            color:  #000000;\n",
       "        }    #T_ca1aeea8_6e01_11ea_83f9_787b8ae106a6row2_col8 {\n",
       "            background-color:  #c5d6f2;\n",
       "            color:  #000000;\n",
       "        }    #T_ca1aeea8_6e01_11ea_83f9_787b8ae106a6row2_col9 {\n",
       "            background-color:  #5673e0;\n",
       "            color:  #000000;\n",
       "        }    #T_ca1aeea8_6e01_11ea_83f9_787b8ae106a6row2_col10 {\n",
       "            background-color:  #5d7ce6;\n",
       "            color:  #000000;\n",
       "        }    #T_ca1aeea8_6e01_11ea_83f9_787b8ae106a6row3_col0 {\n",
       "            background-color:  #6c8ff1;\n",
       "            color:  #000000;\n",
       "        }    #T_ca1aeea8_6e01_11ea_83f9_787b8ae106a6row3_col1 {\n",
       "            background-color:  #3d50c3;\n",
       "            color:  #f1f1f1;\n",
       "        }    #T_ca1aeea8_6e01_11ea_83f9_787b8ae106a6row3_col2 {\n",
       "            background-color:  #4961d2;\n",
       "            color:  #f1f1f1;\n",
       "        }    #T_ca1aeea8_6e01_11ea_83f9_787b8ae106a6row3_col3 {\n",
       "            background-color:  #b40426;\n",
       "            color:  #f1f1f1;\n",
       "        }    #T_ca1aeea8_6e01_11ea_83f9_787b8ae106a6row3_col4 {\n",
       "            background-color:  #3b4cc0;\n",
       "            color:  #f1f1f1;\n",
       "        }    #T_ca1aeea8_6e01_11ea_83f9_787b8ae106a6row3_col5 {\n",
       "            background-color:  #3b4cc0;\n",
       "            color:  #f1f1f1;\n",
       "        }    #T_ca1aeea8_6e01_11ea_83f9_787b8ae106a6row3_col6 {\n",
       "            background-color:  #3b4cc0;\n",
       "            color:  #f1f1f1;\n",
       "        }    #T_ca1aeea8_6e01_11ea_83f9_787b8ae106a6row3_col7 {\n",
       "            background-color:  #7a9df8;\n",
       "            color:  #000000;\n",
       "        }    #T_ca1aeea8_6e01_11ea_83f9_787b8ae106a6row3_col8 {\n",
       "            background-color:  #536edd;\n",
       "            color:  #000000;\n",
       "        }    #T_ca1aeea8_6e01_11ea_83f9_787b8ae106a6row3_col9 {\n",
       "            background-color:  #455cce;\n",
       "            color:  #f1f1f1;\n",
       "        }    #T_ca1aeea8_6e01_11ea_83f9_787b8ae106a6row3_col10 {\n",
       "            background-color:  #536edd;\n",
       "            color:  #000000;\n",
       "        }    #T_ca1aeea8_6e01_11ea_83f9_787b8ae106a6row4_col0 {\n",
       "            background-color:  #3b4cc0;\n",
       "            color:  #f1f1f1;\n",
       "        }    #T_ca1aeea8_6e01_11ea_83f9_787b8ae106a6row4_col1 {\n",
       "            background-color:  #3b4cc0;\n",
       "            color:  #f1f1f1;\n",
       "        }    #T_ca1aeea8_6e01_11ea_83f9_787b8ae106a6row4_col2 {\n",
       "            background-color:  #3b4cc0;\n",
       "            color:  #f1f1f1;\n",
       "        }    #T_ca1aeea8_6e01_11ea_83f9_787b8ae106a6row4_col3 {\n",
       "            background-color:  #3b4cc0;\n",
       "            color:  #f1f1f1;\n",
       "        }    #T_ca1aeea8_6e01_11ea_83f9_787b8ae106a6row4_col4 {\n",
       "            background-color:  #b40426;\n",
       "            color:  #f1f1f1;\n",
       "        }    #T_ca1aeea8_6e01_11ea_83f9_787b8ae106a6row4_col5 {\n",
       "            background-color:  #b40426;\n",
       "            color:  #f1f1f1;\n",
       "        }    #T_ca1aeea8_6e01_11ea_83f9_787b8ae106a6row4_col6 {\n",
       "            background-color:  #b40426;\n",
       "            color:  #f1f1f1;\n",
       "        }    #T_ca1aeea8_6e01_11ea_83f9_787b8ae106a6row4_col7 {\n",
       "            background-color:  #3b4cc0;\n",
       "            color:  #f1f1f1;\n",
       "        }    #T_ca1aeea8_6e01_11ea_83f9_787b8ae106a6row4_col8 {\n",
       "            background-color:  #5b7ae5;\n",
       "            color:  #000000;\n",
       "        }    #T_ca1aeea8_6e01_11ea_83f9_787b8ae106a6row4_col9 {\n",
       "            background-color:  #97b8ff;\n",
       "            color:  #000000;\n",
       "        }    #T_ca1aeea8_6e01_11ea_83f9_787b8ae106a6row4_col10 {\n",
       "            background-color:  #3b4cc0;\n",
       "            color:  #f1f1f1;\n",
       "        }    #T_ca1aeea8_6e01_11ea_83f9_787b8ae106a6row5_col0 {\n",
       "            background-color:  #3b4cc0;\n",
       "            color:  #f1f1f1;\n",
       "        }    #T_ca1aeea8_6e01_11ea_83f9_787b8ae106a6row5_col1 {\n",
       "            background-color:  #3b4cc0;\n",
       "            color:  #f1f1f1;\n",
       "        }    #T_ca1aeea8_6e01_11ea_83f9_787b8ae106a6row5_col2 {\n",
       "            background-color:  #3b4cc0;\n",
       "            color:  #f1f1f1;\n",
       "        }    #T_ca1aeea8_6e01_11ea_83f9_787b8ae106a6row5_col3 {\n",
       "            background-color:  #3b4cc0;\n",
       "            color:  #f1f1f1;\n",
       "        }    #T_ca1aeea8_6e01_11ea_83f9_787b8ae106a6row5_col4 {\n",
       "            background-color:  #b40426;\n",
       "            color:  #f1f1f1;\n",
       "        }    #T_ca1aeea8_6e01_11ea_83f9_787b8ae106a6row5_col5 {\n",
       "            background-color:  #b40426;\n",
       "            color:  #f1f1f1;\n",
       "        }    #T_ca1aeea8_6e01_11ea_83f9_787b8ae106a6row5_col6 {\n",
       "            background-color:  #b40426;\n",
       "            color:  #f1f1f1;\n",
       "        }    #T_ca1aeea8_6e01_11ea_83f9_787b8ae106a6row5_col7 {\n",
       "            background-color:  #3b4cc0;\n",
       "            color:  #f1f1f1;\n",
       "        }    #T_ca1aeea8_6e01_11ea_83f9_787b8ae106a6row5_col8 {\n",
       "            background-color:  #5b7ae5;\n",
       "            color:  #000000;\n",
       "        }    #T_ca1aeea8_6e01_11ea_83f9_787b8ae106a6row5_col9 {\n",
       "            background-color:  #97b8ff;\n",
       "            color:  #000000;\n",
       "        }    #T_ca1aeea8_6e01_11ea_83f9_787b8ae106a6row5_col10 {\n",
       "            background-color:  #3b4cc0;\n",
       "            color:  #f1f1f1;\n",
       "        }    #T_ca1aeea8_6e01_11ea_83f9_787b8ae106a6row6_col0 {\n",
       "            background-color:  #3b4cc0;\n",
       "            color:  #f1f1f1;\n",
       "        }    #T_ca1aeea8_6e01_11ea_83f9_787b8ae106a6row6_col1 {\n",
       "            background-color:  #3b4cc0;\n",
       "            color:  #f1f1f1;\n",
       "        }    #T_ca1aeea8_6e01_11ea_83f9_787b8ae106a6row6_col2 {\n",
       "            background-color:  #3b4cc0;\n",
       "            color:  #f1f1f1;\n",
       "        }    #T_ca1aeea8_6e01_11ea_83f9_787b8ae106a6row6_col3 {\n",
       "            background-color:  #3b4cc0;\n",
       "            color:  #f1f1f1;\n",
       "        }    #T_ca1aeea8_6e01_11ea_83f9_787b8ae106a6row6_col4 {\n",
       "            background-color:  #b40426;\n",
       "            color:  #f1f1f1;\n",
       "        }    #T_ca1aeea8_6e01_11ea_83f9_787b8ae106a6row6_col5 {\n",
       "            background-color:  #b40426;\n",
       "            color:  #f1f1f1;\n",
       "        }    #T_ca1aeea8_6e01_11ea_83f9_787b8ae106a6row6_col6 {\n",
       "            background-color:  #b40426;\n",
       "            color:  #f1f1f1;\n",
       "        }    #T_ca1aeea8_6e01_11ea_83f9_787b8ae106a6row6_col7 {\n",
       "            background-color:  #3b4cc0;\n",
       "            color:  #f1f1f1;\n",
       "        }    #T_ca1aeea8_6e01_11ea_83f9_787b8ae106a6row6_col8 {\n",
       "            background-color:  #5b7ae5;\n",
       "            color:  #000000;\n",
       "        }    #T_ca1aeea8_6e01_11ea_83f9_787b8ae106a6row6_col9 {\n",
       "            background-color:  #97b8ff;\n",
       "            color:  #000000;\n",
       "        }    #T_ca1aeea8_6e01_11ea_83f9_787b8ae106a6row6_col10 {\n",
       "            background-color:  #3b4cc0;\n",
       "            color:  #f1f1f1;\n",
       "        }    #T_ca1aeea8_6e01_11ea_83f9_787b8ae106a6row7_col0 {\n",
       "            background-color:  #5d7ce6;\n",
       "            color:  #000000;\n",
       "        }    #T_ca1aeea8_6e01_11ea_83f9_787b8ae106a6row7_col1 {\n",
       "            background-color:  #4961d2;\n",
       "            color:  #f1f1f1;\n",
       "        }    #T_ca1aeea8_6e01_11ea_83f9_787b8ae106a6row7_col2 {\n",
       "            background-color:  #6384eb;\n",
       "            color:  #000000;\n",
       "        }    #T_ca1aeea8_6e01_11ea_83f9_787b8ae106a6row7_col3 {\n",
       "            background-color:  #c9d7f0;\n",
       "            color:  #000000;\n",
       "        }    #T_ca1aeea8_6e01_11ea_83f9_787b8ae106a6row7_col4 {\n",
       "            background-color:  #9abbff;\n",
       "            color:  #000000;\n",
       "        }    #T_ca1aeea8_6e01_11ea_83f9_787b8ae106a6row7_col5 {\n",
       "            background-color:  #9abbff;\n",
       "            color:  #000000;\n",
       "        }    #T_ca1aeea8_6e01_11ea_83f9_787b8ae106a6row7_col6 {\n",
       "            background-color:  #9abbff;\n",
       "            color:  #000000;\n",
       "        }    #T_ca1aeea8_6e01_11ea_83f9_787b8ae106a6row7_col7 {\n",
       "            background-color:  #b40426;\n",
       "            color:  #f1f1f1;\n",
       "        }    #T_ca1aeea8_6e01_11ea_83f9_787b8ae106a6row7_col8 {\n",
       "            background-color:  #6384eb;\n",
       "            color:  #000000;\n",
       "        }    #T_ca1aeea8_6e01_11ea_83f9_787b8ae106a6row7_col9 {\n",
       "            background-color:  #9ebeff;\n",
       "            color:  #000000;\n",
       "        }    #T_ca1aeea8_6e01_11ea_83f9_787b8ae106a6row7_col10 {\n",
       "            background-color:  #a9c6fd;\n",
       "            color:  #000000;\n",
       "        }    #T_ca1aeea8_6e01_11ea_83f9_787b8ae106a6row8_col0 {\n",
       "            background-color:  #5d7ce6;\n",
       "            color:  #000000;\n",
       "        }    #T_ca1aeea8_6e01_11ea_83f9_787b8ae106a6row8_col1 {\n",
       "            background-color:  #4055c8;\n",
       "            color:  #f1f1f1;\n",
       "        }    #T_ca1aeea8_6e01_11ea_83f9_787b8ae106a6row8_col2 {\n",
       "            background-color:  #bcd2f7;\n",
       "            color:  #000000;\n",
       "        }    #T_ca1aeea8_6e01_11ea_83f9_787b8ae106a6row8_col3 {\n",
       "            background-color:  #adc9fd;\n",
       "            color:  #000000;\n",
       "        }    #T_ca1aeea8_6e01_11ea_83f9_787b8ae106a6row8_col4 {\n",
       "            background-color:  #b2ccfb;\n",
       "            color:  #000000;\n",
       "        }    #T_ca1aeea8_6e01_11ea_83f9_787b8ae106a6row8_col5 {\n",
       "            background-color:  #b2ccfb;\n",
       "            color:  #000000;\n",
       "        }    #T_ca1aeea8_6e01_11ea_83f9_787b8ae106a6row8_col6 {\n",
       "            background-color:  #b3cdfb;\n",
       "            color:  #000000;\n",
       "        }    #T_ca1aeea8_6e01_11ea_83f9_787b8ae106a6row8_col7 {\n",
       "            background-color:  #6180e9;\n",
       "            color:  #000000;\n",
       "        }    #T_ca1aeea8_6e01_11ea_83f9_787b8ae106a6row8_col8 {\n",
       "            background-color:  #b40426;\n",
       "            color:  #f1f1f1;\n",
       "        }    #T_ca1aeea8_6e01_11ea_83f9_787b8ae106a6row8_col9 {\n",
       "            background-color:  #3b4cc0;\n",
       "            color:  #f1f1f1;\n",
       "        }    #T_ca1aeea8_6e01_11ea_83f9_787b8ae106a6row8_col10 {\n",
       "            background-color:  #6b8df0;\n",
       "            color:  #000000;\n",
       "        }    #T_ca1aeea8_6e01_11ea_83f9_787b8ae106a6row9_col0 {\n",
       "            background-color:  #536edd;\n",
       "            color:  #000000;\n",
       "        }    #T_ca1aeea8_6e01_11ea_83f9_787b8ae106a6row9_col1 {\n",
       "            background-color:  #445acc;\n",
       "            color:  #f1f1f1;\n",
       "        }    #T_ca1aeea8_6e01_11ea_83f9_787b8ae106a6row9_col2 {\n",
       "            background-color:  #4961d2;\n",
       "            color:  #f1f1f1;\n",
       "        }    #T_ca1aeea8_6e01_11ea_83f9_787b8ae106a6row9_col3 {\n",
       "            background-color:  #a2c1ff;\n",
       "            color:  #000000;\n",
       "        }    #T_ca1aeea8_6e01_11ea_83f9_787b8ae106a6row9_col4 {\n",
       "            background-color:  #d8dce2;\n",
       "            color:  #000000;\n",
       "        }    #T_ca1aeea8_6e01_11ea_83f9_787b8ae106a6row9_col5 {\n",
       "            background-color:  #d8dce2;\n",
       "            color:  #000000;\n",
       "        }    #T_ca1aeea8_6e01_11ea_83f9_787b8ae106a6row9_col6 {\n",
       "            background-color:  #d8dce2;\n",
       "            color:  #000000;\n",
       "        }    #T_ca1aeea8_6e01_11ea_83f9_787b8ae106a6row9_col7 {\n",
       "            background-color:  #9bbcff;\n",
       "            color:  #000000;\n",
       "        }    #T_ca1aeea8_6e01_11ea_83f9_787b8ae106a6row9_col8 {\n",
       "            background-color:  #3b4cc0;\n",
       "            color:  #f1f1f1;\n",
       "        }    #T_ca1aeea8_6e01_11ea_83f9_787b8ae106a6row9_col9 {\n",
       "            background-color:  #b40426;\n",
       "            color:  #f1f1f1;\n",
       "        }    #T_ca1aeea8_6e01_11ea_83f9_787b8ae106a6row9_col10 {\n",
       "            background-color:  #4e68d8;\n",
       "            color:  #000000;\n",
       "        }    #T_ca1aeea8_6e01_11ea_83f9_787b8ae106a6row10_col0 {\n",
       "            background-color:  #5673e0;\n",
       "            color:  #000000;\n",
       "        }    #T_ca1aeea8_6e01_11ea_83f9_787b8ae106a6row10_col1 {\n",
       "            background-color:  #6282ea;\n",
       "            color:  #000000;\n",
       "        }    #T_ca1aeea8_6e01_11ea_83f9_787b8ae106a6row10_col2 {\n",
       "            background-color:  #6687ed;\n",
       "            color:  #000000;\n",
       "        }    #T_ca1aeea8_6e01_11ea_83f9_787b8ae106a6row10_col3 {\n",
       "            background-color:  #bcd2f7;\n",
       "            color:  #000000;\n",
       "        }    #T_ca1aeea8_6e01_11ea_83f9_787b8ae106a6row10_col4 {\n",
       "            background-color:  #abc8fd;\n",
       "            color:  #000000;\n",
       "        }    #T_ca1aeea8_6e01_11ea_83f9_787b8ae106a6row10_col5 {\n",
       "            background-color:  #abc8fd;\n",
       "            color:  #000000;\n",
       "        }    #T_ca1aeea8_6e01_11ea_83f9_787b8ae106a6row10_col6 {\n",
       "            background-color:  #abc8fd;\n",
       "            color:  #000000;\n",
       "        }    #T_ca1aeea8_6e01_11ea_83f9_787b8ae106a6row10_col7 {\n",
       "            background-color:  #b9d0f9;\n",
       "            color:  #000000;\n",
       "        }    #T_ca1aeea8_6e01_11ea_83f9_787b8ae106a6row10_col8 {\n",
       "            background-color:  #82a6fb;\n",
       "            color:  #000000;\n",
       "        }    #T_ca1aeea8_6e01_11ea_83f9_787b8ae106a6row10_col9 {\n",
       "            background-color:  #6687ed;\n",
       "            color:  #000000;\n",
       "        }    #T_ca1aeea8_6e01_11ea_83f9_787b8ae106a6row10_col10 {\n",
       "            background-color:  #b40426;\n",
       "            color:  #f1f1f1;\n",
       "        }</style><table id=\"T_ca1aeea8_6e01_11ea_83f9_787b8ae106a6\" ><thead>    <tr>        <th class=\"blank level0\" ></th>        <th class=\"col_heading level0 col0\" >YearOfObservation</th>        <th class=\"col_heading level0 col1\" >Insured_Period</th>        <th class=\"col_heading level0 col2\" >Residential</th>        <th class=\"col_heading level0 col3\" >Building_Painted</th>        <th class=\"col_heading level0 col4\" >Building_Fenced</th>        <th class=\"col_heading level0 col5\" >Garden</th>        <th class=\"col_heading level0 col6\" >Settlement</th>        <th class=\"col_heading level0 col7\" >Building Dimension</th>        <th class=\"col_heading level0 col8\" >Building_Type</th>        <th class=\"col_heading level0 col9\" >Date_of_Occupancy</th>        <th class=\"col_heading level0 col10\" >Claim</th>    </tr></thead><tbody>\n",
       "                <tr>\n",
       "                        <th id=\"T_ca1aeea8_6e01_11ea_83f9_787b8ae106a6level0_row0\" class=\"row_heading level0 row0\" >YearOfObservation</th>\n",
       "                        <td id=\"T_ca1aeea8_6e01_11ea_83f9_787b8ae106a6row0_col0\" class=\"data row0 col0\" >1</td>\n",
       "                        <td id=\"T_ca1aeea8_6e01_11ea_83f9_787b8ae106a6row0_col1\" class=\"data row0 col1\" >0.029</td>\n",
       "                        <td id=\"T_ca1aeea8_6e01_11ea_83f9_787b8ae106a6row0_col2\" class=\"data row0 col2\" >-0.039</td>\n",
       "                        <td id=\"T_ca1aeea8_6e01_11ea_83f9_787b8ae106a6row0_col3\" class=\"data row0 col3\" >0.06</td>\n",
       "                        <td id=\"T_ca1aeea8_6e01_11ea_83f9_787b8ae106a6row0_col4\" class=\"data row0 col4\" >-0.12</td>\n",
       "                        <td id=\"T_ca1aeea8_6e01_11ea_83f9_787b8ae106a6row0_col5\" class=\"data row0 col5\" >-0.12</td>\n",
       "                        <td id=\"T_ca1aeea8_6e01_11ea_83f9_787b8ae106a6row0_col6\" class=\"data row0 col6\" >-0.12</td>\n",
       "                        <td id=\"T_ca1aeea8_6e01_11ea_83f9_787b8ae106a6row0_col7\" class=\"data row0 col7\" >0.009</td>\n",
       "                        <td id=\"T_ca1aeea8_6e01_11ea_83f9_787b8ae106a6row0_col8\" class=\"data row0 col8\" >0.006</td>\n",
       "                        <td id=\"T_ca1aeea8_6e01_11ea_83f9_787b8ae106a6row0_col9\" class=\"data row0 col9\" >-0.029</td>\n",
       "                        <td id=\"T_ca1aeea8_6e01_11ea_83f9_787b8ae106a6row0_col10\" class=\"data row0 col10\" >-0.015</td>\n",
       "            </tr>\n",
       "            <tr>\n",
       "                        <th id=\"T_ca1aeea8_6e01_11ea_83f9_787b8ae106a6level0_row1\" class=\"row_heading level0 row1\" >Insured_Period</th>\n",
       "                        <td id=\"T_ca1aeea8_6e01_11ea_83f9_787b8ae106a6row1_col0\" class=\"data row1 col0\" >0.029</td>\n",
       "                        <td id=\"T_ca1aeea8_6e01_11ea_83f9_787b8ae106a6row1_col1\" class=\"data row1 col1\" >1</td>\n",
       "                        <td id=\"T_ca1aeea8_6e01_11ea_83f9_787b8ae106a6row1_col2\" class=\"data row1 col2\" >-0.039</td>\n",
       "                        <td id=\"T_ca1aeea8_6e01_11ea_83f9_787b8ae106a6row1_col3\" class=\"data row1 col3\" >-0.036</td>\n",
       "                        <td id=\"T_ca1aeea8_6e01_11ea_83f9_787b8ae106a6row1_col4\" class=\"data row1 col4\" >-0.045</td>\n",
       "                        <td id=\"T_ca1aeea8_6e01_11ea_83f9_787b8ae106a6row1_col5\" class=\"data row1 col5\" >-0.045</td>\n",
       "                        <td id=\"T_ca1aeea8_6e01_11ea_83f9_787b8ae106a6row1_col6\" class=\"data row1 col6\" >-0.045</td>\n",
       "                        <td id=\"T_ca1aeea8_6e01_11ea_83f9_787b8ae106a6row1_col7\" class=\"data row1 col7\" >0.0072</td>\n",
       "                        <td id=\"T_ca1aeea8_6e01_11ea_83f9_787b8ae106a6row1_col8\" class=\"data row1 col8\" >-0.022</td>\n",
       "                        <td id=\"T_ca1aeea8_6e01_11ea_83f9_787b8ae106a6row1_col9\" class=\"data row1 col9\" >-0.0089</td>\n",
       "                        <td id=\"T_ca1aeea8_6e01_11ea_83f9_787b8ae106a6row1_col10\" class=\"data row1 col10\" >0.087</td>\n",
       "            </tr>\n",
       "            <tr>\n",
       "                        <th id=\"T_ca1aeea8_6e01_11ea_83f9_787b8ae106a6level0_row2\" class=\"row_heading level0 row2\" >Residential</th>\n",
       "                        <td id=\"T_ca1aeea8_6e01_11ea_83f9_787b8ae106a6row2_col0\" class=\"data row2 col0\" >-0.039</td>\n",
       "                        <td id=\"T_ca1aeea8_6e01_11ea_83f9_787b8ae106a6row2_col1\" class=\"data row2 col1\" >-0.039</td>\n",
       "                        <td id=\"T_ca1aeea8_6e01_11ea_83f9_787b8ae106a6row2_col2\" class=\"data row2 col2\" >1</td>\n",
       "                        <td id=\"T_ca1aeea8_6e01_11ea_83f9_787b8ae106a6row2_col3\" class=\"data row2 col3\" >-0.034</td>\n",
       "                        <td id=\"T_ca1aeea8_6e01_11ea_83f9_787b8ae106a6row2_col4\" class=\"data row2 col4\" >-0.086</td>\n",
       "                        <td id=\"T_ca1aeea8_6e01_11ea_83f9_787b8ae106a6row2_col5\" class=\"data row2 col5\" >-0.085</td>\n",
       "                        <td id=\"T_ca1aeea8_6e01_11ea_83f9_787b8ae106a6row2_col6\" class=\"data row2 col6\" >-0.086</td>\n",
       "                        <td id=\"T_ca1aeea8_6e01_11ea_83f9_787b8ae106a6row2_col7\" class=\"data row2 col7\" >0.057</td>\n",
       "                        <td id=\"T_ca1aeea8_6e01_11ea_83f9_787b8ae106a6row2_col8\" class=\"data row2 col8\" >0.33</td>\n",
       "                        <td id=\"T_ca1aeea8_6e01_11ea_83f9_787b8ae106a6row2_col9\" class=\"data row2 col9\" >-0.034</td>\n",
       "                        <td id=\"T_ca1aeea8_6e01_11ea_83f9_787b8ae106a6row2_col10\" class=\"data row2 col10\" >0.064</td>\n",
       "            </tr>\n",
       "            <tr>\n",
       "                        <th id=\"T_ca1aeea8_6e01_11ea_83f9_787b8ae106a6level0_row3\" class=\"row_heading level0 row3\" >Building_Painted</th>\n",
       "                        <td id=\"T_ca1aeea8_6e01_11ea_83f9_787b8ae106a6row3_col0\" class=\"data row3 col0\" >0.06</td>\n",
       "                        <td id=\"T_ca1aeea8_6e01_11ea_83f9_787b8ae106a6row3_col1\" class=\"data row3 col1\" >-0.036</td>\n",
       "                        <td id=\"T_ca1aeea8_6e01_11ea_83f9_787b8ae106a6row3_col2\" class=\"data row3 col2\" >-0.034</td>\n",
       "                        <td id=\"T_ca1aeea8_6e01_11ea_83f9_787b8ae106a6row3_col3\" class=\"data row3 col3\" >1</td>\n",
       "                        <td id=\"T_ca1aeea8_6e01_11ea_83f9_787b8ae106a6row3_col4\" class=\"data row3 col4\" >-0.59</td>\n",
       "                        <td id=\"T_ca1aeea8_6e01_11ea_83f9_787b8ae106a6row3_col5\" class=\"data row3 col5\" >-0.59</td>\n",
       "                        <td id=\"T_ca1aeea8_6e01_11ea_83f9_787b8ae106a6row3_col6\" class=\"data row3 col6\" >-0.59</td>\n",
       "                        <td id=\"T_ca1aeea8_6e01_11ea_83f9_787b8ae106a6row3_col7\" class=\"data row3 col7\" >0.092</td>\n",
       "                        <td id=\"T_ca1aeea8_6e01_11ea_83f9_787b8ae106a6row3_col8\" class=\"data row3 col8\" >-0.046</td>\n",
       "                        <td id=\"T_ca1aeea8_6e01_11ea_83f9_787b8ae106a6row3_col9\" class=\"data row3 col9\" >-0.096</td>\n",
       "                        <td id=\"T_ca1aeea8_6e01_11ea_83f9_787b8ae106a6row3_col10\" class=\"data row3 col10\" >0.031</td>\n",
       "            </tr>\n",
       "            <tr>\n",
       "                        <th id=\"T_ca1aeea8_6e01_11ea_83f9_787b8ae106a6level0_row4\" class=\"row_heading level0 row4\" >Building_Fenced</th>\n",
       "                        <td id=\"T_ca1aeea8_6e01_11ea_83f9_787b8ae106a6row4_col0\" class=\"data row4 col0\" >-0.12</td>\n",
       "                        <td id=\"T_ca1aeea8_6e01_11ea_83f9_787b8ae106a6row4_col1\" class=\"data row4 col1\" >-0.045</td>\n",
       "                        <td id=\"T_ca1aeea8_6e01_11ea_83f9_787b8ae106a6row4_col2\" class=\"data row4 col2\" >-0.086</td>\n",
       "                        <td id=\"T_ca1aeea8_6e01_11ea_83f9_787b8ae106a6row4_col3\" class=\"data row4 col3\" >-0.59</td>\n",
       "                        <td id=\"T_ca1aeea8_6e01_11ea_83f9_787b8ae106a6row4_col4\" class=\"data row4 col4\" >1</td>\n",
       "                        <td id=\"T_ca1aeea8_6e01_11ea_83f9_787b8ae106a6row4_col5\" class=\"data row4 col5\" >1</td>\n",
       "                        <td id=\"T_ca1aeea8_6e01_11ea_83f9_787b8ae106a6row4_col6\" class=\"data row4 col6\" >1</td>\n",
       "                        <td id=\"T_ca1aeea8_6e01_11ea_83f9_787b8ae106a6row4_col7\" class=\"data row4 col7\" >-0.13</td>\n",
       "                        <td id=\"T_ca1aeea8_6e01_11ea_83f9_787b8ae106a6row4_col8\" class=\"data row4 col8\" >-0.018</td>\n",
       "                        <td id=\"T_ca1aeea8_6e01_11ea_83f9_787b8ae106a6row4_col9\" class=\"data row4 col9\" >0.18</td>\n",
       "                        <td id=\"T_ca1aeea8_6e01_11ea_83f9_787b8ae106a6row4_col10\" class=\"data row4 col10\" >-0.051</td>\n",
       "            </tr>\n",
       "            <tr>\n",
       "                        <th id=\"T_ca1aeea8_6e01_11ea_83f9_787b8ae106a6level0_row5\" class=\"row_heading level0 row5\" >Garden</th>\n",
       "                        <td id=\"T_ca1aeea8_6e01_11ea_83f9_787b8ae106a6row5_col0\" class=\"data row5 col0\" >-0.12</td>\n",
       "                        <td id=\"T_ca1aeea8_6e01_11ea_83f9_787b8ae106a6row5_col1\" class=\"data row5 col1\" >-0.045</td>\n",
       "                        <td id=\"T_ca1aeea8_6e01_11ea_83f9_787b8ae106a6row5_col2\" class=\"data row5 col2\" >-0.085</td>\n",
       "                        <td id=\"T_ca1aeea8_6e01_11ea_83f9_787b8ae106a6row5_col3\" class=\"data row5 col3\" >-0.59</td>\n",
       "                        <td id=\"T_ca1aeea8_6e01_11ea_83f9_787b8ae106a6row5_col4\" class=\"data row5 col4\" >1</td>\n",
       "                        <td id=\"T_ca1aeea8_6e01_11ea_83f9_787b8ae106a6row5_col5\" class=\"data row5 col5\" >1</td>\n",
       "                        <td id=\"T_ca1aeea8_6e01_11ea_83f9_787b8ae106a6row5_col6\" class=\"data row5 col6\" >1</td>\n",
       "                        <td id=\"T_ca1aeea8_6e01_11ea_83f9_787b8ae106a6row5_col7\" class=\"data row5 col7\" >-0.13</td>\n",
       "                        <td id=\"T_ca1aeea8_6e01_11ea_83f9_787b8ae106a6row5_col8\" class=\"data row5 col8\" >-0.018</td>\n",
       "                        <td id=\"T_ca1aeea8_6e01_11ea_83f9_787b8ae106a6row5_col9\" class=\"data row5 col9\" >0.18</td>\n",
       "                        <td id=\"T_ca1aeea8_6e01_11ea_83f9_787b8ae106a6row5_col10\" class=\"data row5 col10\" >-0.051</td>\n",
       "            </tr>\n",
       "            <tr>\n",
       "                        <th id=\"T_ca1aeea8_6e01_11ea_83f9_787b8ae106a6level0_row6\" class=\"row_heading level0 row6\" >Settlement</th>\n",
       "                        <td id=\"T_ca1aeea8_6e01_11ea_83f9_787b8ae106a6row6_col0\" class=\"data row6 col0\" >-0.12</td>\n",
       "                        <td id=\"T_ca1aeea8_6e01_11ea_83f9_787b8ae106a6row6_col1\" class=\"data row6 col1\" >-0.045</td>\n",
       "                        <td id=\"T_ca1aeea8_6e01_11ea_83f9_787b8ae106a6row6_col2\" class=\"data row6 col2\" >-0.086</td>\n",
       "                        <td id=\"T_ca1aeea8_6e01_11ea_83f9_787b8ae106a6row6_col3\" class=\"data row6 col3\" >-0.59</td>\n",
       "                        <td id=\"T_ca1aeea8_6e01_11ea_83f9_787b8ae106a6row6_col4\" class=\"data row6 col4\" >1</td>\n",
       "                        <td id=\"T_ca1aeea8_6e01_11ea_83f9_787b8ae106a6row6_col5\" class=\"data row6 col5\" >1</td>\n",
       "                        <td id=\"T_ca1aeea8_6e01_11ea_83f9_787b8ae106a6row6_col6\" class=\"data row6 col6\" >1</td>\n",
       "                        <td id=\"T_ca1aeea8_6e01_11ea_83f9_787b8ae106a6row6_col7\" class=\"data row6 col7\" >-0.13</td>\n",
       "                        <td id=\"T_ca1aeea8_6e01_11ea_83f9_787b8ae106a6row6_col8\" class=\"data row6 col8\" >-0.018</td>\n",
       "                        <td id=\"T_ca1aeea8_6e01_11ea_83f9_787b8ae106a6row6_col9\" class=\"data row6 col9\" >0.18</td>\n",
       "                        <td id=\"T_ca1aeea8_6e01_11ea_83f9_787b8ae106a6row6_col10\" class=\"data row6 col10\" >-0.051</td>\n",
       "            </tr>\n",
       "            <tr>\n",
       "                        <th id=\"T_ca1aeea8_6e01_11ea_83f9_787b8ae106a6level0_row7\" class=\"row_heading level0 row7\" >Building Dimension</th>\n",
       "                        <td id=\"T_ca1aeea8_6e01_11ea_83f9_787b8ae106a6row7_col0\" class=\"data row7 col0\" >0.009</td>\n",
       "                        <td id=\"T_ca1aeea8_6e01_11ea_83f9_787b8ae106a6row7_col1\" class=\"data row7 col1\" >0.0072</td>\n",
       "                        <td id=\"T_ca1aeea8_6e01_11ea_83f9_787b8ae106a6row7_col2\" class=\"data row7 col2\" >0.057</td>\n",
       "                        <td id=\"T_ca1aeea8_6e01_11ea_83f9_787b8ae106a6row7_col3\" class=\"data row7 col3\" >0.092</td>\n",
       "                        <td id=\"T_ca1aeea8_6e01_11ea_83f9_787b8ae106a6row7_col4\" class=\"data row7 col4\" >-0.13</td>\n",
       "                        <td id=\"T_ca1aeea8_6e01_11ea_83f9_787b8ae106a6row7_col5\" class=\"data row7 col5\" >-0.13</td>\n",
       "                        <td id=\"T_ca1aeea8_6e01_11ea_83f9_787b8ae106a6row7_col6\" class=\"data row7 col6\" >-0.13</td>\n",
       "                        <td id=\"T_ca1aeea8_6e01_11ea_83f9_787b8ae106a6row7_col7\" class=\"data row7 col7\" >1</td>\n",
       "                        <td id=\"T_ca1aeea8_6e01_11ea_83f9_787b8ae106a6row7_col8\" class=\"data row7 col8\" >0.0079</td>\n",
       "                        <td id=\"T_ca1aeea8_6e01_11ea_83f9_787b8ae106a6row7_col9\" class=\"data row7 col9\" >0.2</td>\n",
       "                        <td id=\"T_ca1aeea8_6e01_11ea_83f9_787b8ae106a6row7_col10\" class=\"data row7 col10\" >0.3</td>\n",
       "            </tr>\n",
       "            <tr>\n",
       "                        <th id=\"T_ca1aeea8_6e01_11ea_83f9_787b8ae106a6level0_row8\" class=\"row_heading level0 row8\" >Building_Type</th>\n",
       "                        <td id=\"T_ca1aeea8_6e01_11ea_83f9_787b8ae106a6row8_col0\" class=\"data row8 col0\" >0.006</td>\n",
       "                        <td id=\"T_ca1aeea8_6e01_11ea_83f9_787b8ae106a6row8_col1\" class=\"data row8 col1\" >-0.022</td>\n",
       "                        <td id=\"T_ca1aeea8_6e01_11ea_83f9_787b8ae106a6row8_col2\" class=\"data row8 col2\" >0.33</td>\n",
       "                        <td id=\"T_ca1aeea8_6e01_11ea_83f9_787b8ae106a6row8_col3\" class=\"data row8 col3\" >-0.046</td>\n",
       "                        <td id=\"T_ca1aeea8_6e01_11ea_83f9_787b8ae106a6row8_col4\" class=\"data row8 col4\" >-0.018</td>\n",
       "                        <td id=\"T_ca1aeea8_6e01_11ea_83f9_787b8ae106a6row8_col5\" class=\"data row8 col5\" >-0.018</td>\n",
       "                        <td id=\"T_ca1aeea8_6e01_11ea_83f9_787b8ae106a6row8_col6\" class=\"data row8 col6\" >-0.018</td>\n",
       "                        <td id=\"T_ca1aeea8_6e01_11ea_83f9_787b8ae106a6row8_col7\" class=\"data row8 col7\" >0.0079</td>\n",
       "                        <td id=\"T_ca1aeea8_6e01_11ea_83f9_787b8ae106a6row8_col8\" class=\"data row8 col8\" >1</td>\n",
       "                        <td id=\"T_ca1aeea8_6e01_11ea_83f9_787b8ae106a6row8_col9\" class=\"data row8 col9\" >-0.14</td>\n",
       "                        <td id=\"T_ca1aeea8_6e01_11ea_83f9_787b8ae106a6row8_col10\" class=\"data row8 col10\" >0.11</td>\n",
       "            </tr>\n",
       "            <tr>\n",
       "                        <th id=\"T_ca1aeea8_6e01_11ea_83f9_787b8ae106a6level0_row9\" class=\"row_heading level0 row9\" >Date_of_Occupancy</th>\n",
       "                        <td id=\"T_ca1aeea8_6e01_11ea_83f9_787b8ae106a6row9_col0\" class=\"data row9 col0\" >-0.029</td>\n",
       "                        <td id=\"T_ca1aeea8_6e01_11ea_83f9_787b8ae106a6row9_col1\" class=\"data row9 col1\" >-0.0089</td>\n",
       "                        <td id=\"T_ca1aeea8_6e01_11ea_83f9_787b8ae106a6row9_col2\" class=\"data row9 col2\" >-0.034</td>\n",
       "                        <td id=\"T_ca1aeea8_6e01_11ea_83f9_787b8ae106a6row9_col3\" class=\"data row9 col3\" >-0.096</td>\n",
       "                        <td id=\"T_ca1aeea8_6e01_11ea_83f9_787b8ae106a6row9_col4\" class=\"data row9 col4\" >0.18</td>\n",
       "                        <td id=\"T_ca1aeea8_6e01_11ea_83f9_787b8ae106a6row9_col5\" class=\"data row9 col5\" >0.18</td>\n",
       "                        <td id=\"T_ca1aeea8_6e01_11ea_83f9_787b8ae106a6row9_col6\" class=\"data row9 col6\" >0.18</td>\n",
       "                        <td id=\"T_ca1aeea8_6e01_11ea_83f9_787b8ae106a6row9_col7\" class=\"data row9 col7\" >0.2</td>\n",
       "                        <td id=\"T_ca1aeea8_6e01_11ea_83f9_787b8ae106a6row9_col8\" class=\"data row9 col8\" >-0.14</td>\n",
       "                        <td id=\"T_ca1aeea8_6e01_11ea_83f9_787b8ae106a6row9_col9\" class=\"data row9 col9\" >1</td>\n",
       "                        <td id=\"T_ca1aeea8_6e01_11ea_83f9_787b8ae106a6row9_col10\" class=\"data row9 col10\" >0.017</td>\n",
       "            </tr>\n",
       "            <tr>\n",
       "                        <th id=\"T_ca1aeea8_6e01_11ea_83f9_787b8ae106a6level0_row10\" class=\"row_heading level0 row10\" >Claim</th>\n",
       "                        <td id=\"T_ca1aeea8_6e01_11ea_83f9_787b8ae106a6row10_col0\" class=\"data row10 col0\" >-0.015</td>\n",
       "                        <td id=\"T_ca1aeea8_6e01_11ea_83f9_787b8ae106a6row10_col1\" class=\"data row10 col1\" >0.087</td>\n",
       "                        <td id=\"T_ca1aeea8_6e01_11ea_83f9_787b8ae106a6row10_col2\" class=\"data row10 col2\" >0.064</td>\n",
       "                        <td id=\"T_ca1aeea8_6e01_11ea_83f9_787b8ae106a6row10_col3\" class=\"data row10 col3\" >0.031</td>\n",
       "                        <td id=\"T_ca1aeea8_6e01_11ea_83f9_787b8ae106a6row10_col4\" class=\"data row10 col4\" >-0.051</td>\n",
       "                        <td id=\"T_ca1aeea8_6e01_11ea_83f9_787b8ae106a6row10_col5\" class=\"data row10 col5\" >-0.051</td>\n",
       "                        <td id=\"T_ca1aeea8_6e01_11ea_83f9_787b8ae106a6row10_col6\" class=\"data row10 col6\" >-0.051</td>\n",
       "                        <td id=\"T_ca1aeea8_6e01_11ea_83f9_787b8ae106a6row10_col7\" class=\"data row10 col7\" >0.3</td>\n",
       "                        <td id=\"T_ca1aeea8_6e01_11ea_83f9_787b8ae106a6row10_col8\" class=\"data row10 col8\" >0.11</td>\n",
       "                        <td id=\"T_ca1aeea8_6e01_11ea_83f9_787b8ae106a6row10_col9\" class=\"data row10 col9\" >0.017</td>\n",
       "                        <td id=\"T_ca1aeea8_6e01_11ea_83f9_787b8ae106a6row10_col10\" class=\"data row10 col10\" >1</td>\n",
       "            </tr>\n",
       "    </tbody></table>"
      ],
      "text/plain": [
       "<pandas.io.formats.style.Styler at 0x1240dc790>"
      ]
     },
     "execution_count": 16,
     "metadata": {},
     "output_type": "execute_result"
    }
   ],
   "source": [
    "corr = train.corr()\n",
    "corr.style.background_gradient(cmap='coolwarm').set_precision(2)"
   ]
  },
  {
   "cell_type": "markdown",
   "metadata": {},
   "source": [
    "There are a strong positive correlations between the Building_Fenced, Garden and Settlement variables. This checks out with intuition, for example, if a building has a garden it most likely has a fence and vice versa."
   ]
  },
  {
   "cell_type": "markdown",
   "metadata": {},
   "source": [
    "# XGBoost algorithm\n",
    "\n",
    "### What is XGBoost?\n",
    "\n",
    "**XGBoost** stands for **Extreme Gradient Boosting**. XGBoost is a powerful machine learning algorithm that is dominating the world of applied machine learning and Kaggle competitions. It is an implementation of gradient boosted trees designed for speed and accuracy.\n",
    "\n",
    "XGBoost belongs to a family of boosting algorithms. It uses the gradient boosting (GBM) framework at its core. So, first of all we should know about gradient boosting.\n",
    "\n",
    "\n",
    "#### Gradient boosting\n",
    "\n",
    "Gradient boosting is a supervised machine learning algorithm, which tries to predict a target variable by combining the estimates of a set of simpler, weaker models. In boosting, the trees are built in a sequential manner such that each subsequent tree aims to reduce the errors of the previous tree. The misclassified labels are given higher weights. Each tree learns from its predecessors and tries to reduce the residual errors. So, the tree next in sequence will learn from the previous tree residuals.\n",
    "\n",
    "#### XGBoost\n",
    "\n",
    "In XGBoost, we try to fit a model on the gradient of the loss function generated from the previous step. So, in XGBoost we modified our gradient boosting algorithm so that it works with any differentiable loss function.\n",
    "\n"
   ]
  },
  {
   "cell_type": "markdown",
   "metadata": {},
   "source": [
    "### XGBoost installation"
   ]
  },
  {
   "cell_type": "code",
   "execution_count": 45,
   "metadata": {},
   "outputs": [],
   "source": [
    "import xgboost as xgb"
   ]
  },
  {
   "cell_type": "markdown",
   "metadata": {},
   "source": [
    "### Declare feature vectors and target variable¶"
   ]
  },
  {
   "cell_type": "code",
   "execution_count": 28,
   "metadata": {},
   "outputs": [],
   "source": [
    "# Feature variables \n",
    "X = train.drop('Claim', axis=1) \n",
    "\n",
    "# Target variable\n",
    "y = train['Claim']"
   ]
  },
  {
   "cell_type": "markdown",
   "metadata": {},
   "source": [
    "Next we convert the dataset into an optimized data structure called **Dmatrix** which XGBoost supports and gives it acclaimed performance and efficiency gains. "
   ]
  },
  {
   "cell_type": "code",
   "execution_count": null,
   "metadata": {},
   "outputs": [],
   "source": [
    "data_dmatrix = xgb.DMatrix(data=X,label=y)"
   ]
  },
  {
   "cell_type": "markdown",
   "metadata": {},
   "source": [
    "### Split data into separate training and test set"
   ]
  },
  {
   "cell_type": "code",
   "execution_count": 30,
   "metadata": {},
   "outputs": [],
   "source": [
    "from sklearn.model_selection import train_test_split\n",
    "\n",
    "X_train, X_test, y_train, y_test = train_test_split(X, y, test_size = 0.3, random_state = 0)"
   ]
  },
  {
   "cell_type": "markdown",
   "metadata": {},
   "source": [
    "## Train XGBoost \n",
    "\n",
    "Before running XGBoost, we must set three types of parameters: general parameters, booster parameters and task parameters.\n",
    "\n",
    "-**General parameters** relate to which booster we are using to do boosting, commonly tree or linear model\n",
    "\n",
    "-**Booster parameters** depend on which booster you have chosen\n",
    "\n",
    "-**Learning task parameters** decide on the learning scenario. For example, regression tasks may use different parameters with ranking tasks.\n",
    "\n",
    "-**Command line parameters** relate to behavior of CLI version of XGBoost.\n",
    "\n",
    "More information about XGBoost parameters can be found at: https://xgboost.readthedocs.io/en/latest/parameter.html\n",
    "\n",
    "For the **Learning Task Parameter** we choose the binary:logistic learning objective which is a  logistic regression for binary classification. It outputs probability.\n",
    "\n",
    "For the **Parameters of the Tree Booster** we set max_depth (Maximum depth of a tree) = 4. Increasing this value will make the model more complex and more likely to overfit. Also we set alpha = 10, which is the L1 regularization term on weights. Increasing alpha will make the model more conservative. Next we set the learning_rate/eta = 1. Step size shrinkage used in update to prevents overfitting. After each boosting step, we can directly get the weights of new features, and eta shrinks the feature weights to make the boosting process more conservative. Finally we set n_estimators = 110. It is the number of trees we want to build."
   ]
  },
  {
   "cell_type": "code",
   "execution_count": 69,
   "metadata": {},
   "outputs": [
    {
     "data": {
      "text/plain": [
       "XGBClassifier(alpha=10, base_score=0.5, booster='gbtree', colsample_bylevel=1,\n",
       "              colsample_bynode=1, colsample_bytree=1, gamma=0,\n",
       "              learning_rate=1.0, max_delta_step=0, max_depth=5,\n",
       "              min_child_weight=1, missing=None, n_estimators=110, n_jobs=1,\n",
       "              nthread=None, objective='binary:logistic', random_state=0,\n",
       "              reg_alpha=0, reg_lambda=1, scale_pos_weight=1, seed=None,\n",
       "              silent=None, subsample=1, verbosity=1)"
      ]
     },
     "execution_count": 69,
     "metadata": {},
     "output_type": "execute_result"
    }
   ],
   "source": [
    "# Import XGBClassifier\n",
    "from xgboost import XGBClassifier\n",
    "\n",
    "\n",
    "# Declare parameters\n",
    "params = {\n",
    "            'objective':'binary:logistic',\n",
    "            'max_depth': 5,\n",
    "            'alpha': 10,\n",
    "            'learning_rate': 1.0,\n",
    "            'n_estimators':110\n",
    "        }\n",
    "            \n",
    "            \n",
    "            \n",
    "# Instantiate the classifier \n",
    "xgb_clf = XGBClassifier(**params)\n",
    "\n",
    "\n",
    "\n",
    "# Fit the classifier to the training data\n",
    "xgb_clf.fit(X_train, y_train)"
   ]
  },
  {
   "cell_type": "markdown",
   "metadata": {},
   "source": [
    "## Make Predictions\n",
    "Make predictions on our test data."
   ]
  },
  {
   "cell_type": "code",
   "execution_count": 70,
   "metadata": {},
   "outputs": [],
   "source": [
    "y_pred = xgb_clf.predict(X_test)"
   ]
  },
  {
   "cell_type": "markdown",
   "metadata": {},
   "source": [
    "## Check the Accuracy Score"
   ]
  },
  {
   "cell_type": "code",
   "execution_count": 71,
   "metadata": {},
   "outputs": [
    {
     "name": "stdout",
     "output_type": "stream",
     "text": [
      "XGBoost model accuracy score: 0.7391\n"
     ]
    }
   ],
   "source": [
    "from sklearn.metrics import accuracy_score\n",
    "\n",
    "print('XGBoost model accuracy score: {0:0.4f}'. format(accuracy_score(y_test, y_pred)))"
   ]
  },
  {
   "cell_type": "markdown",
   "metadata": {},
   "source": [
    "We can see that XGBoost obtains an accuracy score of **73.91%**"
   ]
  },
  {
   "cell_type": "code",
   "execution_count": 77,
   "metadata": {},
   "outputs": [
    {
     "data": {
      "text/html": [
       "<img src=\"https://i.imgur.com/dcc6Gsmh.jpg\" width=\"320\" height=\"320\"/>"
      ],
      "text/plain": [
       "<IPython.core.display.Image object>"
      ]
     },
     "execution_count": 77,
     "metadata": {},
     "output_type": "execute_result"
    }
   ],
   "source": [
    "from IPython.display import Image\n",
    "from IPython.core.display import HTML \n",
    "Image(url= \"https://i.imgur.com/dcc6Gsmh.jpg\", width=320, height=320)"
   ]
  },
  {
   "cell_type": "markdown",
   "metadata": {},
   "source": [
    "To imporve the accuracy we could investigate the possibility of tuning the other hyperparameters. **Hyperparamter tuning** can be done with the use of the cv function from XGBoost. It allows us to run k-fold cross-validation on our training dataset and can return various validation metrics."
   ]
  },
  {
   "cell_type": "markdown",
   "metadata": {},
   "source": [
    "## Feature Importance \n",
    "\n",
    "XGBoost provides a way to examine the importance of each feature in the original dataset within the model. It involves counting the number of times each feature is split on across all boosting trees in the model. Then we visualize the result as a bar graph, with the features ordered according to how many times they appear."
   ]
  },
  {
   "cell_type": "code",
   "execution_count": 37,
   "metadata": {},
   "outputs": [
    {
     "data": {
      "image/png": "[encoded data removed]",
      "text/plain": [
       "<Figure size 432x288 with 1 Axes>"
      ]
     },
     "metadata": {
      "needs_background": "light"
     },
     "output_type": "display_data"
    }
   ],
   "source": [
    "xgb.plot_importance(xgb_clf)\n",
    "plt.rcParams['figure.figsize'] = [6, 4]\n",
    "plt.show()"
   ]
  },
  {
   "cell_type": "markdown",
   "metadata": {},
   "source": [
    "Notably, the Building dimension is the most import feature with location coming in second. The date of occupancy is also a relatively important feature.\n",
    "\n",
    "More data cleaning could be done in the future, for example we did not have a look at outliers in the data. We suspect there to be outliers in the building dimension variable."
   ]
  },
  {
   "cell_type": "markdown",
   "metadata": {},
   "source": [
    "###### Notebook completed by Luka Beverin"
   ]
  },
  {
   "cell_type": "code",
   "execution_count": null,
   "metadata": {},
   "outputs": [],
   "source": []
  },
  {
   "cell_type": "code",
   "execution_count": null,
   "metadata": {},
   "outputs": [],
   "source": []
  },
  {
   "cell_type": "code",
   "execution_count": null,
   "metadata": {},
   "outputs": [],
   "source": []
  },
  {
   "cell_type": "code",
   "execution_count": null,
   "metadata": {},
   "outputs": [],
   "source": []
  },
  {
   "cell_type": "code",
   "execution_count": null,
   "metadata": {},
   "outputs": [],
   "source": []
  }
 ],
 "metadata": {
  "kernelspec": {
   "display_name": "Python 3",
   "language": "python",
   "name": "python3"
  },
  "language_info": {
   "codemirror_mode": {
    "name": "ipython",
    "version": 3
   },
   "file_extension": ".py",
   "mimetype": "text/x-python",
   "name": "python",
   "nbconvert_exporter": "python",
   "pygments_lexer": "ipython3",
   "version": "3.7.4"
  }
 },
 "nbformat": 4,
 "nbformat_minor": 2
}
